{
 "cells": [
  {
   "cell_type": "markdown",
   "metadata": {
    "ExecuteTime": {
     "end_time": "2017-05-14T19:31:39.264623Z",
     "start_time": "2017-05-14T15:31:39.259201-04:00"
    }
   },
   "source": [
    "\n",
    "# About\n",
    "\n",
    "**Goal:** Extraction, transformation, and load data the ReliefWeb API.\n",
    "\n",
    "**API:** http://reliefweb.int/help/api\n",
    "\n",
    "**Situation:** \n",
    "An organization wants to explore reports from the ReliefWebAPI. Write a script to extract, transform, and load meta data from the API. Use text from popular sources as terms for search queries.\n",
    "\n",
    "**Actions:**\n",
    "\n",
    "- Connect to the ReliefWebAPI.\n",
    "- Systematically search and download meta data.\n",
    "- Preprocess data into tabular format.\n",
    "\n",
    "**Audience:** Intermediate level Tensorflow users."
   ]
  },
  {
   "cell_type": "code",
   "execution_count": 1,
   "metadata": {
    "ExecuteTime": {
     "end_time": "2017-05-15T14:59:53.873419Z",
     "start_time": "2017-05-15T10:59:52.359841-04:00"
    },
    "collapsed": true
   },
   "outputs": [],
   "source": [
    "import pandas as pd\n",
    "# import warnings\n",
    "# warnings.filterwarnings(\"ignore\")\n",
    "import json\n",
    "from urllib.request import urlopen\n",
    "import codecs\n",
    "import csv\n",
    "import os\n",
    "import nltk\n",
    "from nltk.stem import WordNetLemmatizer\n",
    "from nltk.corpus import stopwords\n",
    "from IPython.display import HTML\n",
    "\n",
    "# Pandas Printing Options\n",
    "pd.set_option('display.float_format', lambda x: '%.3f' % x)\n",
    "pd.set_option('display.max_rows', 500)\n",
    "pd.set_option('display.max_columns', 500)\n",
    "pd.set_option('display.width', 5000)"
   ]
  },
  {
   "cell_type": "markdown",
   "metadata": {},
   "source": [
    "# What is the ReliefWeb API?"
   ]
  },
  {
   "cell_type": "code",
   "execution_count": 13,
   "metadata": {
    "ExecuteTime": {
     "end_time": "2017-05-15T15:21:27.327103Z",
     "start_time": "2017-05-15T11:21:27.322996-04:00"
    }
   },
   "outputs": [
    {
     "data": {
      "text/html": [
       "<iframe src='http://reliefweb.int/help/api' width=1000 height=300></iframe>"
      ],
      "text/plain": [
       "<IPython.core.display.HTML object>"
      ]
     },
     "execution_count": 13,
     "metadata": {},
     "output_type": "execute_result"
    }
   ],
   "source": [
    "HTML(\"<iframe src='http://reliefweb.int/help/api' width=1000 height=300></iframe>\")"
   ]
  },
  {
   "cell_type": "code",
   "execution_count": 2,
   "metadata": {
    "ExecuteTime": {
     "end_time": "2017-05-14T19:23:41.405314Z",
     "start_time": "2017-05-14T15:23:41.400858-04:00"
    },
    "collapsed": true
   },
   "outputs": [],
   "source": [
    "# set-up\n",
    "stoplist = stopwords.words('english')\n",
    "query = \"http://api.rwlabs.org/v1/reports?query[value]={}&limit=1000&filter[field]=headline&fields[include][]=headline.summary&fields[include][]=theme.name&fields[include][]=date\""
   ]
  },
  {
   "cell_type": "markdown",
   "metadata": {},
   "source": [
    "# Millennium Development Goals"
   ]
  },
  {
   "cell_type": "code",
   "execution_count": 14,
   "metadata": {
    "ExecuteTime": {
     "end_time": "2017-05-15T15:22:01.316125Z",
     "start_time": "2017-05-15T11:22:01.312196-04:00"
    }
   },
   "outputs": [
    {
     "data": {
      "text/html": [
       "<iframe src='https://en.wikipedia.org/wiki/Millennium_Development_Goals' width=1000 height=300 zoom=80></iframe>"
      ],
      "text/plain": [
       "<IPython.core.display.HTML object>"
      ]
     },
     "execution_count": 14,
     "metadata": {},
     "output_type": "execute_result"
    }
   ],
   "source": [
    "HTML(\"<iframe src='https://en.wikipedia.org/wiki/Millennium_Development_Goals' width=1000 height=300 zoom=80></iframe>\")"
   ]
  },
  {
   "cell_type": "markdown",
   "metadata": {},
   "source": [
    "# Universal Declaration of Human Rights"
   ]
  },
  {
   "cell_type": "code",
   "execution_count": 17,
   "metadata": {
    "ExecuteTime": {
     "end_time": "2017-05-15T15:23:45.681610Z",
     "start_time": "2017-05-15T11:23:45.677521-04:00"
    }
   },
   "outputs": [
    {
     "data": {
      "text/html": [
       "<iframe src='http://www.un.org/en/universal-declaration-human-rights/' width=1000 height=300 zoom=80></iframe>"
      ],
      "text/plain": [
       "<IPython.core.display.HTML object>"
      ]
     },
     "execution_count": 17,
     "metadata": {},
     "output_type": "execute_result"
    }
   ],
   "source": [
    "HTML(\"<iframe src='http://www.un.org/en/universal-declaration-human-rights/' width=1000 height=300 zoom=80></iframe>\")"
   ]
  },
  {
   "cell_type": "markdown",
   "metadata": {},
   "source": [
    "# Helper Functions"
   ]
  },
  {
   "cell_type": "code",
   "execution_count": 11,
   "metadata": {
    "ExecuteTime": {
     "end_time": "2017-05-14T19:27:33.503540Z",
     "start_time": "2017-05-14T15:27:33.419659-04:00"
    },
    "collapsed": true
   },
   "outputs": [],
   "source": [
    "def load_and_cleanse(path):\n",
    "    assert (path[-4:] == '.txt')\n",
    "    text = open(path).read()\n",
    "    # tokenize into words\n",
    "    tokens = [\n",
    "        word\n",
    "        for sent in nltk.sent_tokenize(text)\n",
    "        for word in nltk.word_tokenize(sent)\n",
    "    ]\n",
    "    # remove stopwords\n",
    "    stop = stopwords.words('english')\n",
    "    tokens = [token for token in tokens if token not in stop]\n",
    "    # remove words less than three letters\n",
    "    tokens = [word for word in tokens if len(word) >= 3]\n",
    "    # lower capitalization\n",
    "    tokens = [word.lower() for word in tokens]\n",
    "    # lemmatize\n",
    "    lmtzr = WordNetLemmatizer()\n",
    "    tokens = [lmtzr.lemmatize(word) for word in tokens]\n",
    "    preprocessed_text = ' '.join(tokens)\n",
    "    return preprocessed_text\n",
    "\n",
    "\n",
    "def get_request(url_query):\n",
    "    response = urlopen(url_query).read().decode('utf-8')\n",
    "    responseJson = json.loads(response)\n",
    "    return responseJson.get(\"data\")\n",
    "\n",
    "\n",
    "def print_request(article, search_term=None, check=False):\n",
    "    if check and search_term:\n",
    "        print(article)\n",
    "        print()\n",
    "\n",
    "def request_from_list(search_words):\n",
    "    for word in search_words:\n",
    "        url_query = query.format(word)\n",
    "        api_data = get_request(url_query)\n",
    "        output_path = './outputs/relief_{}.csv'.format(word)\n",
    "        with codecs.open(output_path, \"w\", encoding='utf8') as csvfile:\n",
    "            reliefwriter = csv.writer(csvfile, delimiter=\",\")\n",
    "\n",
    "            reliefwriter.writerow([\n",
    "                \"article_id\", \"search_term\", \"relief_score\", \"created_date\",\n",
    "                \"headline\", \"title\", \"themes\"\n",
    "            ])\n",
    "\n",
    "            for article in api_data:\n",
    "                # optional request check\n",
    "                print_request(article, search_term='universal', check=False)\n",
    "                \n",
    "                if \"headline\" in article[\n",
    "                        \"fields\"].keys() and \"theme\" in article[\"fields\"].keys(\n",
    "                        ) and \"title\" in article[\"fields\"].keys():\n",
    "                    article_id = article[\"id\"]\n",
    "                    relief_score = article[\"score\"]\n",
    "                    title = article['fields']['title']\n",
    "                    created_date = article['fields']['date']['created']\n",
    "                    headline = article[\"fields\"][\"headline\"][\"summary\"]\n",
    "                    dummy = [x.strip('\"') for x in headline.split()]\n",
    "                    headline = \" \".join(dummy)\n",
    "                    url = article['href']\n",
    "                    themes = []\n",
    "\n",
    "                    for x in range(len(article[\"fields\"][\"theme\"])):\n",
    "                        theme = article[\"fields\"][\"theme\"][x].get(\"name\")\n",
    "                        themes.append(theme)\n",
    "\n",
    "                else:\n",
    "                    continue\n",
    "\n",
    "                try:\n",
    "                    reliefwriter.writerow([\n",
    "                        article_id, word, relief_score, created_date, headline, title, themes, url\n",
    "                    ])\n",
    "\n",
    "                except (UnicodeEncodeError, UnicodeEncodeError):\n",
    "                    article_id = \"Missing\"\n",
    "                    headline = \"Missing\"\n",
    "                    title = article['fields']['title']\n",
    "                    reliefwriter.writerow(\n",
    "                        [article_id, word, relief_score, created_date, headline, title, themes, url])\n",
    "\n",
    "        print(\"{} file saved to {}\".format(word, output_path))\n",
    "        \n",
    "#\n",
    "millennium_development_goals = load_and_cleanse('MDGs.txt')\n",
    "decleration_of_human_rights = load_and_cleanse('Universal_Declaration_of_Human_Rights.txt')\n",
    "\n",
    "docs = decleration_of_human_rights + millennium_development_goals\n",
    "tokens = docs.split()\n",
    "examples = tokens[:5]"
   ]
  },
  {
   "cell_type": "markdown",
   "metadata": {},
   "source": [
    "# Build Search Term Vocabulary"
   ]
  },
  {
   "cell_type": "code",
   "execution_count": 12,
   "metadata": {
    "ExecuteTime": {
     "end_time": "2017-05-14T19:27:33.971861Z",
     "start_time": "2017-05-14T15:27:33.905828-04:00"
    },
    "collapsed": true
   },
   "outputs": [],
   "source": [
    "millennium_development_goals = load_and_cleanse('MDGs.txt')\n",
    "decleration_of_human_rights = load_and_cleanse('Universal_Declaration_of_Human_Rights.txt')"
   ]
  },
  {
   "cell_type": "markdown",
   "metadata": {},
   "source": [
    "# Extract, Transform, and Load"
   ]
  },
  {
   "cell_type": "code",
   "execution_count": 15,
   "metadata": {
    "ExecuteTime": {
     "end_time": "2017-05-14T19:27:34.808731Z",
     "start_time": "2017-05-14T15:27:34.574394-04:00"
    },
    "scrolled": false
   },
   "outputs": [
    {
     "name": "stdout",
     "output_type": "stream",
     "text": [
      "universal file saved to ./outputs/relief_universal.csv\n",
      "declaration file saved to ./outputs/relief_declaration.csv\n",
      "human file saved to ./outputs/relief_human.csv\n",
      "right file saved to ./outputs/relief_right.csv\n",
      "preamble file saved to ./outputs/relief_preamble.csv\n"
     ]
    }
   ],
   "source": [
    "request_from_list(examples)"
   ]
  },
  {
   "cell_type": "markdown",
   "metadata": {},
   "source": [
    "# Preview Output"
   ]
  },
  {
   "cell_type": "code",
   "execution_count": 16,
   "metadata": {
    "ExecuteTime": {
     "end_time": "2017-05-14T19:27:34.827337Z",
     "start_time": "2017-05-14T15:27:34.811808-04:00"
    }
   },
   "outputs": [
    {
     "data": {
      "text/html": [
       "<div>\n",
       "<table border=\"1\" class=\"dataframe\">\n",
       "  <thead>\n",
       "    <tr style=\"text-align: right;\">\n",
       "      <th></th>\n",
       "      <th>article_id</th>\n",
       "      <th>search_term</th>\n",
       "      <th>relief_score</th>\n",
       "      <th>created_date</th>\n",
       "      <th>headline</th>\n",
       "      <th>title</th>\n",
       "      <th>themes</th>\n",
       "    </tr>\n",
       "  </thead>\n",
       "  <tbody>\n",
       "    <tr>\n",
       "      <th>1431191</th>\n",
       "      <td>universal</td>\n",
       "      <td>8.872</td>\n",
       "      <td>2016-03-09T17:17:34+00:00</td>\n",
       "      <td>Amnesty International expresses lingering conc...</td>\n",
       "      <td>Sudan: Dire Human Rights Situation Continues -...</td>\n",
       "      <td>['Protection and Human Rights']</td>\n",
       "      <td>http://api.rwlabs.org/v1/reports/1431191</td>\n",
       "    </tr>\n",
       "    <tr>\n",
       "      <th>1786646</th>\n",
       "      <td>universal</td>\n",
       "      <td>8.872</td>\n",
       "      <td>2016-11-20T13:04:51+00:00</td>\n",
       "      <td>Universal Children’s Day is more than a day to...</td>\n",
       "      <td>UNICEF Executive Director Anthony Lake stateme...</td>\n",
       "      <td>['Protection and Human Rights']</td>\n",
       "      <td>http://api.rwlabs.org/v1/reports/1786646</td>\n",
       "    </tr>\n",
       "    <tr>\n",
       "      <th>1540416</th>\n",
       "      <td>universal</td>\n",
       "      <td>8.872</td>\n",
       "      <td>2016-05-25T02:47:51+00:00</td>\n",
       "      <td>While access to medical care is a growing issu...</td>\n",
       "      <td>Universal access of populations to health care...</td>\n",
       "      <td>['Health', 'Safety and Security']</td>\n",
       "      <td>http://api.rwlabs.org/v1/reports/1540416</td>\n",
       "    </tr>\n",
       "    <tr>\n",
       "      <th>564606</th>\n",
       "      <td>universal</td>\n",
       "      <td>8.872</td>\n",
       "      <td>2013-03-22T12:19:27+00:00</td>\n",
       "      <td>The launch of new Health Sector Strategic Plan...</td>\n",
       "      <td>New plan to ensure universal healthcare in Som...</td>\n",
       "      <td>['Health']</td>\n",
       "      <td>http://api.rwlabs.org/v1/reports/564606</td>\n",
       "    </tr>\n",
       "    <tr>\n",
       "      <th>617194</th>\n",
       "      <td>universal</td>\n",
       "      <td>8.872</td>\n",
       "      <td>2013-11-20T02:52:19+00:00</td>\n",
       "      <td>Tens of thousands of Syrian children in Jordan...</td>\n",
       "      <td>Universal Children's Day: Syrian refugees rely...</td>\n",
       "      <td>['Education', 'Protection and Human Rights']</td>\n",
       "      <td>http://api.rwlabs.org/v1/reports/617194</td>\n",
       "    </tr>\n",
       "    <tr>\n",
       "      <th>703416</th>\n",
       "      <td>universal</td>\n",
       "      <td>8.872</td>\n",
       "      <td>2014-10-27T19:27:14+00:00</td>\n",
       "      <td>This study outlines the steps to achieving uni...</td>\n",
       "      <td>Achieving universal sanitation: Sharing the ex...</td>\n",
       "      <td>['Water Sanitation Hygiene']</td>\n",
       "      <td>http://api.rwlabs.org/v1/reports/703416</td>\n",
       "    </tr>\n",
       "    <tr>\n",
       "      <th>462094</th>\n",
       "      <td>universal</td>\n",
       "      <td>8.872</td>\n",
       "      <td>2011-11-30T10:30:00+00:00</td>\n",
       "      <td>30 NOVEMBER 2011 ¦ GENEVA -- Global progress i...</td>\n",
       "      <td>Global HIV/Aids response - Epidemic update and...</td>\n",
       "      <td>['Health', 'HIV/Aids']</td>\n",
       "      <td>http://api.rwlabs.org/v1/reports/462094</td>\n",
       "    </tr>\n",
       "    <tr>\n",
       "      <th>527217</th>\n",
       "      <td>universal</td>\n",
       "      <td>8.872</td>\n",
       "      <td>2012-09-27T00:31:04+00:00</td>\n",
       "      <td>26 September 2012 – Secretary-General Ban Ki-m...</td>\n",
       "      <td>UN chief unveils $1.5 billion initiative to ac...</td>\n",
       "      <td>['Education']</td>\n",
       "      <td>http://api.rwlabs.org/v1/reports/527217</td>\n",
       "    </tr>\n",
       "  </tbody>\n",
       "</table>\n",
       "</div>"
      ],
      "text/plain": [
       "        article_id  search_term               relief_score                                       created_date                                           headline                                         title                                    themes\n",
       "1431191  universal        8.872  2016-03-09T17:17:34+00:00  Amnesty International expresses lingering conc...  Sudan: Dire Human Rights Situation Continues -...               ['Protection and Human Rights']  http://api.rwlabs.org/v1/reports/1431191\n",
       "1786646  universal        8.872  2016-11-20T13:04:51+00:00  Universal Children’s Day is more than a day to...  UNICEF Executive Director Anthony Lake stateme...               ['Protection and Human Rights']  http://api.rwlabs.org/v1/reports/1786646\n",
       "1540416  universal        8.872  2016-05-25T02:47:51+00:00  While access to medical care is a growing issu...  Universal access of populations to health care...             ['Health', 'Safety and Security']  http://api.rwlabs.org/v1/reports/1540416\n",
       "564606   universal        8.872  2013-03-22T12:19:27+00:00  The launch of new Health Sector Strategic Plan...  New plan to ensure universal healthcare in Som...                                    ['Health']   http://api.rwlabs.org/v1/reports/564606\n",
       "617194   universal        8.872  2013-11-20T02:52:19+00:00  Tens of thousands of Syrian children in Jordan...  Universal Children's Day: Syrian refugees rely...  ['Education', 'Protection and Human Rights']   http://api.rwlabs.org/v1/reports/617194\n",
       "703416   universal        8.872  2014-10-27T19:27:14+00:00  This study outlines the steps to achieving uni...  Achieving universal sanitation: Sharing the ex...                  ['Water Sanitation Hygiene']   http://api.rwlabs.org/v1/reports/703416\n",
       "462094   universal        8.872  2011-11-30T10:30:00+00:00  30 NOVEMBER 2011 ¦ GENEVA -- Global progress i...  Global HIV/Aids response - Epidemic update and...                        ['Health', 'HIV/Aids']   http://api.rwlabs.org/v1/reports/462094\n",
       "527217   universal        8.872  2012-09-27T00:31:04+00:00  26 September 2012 – Secretary-General Ban Ki-m...  UN chief unveils $1.5 billion initiative to ac...                                 ['Education']   http://api.rwlabs.org/v1/reports/527217"
      ]
     },
     "execution_count": 16,
     "metadata": {},
     "output_type": "execute_result"
    }
   ],
   "source": [
    "example_output = pd.read_csv(\"./outputs/relief_universal.csv\")\n",
    "example_output"
   ]
  }
 ],
 "metadata": {
  "kernelspec": {
   "display_name": "Python 3",
   "language": "python",
   "name": "python3"
  },
  "language_info": {
   "codemirror_mode": {
    "name": "ipython",
    "version": 3
   },
   "file_extension": ".py",
   "mimetype": "text/x-python",
   "name": "python",
   "nbconvert_exporter": "python",
   "pygments_lexer": "ipython3",
   "version": "3.6.0"
  }
 },
 "nbformat": 4,
 "nbformat_minor": 2
}
