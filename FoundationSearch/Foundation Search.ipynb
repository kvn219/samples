{
 "cells": [
  {
   "cell_type": "markdown",
   "metadata": {},
   "source": [
    "# About\n",
    "**Goal:** Demonstrate extraction, transformation, and load use-cases for nonprofit/foundations.\n",
    "\n",
    "**Actions:**\n",
    "\n",
    "- Collect social media data on two foundations.\n",
    "- Transform data into a human readable format \n",
    "- Visualize a trend from the data.\n",
    "\n",
    "**Audience:** Intermediate level Tensorflow users."
   ]
  },
  {
   "cell_type": "code",
   "execution_count": 1,
   "metadata": {
    "ExecuteTime": {
     "end_time": "2017-05-15T16:14:49.008104Z",
     "start_time": "2017-05-15T12:14:48.368014-04:00"
    }
   },
   "outputs": [
    {
     "data": {
      "text/plain": [
       "True"
      ]
     },
     "execution_count": 1,
     "metadata": {},
     "output_type": "execute_result"
    }
   ],
   "source": [
    "%load_ext autoreload\n",
    "%autoreload 2\n",
    "\n",
    "import os\n",
    "import sys\n",
    "import json\n",
    "import time\n",
    "import math\n",
    "import numpy as np\n",
    "\n",
    "from tweepy import Cursor\n",
    "from twitter_client import get_twitter_client\n",
    "from dotenv import load_dotenv, find_dotenv\n",
    "from etl import usage, paginate, extract, generate_friends_df, generate_followers_df\n",
    "\n",
    "from highcharts import Highchart\n",
    "from visualization import options\n",
    "\n",
    "# find .env automagically by walking up directories until it's found\n",
    "dotenv_path = find_dotenv()\n",
    "# load up the entries as environment variables\n",
    "load_dotenv(dotenv_path)"
   ]
  },
  {
   "cell_type": "code",
   "execution_count": 2,
   "metadata": {
    "ExecuteTime": {
     "end_time": "2017-05-15T16:14:49.023752Z",
     "start_time": "2017-05-15T12:14:49.009626-04:00"
    },
    "collapsed": true
   },
   "outputs": [],
   "source": [
    "foundations = ['opensociety', 'RobinHoodNYC']"
   ]
  },
  {
   "cell_type": "code",
   "execution_count": 3,
   "metadata": {
    "ExecuteTime": {
     "end_time": "2017-05-15T16:14:49.038097Z",
     "start_time": "2017-05-15T12:14:49.025433-04:00"
    }
   },
   "outputs": [],
   "source": [
    "# extract(foundations[0])"
   ]
  },
  {
   "cell_type": "markdown",
   "metadata": {
    "ExecuteTime": {
     "end_time": "2017-05-15T13:17:04.536563Z",
     "start_time": "2017-05-15T09:17:04.533677-04:00"
    }
   },
   "source": [
    "## Robinhood Foundation (NYC)\n",
    "\n",
    "### [Fighting Poverty in New York](https://www.robinhood.org/)\n",
    "\n",
    "**Mission:** \n",
    "Robin Hood’s mission is to improve the living standards for 1.8 million low-income new yorkers.\n",
    "\n",
    "**Objective:** Robin Hood has a single objective: end poverty in NYC."
   ]
  },
  {
   "cell_type": "markdown",
   "metadata": {},
   "source": [
    "#### Friends"
   ]
  },
  {
   "cell_type": "code",
   "execution_count": 4,
   "metadata": {
    "ExecuteTime": {
     "end_time": "2017-05-15T16:14:49.131849Z",
     "start_time": "2017-05-15T12:14:49.039472-04:00"
    },
    "scrolled": false
   },
   "outputs": [
    {
     "data": {
      "text/html": [
       "<div>\n",
       "<table border=\"1\" class=\"dataframe\">\n",
       "  <thead>\n",
       "    <tr style=\"text-align: right;\">\n",
       "      <th></th>\n",
       "      <th>created_at</th>\n",
       "      <th>description</th>\n",
       "      <th>favourites_count</th>\n",
       "      <th>followers_count</th>\n",
       "      <th>friends_count</th>\n",
       "      <th>id</th>\n",
       "      <th>listed_count</th>\n",
       "      <th>location</th>\n",
       "      <th>name</th>\n",
       "      <th>profile_image_url</th>\n",
       "      <th>relationship</th>\n",
       "      <th>screen_name</th>\n",
       "      <th>source</th>\n",
       "      <th>statuses_count</th>\n",
       "      <th>url</th>\n",
       "    </tr>\n",
       "  </thead>\n",
       "  <tbody>\n",
       "    <tr>\n",
       "      <th>0</th>\n",
       "      <td>Wed Apr 20 10:17:07 +0000 2011</td>\n",
       "      <td>@GMA News Anchor. My book #Better is available...</td>\n",
       "      <td>1150</td>\n",
       "      <td>123943</td>\n",
       "      <td>392</td>\n",
       "      <td>284991184</td>\n",
       "      <td>673</td>\n",
       "      <td>NA</td>\n",
       "      <td>Amy Robach</td>\n",
       "      <td>http://pbs.twimg.com/profile_images/5828605865...</td>\n",
       "      <td>friend</td>\n",
       "      <td>arobach</td>\n",
       "      <td>RobinHoodNYC</td>\n",
       "      <td>2416</td>\n",
       "      <td>http://t.co/9bNKrbXh3e</td>\n",
       "    </tr>\n",
       "    <tr>\n",
       "      <th>1</th>\n",
       "      <td>Thu Jul 23 03:41:58 +0000 2009</td>\n",
       "      <td>Ex-@MikeBloomberg @SenSchumer chief spokesman,...</td>\n",
       "      <td>1118</td>\n",
       "      <td>7949</td>\n",
       "      <td>5970</td>\n",
       "      <td>59351766</td>\n",
       "      <td>190</td>\n",
       "      <td>Offices in NYC &amp; CT</td>\n",
       "      <td>Stu Loeser</td>\n",
       "      <td>http://pbs.twimg.com/profile_images/6823178121...</td>\n",
       "      <td>friend</td>\n",
       "      <td>stuloeser</td>\n",
       "      <td>RobinHoodNYC</td>\n",
       "      <td>12369</td>\n",
       "      <td>https://t.co/6sarNF5kyM</td>\n",
       "    </tr>\n",
       "    <tr>\n",
       "      <th>2</th>\n",
       "      <td>Fri Mar 18 18:36:02 +0000 2011</td>\n",
       "      <td>#Malibu - out now! https://t.co/7jlWgcZaoE</td>\n",
       "      <td>81</td>\n",
       "      <td>32325243</td>\n",
       "      <td>373</td>\n",
       "      <td>268414482</td>\n",
       "      <td>58788</td>\n",
       "      <td>@happyhippiefdn</td>\n",
       "      <td>Miley Ray Cyrus</td>\n",
       "      <td>http://pbs.twimg.com/profile_images/8626999090...</td>\n",
       "      <td>friend</td>\n",
       "      <td>MileyCyrus</td>\n",
       "      <td>RobinHoodNYC</td>\n",
       "      <td>8499</td>\n",
       "      <td>https://t.co/w5oy1cN4nj</td>\n",
       "    </tr>\n",
       "    <tr>\n",
       "      <th>3</th>\n",
       "      <td>Tue Mar 03 01:17:55 +0000 2009</td>\n",
       "      <td>https://t.co/Bf9BwnlC3d 1/3 of Ocean Park Stan...</td>\n",
       "      <td>8557</td>\n",
       "      <td>1490012</td>\n",
       "      <td>1203</td>\n",
       "      <td>22563769</td>\n",
       "      <td>6901</td>\n",
       "      <td>Los Angeles</td>\n",
       "      <td>samantha ronson</td>\n",
       "      <td>http://pbs.twimg.com/profile_images/8395457478...</td>\n",
       "      <td>friend</td>\n",
       "      <td>samantharonson</td>\n",
       "      <td>RobinHoodNYC</td>\n",
       "      <td>32783</td>\n",
       "      <td>https://t.co/G8RfqOi5RL</td>\n",
       "    </tr>\n",
       "    <tr>\n",
       "      <th>4</th>\n",
       "      <td>Thu Jul 14 21:57:32 +0000 2011</td>\n",
       "      <td>Small business reporter at The Associated Pres...</td>\n",
       "      <td>87</td>\n",
       "      <td>2624</td>\n",
       "      <td>69</td>\n",
       "      <td>335567840</td>\n",
       "      <td>181</td>\n",
       "      <td>NA</td>\n",
       "      <td>Joyce M. Rosenberg</td>\n",
       "      <td>http://pbs.twimg.com/profile_images/1877781210...</td>\n",
       "      <td>friend</td>\n",
       "      <td>JoyceMRosenberg</td>\n",
       "      <td>RobinHoodNYC</td>\n",
       "      <td>751</td>\n",
       "      <td>None</td>\n",
       "    </tr>\n",
       "  </tbody>\n",
       "</table>\n",
       "</div>"
      ],
      "text/plain": [
       "                       created_at  \\\n",
       "0  Wed Apr 20 10:17:07 +0000 2011   \n",
       "1  Thu Jul 23 03:41:58 +0000 2009   \n",
       "2  Fri Mar 18 18:36:02 +0000 2011   \n",
       "3  Tue Mar 03 01:17:55 +0000 2009   \n",
       "4  Thu Jul 14 21:57:32 +0000 2011   \n",
       "\n",
       "                                         description  favourites_count  \\\n",
       "0  @GMA News Anchor. My book #Better is available...              1150   \n",
       "1  Ex-@MikeBloomberg @SenSchumer chief spokesman,...              1118   \n",
       "2         #Malibu - out now! https://t.co/7jlWgcZaoE                81   \n",
       "3  https://t.co/Bf9BwnlC3d 1/3 of Ocean Park Stan...              8557   \n",
       "4  Small business reporter at The Associated Pres...                87   \n",
       "\n",
       "   followers_count  friends_count         id  listed_count  \\\n",
       "0           123943            392  284991184           673   \n",
       "1             7949           5970   59351766           190   \n",
       "2         32325243            373  268414482         58788   \n",
       "3          1490012           1203   22563769          6901   \n",
       "4             2624             69  335567840           181   \n",
       "\n",
       "              location                name  \\\n",
       "0                   NA          Amy Robach   \n",
       "1  Offices in NYC & CT          Stu Loeser   \n",
       "2      @happyhippiefdn     Miley Ray Cyrus   \n",
       "3          Los Angeles     samantha ronson   \n",
       "4                   NA  Joyce M. Rosenberg   \n",
       "\n",
       "                                   profile_image_url relationship  \\\n",
       "0  http://pbs.twimg.com/profile_images/5828605865...       friend   \n",
       "1  http://pbs.twimg.com/profile_images/6823178121...       friend   \n",
       "2  http://pbs.twimg.com/profile_images/8626999090...       friend   \n",
       "3  http://pbs.twimg.com/profile_images/8395457478...       friend   \n",
       "4  http://pbs.twimg.com/profile_images/1877781210...       friend   \n",
       "\n",
       "       screen_name        source  statuses_count                      url  \n",
       "0          arobach  RobinHoodNYC            2416   http://t.co/9bNKrbXh3e  \n",
       "1        stuloeser  RobinHoodNYC           12369  https://t.co/6sarNF5kyM  \n",
       "2       MileyCyrus  RobinHoodNYC            8499  https://t.co/w5oy1cN4nj  \n",
       "3   samantharonson  RobinHoodNYC           32783  https://t.co/G8RfqOi5RL  \n",
       "4  JoyceMRosenberg  RobinHoodNYC             751                     None  "
      ]
     },
     "execution_count": 4,
     "metadata": {},
     "output_type": "execute_result"
    }
   ],
   "source": [
    "friends_df = generate_friends_df('RobinHoodNYC')\n",
    "friends_df.head()"
   ]
  },
  {
   "cell_type": "markdown",
   "metadata": {},
   "source": [
    "#### Followers"
   ]
  },
  {
   "cell_type": "code",
   "execution_count": 5,
   "metadata": {
    "ExecuteTime": {
     "end_time": "2017-05-15T16:14:49.261590Z",
     "start_time": "2017-05-15T12:14:49.133382-04:00"
    },
    "scrolled": false
   },
   "outputs": [
    {
     "data": {
      "text/html": [
       "<div>\n",
       "<table border=\"1\" class=\"dataframe\">\n",
       "  <thead>\n",
       "    <tr style=\"text-align: right;\">\n",
       "      <th></th>\n",
       "      <th>created_at</th>\n",
       "      <th>description</th>\n",
       "      <th>favourites_count</th>\n",
       "      <th>followers_count</th>\n",
       "      <th>friends_count</th>\n",
       "      <th>id</th>\n",
       "      <th>listed_count</th>\n",
       "      <th>location</th>\n",
       "      <th>name</th>\n",
       "      <th>profile_image_url</th>\n",
       "      <th>relationship</th>\n",
       "      <th>screen_name</th>\n",
       "      <th>source</th>\n",
       "      <th>statuses_count</th>\n",
       "      <th>url</th>\n",
       "    </tr>\n",
       "  </thead>\n",
       "  <tbody>\n",
       "    <tr>\n",
       "      <th>0</th>\n",
       "      <td>Wed Apr 20 10:17:07 +0000 2011</td>\n",
       "      <td>@GMA News Anchor. My book #Better is available...</td>\n",
       "      <td>1150</td>\n",
       "      <td>123943</td>\n",
       "      <td>392</td>\n",
       "      <td>284991184</td>\n",
       "      <td>673</td>\n",
       "      <td>NA</td>\n",
       "      <td>Amy Robach</td>\n",
       "      <td>http://pbs.twimg.com/profile_images/5828605865...</td>\n",
       "      <td>friend</td>\n",
       "      <td>arobach</td>\n",
       "      <td>RobinHoodNYC</td>\n",
       "      <td>2416</td>\n",
       "      <td>http://t.co/9bNKrbXh3e</td>\n",
       "    </tr>\n",
       "    <tr>\n",
       "      <th>1</th>\n",
       "      <td>Thu Jul 23 03:41:58 +0000 2009</td>\n",
       "      <td>Ex-@MikeBloomberg @SenSchumer chief spokesman,...</td>\n",
       "      <td>1118</td>\n",
       "      <td>7949</td>\n",
       "      <td>5970</td>\n",
       "      <td>59351766</td>\n",
       "      <td>190</td>\n",
       "      <td>Offices in NYC &amp; CT</td>\n",
       "      <td>Stu Loeser</td>\n",
       "      <td>http://pbs.twimg.com/profile_images/6823178121...</td>\n",
       "      <td>friend</td>\n",
       "      <td>stuloeser</td>\n",
       "      <td>RobinHoodNYC</td>\n",
       "      <td>12369</td>\n",
       "      <td>https://t.co/6sarNF5kyM</td>\n",
       "    </tr>\n",
       "    <tr>\n",
       "      <th>2</th>\n",
       "      <td>Fri Mar 18 18:36:02 +0000 2011</td>\n",
       "      <td>#Malibu - out now! https://t.co/7jlWgcZaoE</td>\n",
       "      <td>81</td>\n",
       "      <td>32325243</td>\n",
       "      <td>373</td>\n",
       "      <td>268414482</td>\n",
       "      <td>58788</td>\n",
       "      <td>@happyhippiefdn</td>\n",
       "      <td>Miley Ray Cyrus</td>\n",
       "      <td>http://pbs.twimg.com/profile_images/8626999090...</td>\n",
       "      <td>friend</td>\n",
       "      <td>MileyCyrus</td>\n",
       "      <td>RobinHoodNYC</td>\n",
       "      <td>8499</td>\n",
       "      <td>https://t.co/w5oy1cN4nj</td>\n",
       "    </tr>\n",
       "    <tr>\n",
       "      <th>3</th>\n",
       "      <td>Tue Mar 03 01:17:55 +0000 2009</td>\n",
       "      <td>https://t.co/Bf9BwnlC3d 1/3 of Ocean Park Stan...</td>\n",
       "      <td>8557</td>\n",
       "      <td>1490012</td>\n",
       "      <td>1203</td>\n",
       "      <td>22563769</td>\n",
       "      <td>6901</td>\n",
       "      <td>Los Angeles</td>\n",
       "      <td>samantha ronson</td>\n",
       "      <td>http://pbs.twimg.com/profile_images/8395457478...</td>\n",
       "      <td>friend</td>\n",
       "      <td>samantharonson</td>\n",
       "      <td>RobinHoodNYC</td>\n",
       "      <td>32783</td>\n",
       "      <td>https://t.co/G8RfqOi5RL</td>\n",
       "    </tr>\n",
       "    <tr>\n",
       "      <th>4</th>\n",
       "      <td>Thu Jul 14 21:57:32 +0000 2011</td>\n",
       "      <td>Small business reporter at The Associated Pres...</td>\n",
       "      <td>87</td>\n",
       "      <td>2624</td>\n",
       "      <td>69</td>\n",
       "      <td>335567840</td>\n",
       "      <td>181</td>\n",
       "      <td>NA</td>\n",
       "      <td>Joyce M. Rosenberg</td>\n",
       "      <td>http://pbs.twimg.com/profile_images/1877781210...</td>\n",
       "      <td>friend</td>\n",
       "      <td>JoyceMRosenberg</td>\n",
       "      <td>RobinHoodNYC</td>\n",
       "      <td>751</td>\n",
       "      <td>None</td>\n",
       "    </tr>\n",
       "  </tbody>\n",
       "</table>\n",
       "</div>"
      ],
      "text/plain": [
       "                       created_at  \\\n",
       "0  Wed Apr 20 10:17:07 +0000 2011   \n",
       "1  Thu Jul 23 03:41:58 +0000 2009   \n",
       "2  Fri Mar 18 18:36:02 +0000 2011   \n",
       "3  Tue Mar 03 01:17:55 +0000 2009   \n",
       "4  Thu Jul 14 21:57:32 +0000 2011   \n",
       "\n",
       "                                         description  favourites_count  \\\n",
       "0  @GMA News Anchor. My book #Better is available...              1150   \n",
       "1  Ex-@MikeBloomberg @SenSchumer chief spokesman,...              1118   \n",
       "2         #Malibu - out now! https://t.co/7jlWgcZaoE                81   \n",
       "3  https://t.co/Bf9BwnlC3d 1/3 of Ocean Park Stan...              8557   \n",
       "4  Small business reporter at The Associated Pres...                87   \n",
       "\n",
       "   followers_count  friends_count         id  listed_count  \\\n",
       "0           123943            392  284991184           673   \n",
       "1             7949           5970   59351766           190   \n",
       "2         32325243            373  268414482         58788   \n",
       "3          1490012           1203   22563769          6901   \n",
       "4             2624             69  335567840           181   \n",
       "\n",
       "              location                name  \\\n",
       "0                   NA          Amy Robach   \n",
       "1  Offices in NYC & CT          Stu Loeser   \n",
       "2      @happyhippiefdn     Miley Ray Cyrus   \n",
       "3          Los Angeles     samantha ronson   \n",
       "4                   NA  Joyce M. Rosenberg   \n",
       "\n",
       "                                   profile_image_url relationship  \\\n",
       "0  http://pbs.twimg.com/profile_images/5828605865...       friend   \n",
       "1  http://pbs.twimg.com/profile_images/6823178121...       friend   \n",
       "2  http://pbs.twimg.com/profile_images/8626999090...       friend   \n",
       "3  http://pbs.twimg.com/profile_images/8395457478...       friend   \n",
       "4  http://pbs.twimg.com/profile_images/1877781210...       friend   \n",
       "\n",
       "       screen_name        source  statuses_count                      url  \n",
       "0          arobach  RobinHoodNYC            2416   http://t.co/9bNKrbXh3e  \n",
       "1        stuloeser  RobinHoodNYC           12369  https://t.co/6sarNF5kyM  \n",
       "2       MileyCyrus  RobinHoodNYC            8499  https://t.co/w5oy1cN4nj  \n",
       "3   samantharonson  RobinHoodNYC           32783  https://t.co/G8RfqOi5RL  \n",
       "4  JoyceMRosenberg  RobinHoodNYC             751                     None  "
      ]
     },
     "execution_count": 5,
     "metadata": {},
     "output_type": "execute_result"
    }
   ],
   "source": [
    "robinhood_followers = generate_friends_df('RobinHoodNYC')\n",
    "robinhood_followers.head()"
   ]
  },
  {
   "cell_type": "markdown",
   "metadata": {
    "ExecuteTime": {
     "end_time": "2017-05-15T14:52:52.108623Z",
     "start_time": "2017-05-15T10:52:52.091307-04:00"
    }
   },
   "source": [
    "## Open Society Foundations\n",
    "\n",
    "### [The Open Society Foundations work to build vibrant and tolerant democracies whose governments are accountable to their citizens](https://www.opensocietyfoundations.org/)\n",
    "\n",
    "**Mission:** \n",
    "\n",
    "The Open Society Foundations work to build vibrant and tolerant societies whose governments are accountable and open to the participation of all people.\n",
    "\n",
    "- We seek to strengthen the rule of law; respect for human rights, minorities, and a diversity of opinions; democratically elected governments; and a civil society that helps keep government power in check.\n",
    "\n",
    "- We help to shape public policies that assure greater fairness in political, legal, and economic systems and safeguard fundamental rights.\n",
    "\n",
    "- We implement initiatives to advance justice, education, public health, and independent media.\n",
    "\n",
    "- We build alliances across borders and continents on issues such as corruption and freedom of information.\n",
    "\n",
    "- Working in every part of the world, the Open Society Foundations place a high priority on protecting and improving the lives of people in marginalized communities."
   ]
  },
  {
   "cell_type": "code",
   "execution_count": 6,
   "metadata": {
    "ExecuteTime": {
     "end_time": "2017-05-15T16:14:49.533428Z",
     "start_time": "2017-05-15T12:14:49.263346-04:00"
    }
   },
   "outputs": [
    {
     "data": {
      "text/html": [
       "<div>\n",
       "<table border=\"1\" class=\"dataframe\">\n",
       "  <thead>\n",
       "    <tr style=\"text-align: right;\">\n",
       "      <th></th>\n",
       "      <th>created_at</th>\n",
       "      <th>description</th>\n",
       "      <th>favourites_count</th>\n",
       "      <th>followers_count</th>\n",
       "      <th>friends_count</th>\n",
       "      <th>id</th>\n",
       "      <th>listed_count</th>\n",
       "      <th>location</th>\n",
       "      <th>name</th>\n",
       "      <th>profile_image_url</th>\n",
       "      <th>relationship</th>\n",
       "      <th>screen_name</th>\n",
       "      <th>source</th>\n",
       "      <th>statuses_count</th>\n",
       "      <th>url</th>\n",
       "    </tr>\n",
       "  </thead>\n",
       "  <tbody>\n",
       "    <tr>\n",
       "      <th>0</th>\n",
       "      <td>Mon Apr 04 13:24:51 +0000 2011</td>\n",
       "      <td>Comms @OpenSociety. Former Ukraine corresponde...</td>\n",
       "      <td>2744</td>\n",
       "      <td>12667</td>\n",
       "      <td>3476</td>\n",
       "      <td>276979950</td>\n",
       "      <td>807</td>\n",
       "      <td>London, England</td>\n",
       "      <td>Maxim Tucker</td>\n",
       "      <td>http://pbs.twimg.com/profile_images/6764622554...</td>\n",
       "      <td>friend</td>\n",
       "      <td>MaxRTucker</td>\n",
       "      <td>opensociety</td>\n",
       "      <td>6157</td>\n",
       "      <td>https://t.co/yAVMwJqM6E</td>\n",
       "    </tr>\n",
       "    <tr>\n",
       "      <th>1</th>\n",
       "      <td>Wed Mar 29 18:31:54 +0000 2017</td>\n",
       "      <td>The Museum of Drug Policy is a pop-up arts &amp; c...</td>\n",
       "      <td>16</td>\n",
       "      <td>63</td>\n",
       "      <td>80</td>\n",
       "      <td>847154362761842688</td>\n",
       "      <td>1</td>\n",
       "      <td>Montréal, Québec (May 15-17)</td>\n",
       "      <td>#DrugPolicyMuseum</td>\n",
       "      <td>http://pbs.twimg.com/profile_images/8515411374...</td>\n",
       "      <td>friend</td>\n",
       "      <td>MofDP</td>\n",
       "      <td>opensociety</td>\n",
       "      <td>31</td>\n",
       "      <td>https://t.co/yBlVCZwRWn</td>\n",
       "    </tr>\n",
       "    <tr>\n",
       "      <th>2</th>\n",
       "      <td>Wed Mar 24 18:33:51 +0000 2010</td>\n",
       "      <td>America's premier legal organization fighting ...</td>\n",
       "      <td>9407</td>\n",
       "      <td>41491</td>\n",
       "      <td>3280</td>\n",
       "      <td>126062842</td>\n",
       "      <td>900</td>\n",
       "      <td>NYC &amp; DC</td>\n",
       "      <td>Legal Defense Fund</td>\n",
       "      <td>http://pbs.twimg.com/profile_images/4895109955...</td>\n",
       "      <td>friend</td>\n",
       "      <td>NAACP_LDF</td>\n",
       "      <td>opensociety</td>\n",
       "      <td>19548</td>\n",
       "      <td>http://t.co/XAJAQLaTrd</td>\n",
       "    </tr>\n",
       "    <tr>\n",
       "      <th>3</th>\n",
       "      <td>Wed Apr 19 01:47:34 +0000 2017</td>\n",
       "      <td>Communities Against Hate is a diverse coalitio...</td>\n",
       "      <td>13</td>\n",
       "      <td>40</td>\n",
       "      <td>21</td>\n",
       "      <td>854511761730539521</td>\n",
       "      <td>0</td>\n",
       "      <td>United States</td>\n",
       "      <td>#AgainstHate</td>\n",
       "      <td>http://pbs.twimg.com/profile_images/8605981853...</td>\n",
       "      <td>friend</td>\n",
       "      <td>CAHTweets</td>\n",
       "      <td>opensociety</td>\n",
       "      <td>18</td>\n",
       "      <td>https://t.co/3Fth9Ic78i</td>\n",
       "    </tr>\n",
       "    <tr>\n",
       "      <th>4</th>\n",
       "      <td>Thu Feb 26 03:42:28 +0000 2009</td>\n",
       "      <td>NA</td>\n",
       "      <td>33</td>\n",
       "      <td>1056</td>\n",
       "      <td>713</td>\n",
       "      <td>21965684</td>\n",
       "      <td>32</td>\n",
       "      <td>NA</td>\n",
       "      <td>Michael Waldman</td>\n",
       "      <td>http://pbs.twimg.com/profile_images/3788000001...</td>\n",
       "      <td>friend</td>\n",
       "      <td>mawaldman</td>\n",
       "      <td>opensociety</td>\n",
       "      <td>163</td>\n",
       "      <td>None</td>\n",
       "    </tr>\n",
       "  </tbody>\n",
       "</table>\n",
       "</div>"
      ],
      "text/plain": [
       "                       created_at  \\\n",
       "0  Mon Apr 04 13:24:51 +0000 2011   \n",
       "1  Wed Mar 29 18:31:54 +0000 2017   \n",
       "2  Wed Mar 24 18:33:51 +0000 2010   \n",
       "3  Wed Apr 19 01:47:34 +0000 2017   \n",
       "4  Thu Feb 26 03:42:28 +0000 2009   \n",
       "\n",
       "                                         description  favourites_count  \\\n",
       "0  Comms @OpenSociety. Former Ukraine corresponde...              2744   \n",
       "1  The Museum of Drug Policy is a pop-up arts & c...                16   \n",
       "2  America's premier legal organization fighting ...              9407   \n",
       "3  Communities Against Hate is a diverse coalitio...                13   \n",
       "4                                                 NA                33   \n",
       "\n",
       "   followers_count  friends_count                  id  listed_count  \\\n",
       "0            12667           3476           276979950           807   \n",
       "1               63             80  847154362761842688             1   \n",
       "2            41491           3280           126062842           900   \n",
       "3               40             21  854511761730539521             0   \n",
       "4             1056            713            21965684            32   \n",
       "\n",
       "                        location                name  \\\n",
       "0                London, England        Maxim Tucker   \n",
       "1  Montréal, Québec (May 15-17)    #DrugPolicyMuseum   \n",
       "2                       NYC & DC  Legal Defense Fund   \n",
       "3                  United States        #AgainstHate   \n",
       "4                             NA     Michael Waldman   \n",
       "\n",
       "                                   profile_image_url relationship screen_name  \\\n",
       "0  http://pbs.twimg.com/profile_images/6764622554...       friend  MaxRTucker   \n",
       "1  http://pbs.twimg.com/profile_images/8515411374...       friend       MofDP   \n",
       "2  http://pbs.twimg.com/profile_images/4895109955...       friend   NAACP_LDF   \n",
       "3  http://pbs.twimg.com/profile_images/8605981853...       friend   CAHTweets   \n",
       "4  http://pbs.twimg.com/profile_images/3788000001...       friend   mawaldman   \n",
       "\n",
       "        source  statuses_count                      url  \n",
       "0  opensociety            6157  https://t.co/yAVMwJqM6E  \n",
       "1  opensociety              31  https://t.co/yBlVCZwRWn  \n",
       "2  opensociety           19548   http://t.co/XAJAQLaTrd  \n",
       "3  opensociety              18  https://t.co/3Fth9Ic78i  \n",
       "4  opensociety             163                     None  "
      ]
     },
     "execution_count": 6,
     "metadata": {},
     "output_type": "execute_result"
    }
   ],
   "source": [
    "open_society_followers = generate_friends_df('opensociety')\n",
    "open_society_followers.head()"
   ]
  },
  {
   "cell_type": "markdown",
   "metadata": {
    "ExecuteTime": {
     "end_time": "2017-05-15T14:44:04.376313Z",
     "start_time": "2017-05-15T10:44:04.363608-04:00"
    }
   },
   "source": [
    "# Visualize"
   ]
  },
  {
   "cell_type": "code",
   "execution_count": 7,
   "metadata": {
    "ExecuteTime": {
     "end_time": "2017-05-15T16:14:49.551580Z",
     "start_time": "2017-05-15T12:14:49.534876-04:00"
    },
    "collapsed": true
   },
   "outputs": [],
   "source": [
    "def prep_data(x, y, data, name):\n",
    "    d = data[[x, y]].fillna(1)\n",
    "    frame = d.values.tolist()\n",
    "    return {'name': name, 'data': frame}\n",
    "\n",
    "def plot_scatter(group1, group2):\n",
    "    H = Highchart(width=850, height=400)\n",
    "    H.set_dict_options(options)\n",
    "    H.add_data_set(group1['data'], 'scatter', group1['name'], color='rgba(223, 83, 83, .5)')\n",
    "    H.add_data_set(group2['data'], 'scatter', group2['name'], color='rgba(119, 152, 191, .5)')\n",
    "    return H"
   ]
  },
  {
   "cell_type": "markdown",
   "metadata": {},
   "source": [
    "# Compare Robin Hood Foundation to Open Society Foundation"
   ]
  },
  {
   "cell_type": "code",
   "execution_count": 8,
   "metadata": {
    "ExecuteTime": {
     "end_time": "2017-05-15T16:14:49.583440Z",
     "start_time": "2017-05-15T12:14:49.553030-04:00"
    }
   },
   "outputs": [
    {
     "data": {
      "text/html": [
       "<iframe style=\"border:0;outline:none;overflow:hidden\" srcdoc=\"&lt;!DOCTYPE html&gt; &lt;html lang=&quot;en&quot;&gt; &lt;head&gt; &lt;meta charset=&quot;utf-8&quot; /&gt; &lt;link href=&quot;https://www.highcharts.com/highslide/highslide.css&quot; rel=&quot;stylesheet&quot; /&gt; &lt;script type=&quot;text/javascript&quot; src=&quot;https://ajax.googleapis.com/ajax/libs/jquery/1.9.1/jquery.min.js&quot;&gt;&lt;/script&gt; &lt;script type=&quot;text/javascript&quot; src=&quot;https://code.highcharts.com/highcharts.js&quot;&gt;&lt;/script&gt; &lt;script type=&quot;text/javascript&quot; src=&quot;https://code.highcharts.com/highcharts-more.js&quot;&gt;&lt;/script&gt; &lt;script type=&quot;text/javascript&quot; src=&quot;https://code.highcharts.com/modules/heatmap.js&quot;&gt;&lt;/script&gt; &lt;script type=&quot;text/javascript&quot; src=&quot;https://code.highcharts.com/modules/exporting.js&quot;&gt;&lt;/script&gt; &lt;/head&gt; &lt;body style=&quot;margin:0;padding:0&quot;&gt; &lt;div id=&quot;container&quot; style=&quot;width:850px;height:400px;&quot;&gt;Loading....&lt;/div&gt; &lt;script&gt; $(function(){ Highcharts.setOptions({&quot;global&quot;: {}, &quot;lang&quot;: {}}); var option = {&quot;chart&quot;: {&quot;renderTo&quot;: &quot;container&quot;, &quot;width&quot;: 850, &quot;height&quot;: 400, &quot;type&quot;: &quot;scatter&quot;, &quot;zoomType&quot;: &quot;xy&quot;}, &quot;colors&quot;: {}, &quot;credits&quot;: {&quot;enabled&quot;: false}, &quot;drilldown&quot;: {}, &quot;exporting&quot;: {}, &quot;labels&quot;: {}, &quot;legend&quot;: {&quot;layout&quot;: &quot;vertical&quot;, &quot;align&quot;: &quot;left&quot;, &quot;verticalAlign&quot;: &quot;top&quot;, &quot;x&quot;: 100, &quot;y&quot;: 70, &quot;floating&quot;: true, &quot;backgroundColor&quot;: (Highcharts.theme &amp;&amp; Highcharts.theme.legendBackgroundColor) || &#x27;#FFFFFF&#x27;, &quot;borderWidth&quot;: 1}, &quot;loading&quot;: {}, &quot;navigation&quot;: {}, &quot;pane&quot;: {}, &quot;plotOptions&quot;: {&quot;scatter&quot;: {&quot;marker&quot;: {&quot;radius&quot;: 5, &quot;states&quot;: {&quot;hover&quot;: {&quot;enabled&quot;: true, &quot;lineColor&quot;: &quot;rgb(100,100,100)&quot;}}}, &quot;states&quot;: {&quot;hover&quot;: {&quot;marker&quot;: {&quot;enabled&quot;: false}}}, &quot;tooltip&quot;: {&quot;headerFormat&quot;: &quot;&lt;b&gt;{series.name} Social Media Network&lt;/b&gt;&lt;br&gt;&quot;, &quot;pointFormat&quot;: &quot;Followers: {point.x}&lt;br&gt;Friends: {point.y}&quot;}}}, &quot;series&quot;: {}, &quot;subtitle&quot;: {&quot;text&quot;: &quot;Plotting twitter friends and followers on a logarithmic scale&quot;}, &quot;title&quot;: {&quot;text&quot;: &quot;How are your friends?&quot;}, &quot;tooltip&quot;: {}, &quot;xAxis&quot;: {&quot;type&quot;: &quot;logarithmic&quot;, &quot;title&quot;: {&quot;enabled&quot;: true, &quot;text&quot;: &quot;Num of Followers&quot;}, &quot;startOnTick&quot;: true, &quot;endOnTick&quot;: true, &quot;showLastLabel&quot;: true}, &quot;yAxis&quot;: {&quot;type&quot;: &quot;logarithmic&quot;, &quot;title&quot;: {&quot;text&quot;: &quot;Num of Friends&quot;}}}; var data = [{&quot;data&quot;: [[123943, 392], [7949, 5970], [32325243, 373], [1490012, 1203], [2624, 69], [527218, 1304], [10457, 45], [121, 328], [561, 400], [231, 125], [346, 992], [12801, 5605], [17696423, 1050], [10699887, 7252], [10010922, 1349], [34491211, 1119], [48930037, 122], [1264337, 12055], [581384, 1349], [10842, 599], [128724, 343], [64429, 633], [659, 764], [1376, 754], [12726, 4709], [3773, 2212], [41151703, 1735], [672, 361], [1073, 2103], [1709, 1180], [1500, 1430], [7714811, 15], [17962, 993], [2134, 1489], [1660761, 494], [120959, 1894], [1352, 729], [743560, 2093], [1171, 280], [5250, 436], [2536, 2812], [1424, 291], [3097, 564], [5468, 523], [332138, 491], [1105, 909], [1577, 621], [9962, 0], [2692, 117], [656923, 7241], [48377, 2858], [1210, 485], [15080, 8771], [23690, 3781], [10853, 1302], [303576, 427], [858311, 209], [7130, 1205], [35602, 34155], [1740, 953], [2388, 926], [1707, 4914], [116493, 3864], [8030, 1369], [335, 308], [51927, 927], [15923, 3993], [535, 853], [3663, 1243], [3332, 2488], [18449, 2214], [1093, 336], [1629, 159], [22757, 2197], [5597, 910], [2916, 1366], [58979, 382], [219, 286], [1533, 68], [410, 48], [923, 138], [773, 293], [1649, 239], [3384, 3683], [2943, 649], [2375, 1047], [3498, 788], [6893, 1241], [1565, 59], [444, 519], [15621, 605], [2599, 118], [69, 140], [4600, 2838], [478, 630], [108167, 398], [1098, 1021], [2943, 834], [152, 307], [10442, 2782], [699, 771], [11075, 418], [17503, 359], [374, 313], [442, 306], [37375, 147], [12665, 611], [887, 2040], [133163, 593], [660592, 2226], [788, 1464], [736, 1115], [379, 291], [10007, 1886], [24, 79], [29424, 2858], [13783, 1050], [9064, 1069], [610, 323], [5303, 1151], [201, 270], [966, 57], [5190, 775], [2488, 1632], [1387, 696], [5285, 1183], [609, 405], [383759, 97], [48050, 7169], [2100, 2304], [531, 358], [49, 105], [214, 27], [169, 409], [519, 266], [6206, 833], [1106790, 8408], [7115, 1554], [351650, 54], [2993588, 1036], [87660, 751], [8266, 294], [9493, 994], [1242996, 289], [605, 336], [12, 73], [121, 318], [517, 604], [4422, 2028], [50981, 2137], [2256942, 3942], [208714, 858], [5481, 802], [2068, 2651], [184680, 0], [2524, 603], [1881, 963], [15476916, 79], [17340762, 41], [3630273, 701], [2240, 1049], [413576, 3687], [185730, 1499], [568592, 26550], [6623, 2370], [1511, 681], [75879, 1668], [305457, 594], [876164, 212], [279763, 812], [962158, 1256], [131847, 2298], [9346, 796], [12265, 11897], [10734, 162], [3618, 1222], [7414691, 51], [31550, 1629], [7067, 1053], [387, 550], [369, 419], [588, 718], [5608, 652], [629, 118], [981, 110], [6462, 804], [2835, 668], [10852, 203], [821, 569], [522, 96], [9412, 176], [113, 91], [6694, 481], [6886, 870], [88073761, 629988], [30027, 277], [133076, 535], [2294179, 382], [36272727, 894], [1510, 540], [1412, 1529], [1418, 185], [327489, 863], [292499, 268], [4138, 977], [683, 1369], [1903, 1332], [1808, 668], [29030, 9967], [325, 240], [615755, 1157], [16666, 7242], [655075, 381], [12588, 4450], [964, 606], [164921, 2014], [20155, 2502], [2305, 386], [902661, 329], [1780224, 3033], [12304, 45], [4796, 573], [2931, 365], [3862, 472], [198, 165], [2132, 84], [55028, 965], [16884, 207], [179, 122], [8689, 196], [391, 2949], [28265, 3], [132, 218], [312, 247], [4324, 1984], [5789, 3681], [430, 152], [8271, 1125], [195502, 332], [723, 403], [20196, 1143], [1610, 464], [7741, 505], [55999, 296], [3550, 278], [934, 852], [211125, 405], [58472, 13391], [7145, 409], [188127, 382], [14732, 144], [43966, 8412], [2758, 199], [122, 62], [282, 381], [1357407, 922], [373433, 6243], [67, 92], [200562, 1973], [4671, 568], [1658, 478], [3427, 3101], [88654, 456], [9039, 6712], [21351, 988], [122404, 400], [6609, 2275], [3920, 336], [988, 1903], [93765, 654], [28790, 1555], [1616, 1310], [2909, 693], [29574, 17404], [1268395, 0], [4525, 768], [2294, 2046], [27052, 3056], [8579, 636], [28076, 484], [9194, 1357], [132503, 2534], [1079, 3002], [260, 554], [1316, 644], [1990899, 112], [3062, 4903], [39855083, 4], [199408, 5740], [2664852, 76], [550670, 87], [536891, 405], [644812, 23], [10171, 3], [13024, 58], [1678608, 2560], [20405930, 1510], [214080, 14], [1068628, 37], [1779, 105], [2067714, 1469], [3415, 1671], [328160, 48], [3917, 1019], [25821, 3965], [15226, 83], [226415, 4511], [8639, 1913], [553, 365], [2657, 1659], [11444, 443], [31, 17], [489021, 9853], [67, 85], [3709743, 8992], [25908634, 681], [9602, 411], [439, 1313], [567036, 1334], [31944, 1526], [270573, 348], [130544, 36], [558686, 878], [107252, 2168], [1553, 1335], [71, 102], [36312, 994], [72050461, 1135], [857, 840], [4526, 975], [975, 424], [799897, 663], [9845, 267], [53513, 0], [34053, 1534], [4381, 346], [294776, 15], [72244, 511], [73907, 413], [3938, 1030], [18950, 371], [35814, 39418], [1516551, 269350], [945431, 1197], [97810, 122], [236371, 1971], [158268, 612], [1896390, 263], [5039, 1073], [1345655, 15684], [766, 355], [3338, 1136], [1645, 386], [733, 598], [148345, 1450], [1781, 1319], [32605, 2543], [630, 737], [869, 322], [3326, 614], [640, 190], [6074, 1627], [1414, 1001], [1470, 639], [8461, 2927], [1682, 1818], [3353, 538], [583, 284], [1085, 1449], [69, 8], [1546, 407], [2032, 1503], [212, 99], [5422, 3852], [2508, 1470], [1687, 549], [158, 62], [2302, 1820], [694, 38], [1616, 1612], [1890, 1737], [3363, 505], [1706, 1636], [1823, 497], [258, 70], [3453, 810], [1194, 817], [220, 4], [405, 817], [5701, 839], [1679, 1346], [26294, 610], [123, 245], [3730729, 69319], [3384743, 234], [248775, 33876], [364554, 793], [221953, 228], [88793, 5069], [1774568, 205], [5280852, 1355], [1247212, 637], [83973264, 244], [363424, 566], [679, 1955], [2874993, 187], [2131373, 52], [5898, 956], [367, 584], [235368, 7413], [16954, 1000], [460934, 1831], [395, 105], [276691, 33346], [74164, 724], [15202, 258], [1676446, 1091], [389355, 1031], [1731, 784], [4614, 8], [17891232, 203], [611729, 104], [58928, 2577], [15895, 5310], [290033, 683], [7016, 827], [7956179, 238], [3929034, 1001], [2576846, 157], [10051, 210], [555165, 528], [42041, 489], [13260, 1009], [4423, 617], [568295, 14731], [19437, 1948], [2766, 901], [212817, 849], [9862514, 508], [5342, 2], [3079, 202], [13937086, 1068], [320727, 467], [57404, 342], [5344374, 4202], [483958, 6291], [161, 562], [538, 480], [488, 549], [4437, 1339], [2937, 3314], [300232, 1078], [14929, 682], [896072, 698], [2162, 2561], [899, 1028], [16, 43], [4783010, 620], [380529, 14], [1832233, 464], [34389, 537], [4582268, 543], [67608, 575], [3152571, 1440], [422063, 313], [250410, 90], [1616363, 159], [879543, 1142], [35816, 400], [1100599, 157], [2752, 9], [1903255, 283], [792520, 1556], [364340, 6447], [321500, 1060], [1014351, 497], [4619329, 87], [2993822, 92753], [118282, 291], [66359278, 129504], [212144, 247], [1623674, 1029], [13661447, 1433], [5248149, 46514], [29455, 202], [1583, 185], [2589, 1188], [3552, 375], [53, 202], [2809306, 154049], [12419, 911], [44305, 2928], [11360, 466], [660, 494], [458, 397], [449, 510], [2175, 184], [6487, 1697], [8659, 2842], [389, 113], [7010, 1659], [6177, 4747], [5046, 1681], [1715, 1155], [1914, 289], [3891, 1371], [98, 128], [11879, 2101], [10123, 2119], [340, 306], [126708, 1785], [961, 1749], [386025, 31], [386, 488], [336, 276], [22977, 1540], [741758, 694], [1917, 561], [19593, 7923], [40031, 554], [690, 1055], [3631, 5001], [5066, 2717], [28637, 604], [19884, 544], [1677, 814], [934075, 263], [1028, 327], [210908, 57983], [283421, 234], [224, 399], [2187, 1323], [83, 175], [1379, 414], [100478, 17364], [701312, 1239], [2592, 2426], [5289, 5788], [7706, 489], [935, 1746], [2284, 544], [434, 338], [19378, 2011], [673, 281], [429, 695], [1090, 767], [2870, 1018], [8607, 1544], [2633, 1730], [289, 293], [2215, 1334], [784, 997], [6481, 1019], [45, 204], [277, 670], [2074, 1811], [2524, 884], [985, 710], [325393, 196], [2596, 2986], [978, 365], [2936, 1930], [6749, 535], [227, 427], [2340, 555], [602, 2703], [2302, 1756], [14545, 42], [423572, 3140], [553549, 1526], [17148, 2157], [14801, 1150], [457727, 706], [477507, 230], [536260, 356], [1881985, 419], [16156, 7426], [5539, 1599], [235117, 4], [7972, 4871], [1285, 2196], [4609, 4815], [625, 577], [128, 90], [259, 396], [5018, 2986], [2326, 1591], [11612, 2166], [3419, 3787], [7972, 3053], [2412, 1683], [120, 218], [8714, 320], [4167, 1532], [7308, 6064], [199, 175], [285, 313], [2448, 2784], [24209, 6767], [2973, 1663], [1773, 1060], [9083, 492], [11016, 1738], [3992, 1016], [16963, 7515], [477, 202], [14549, 3705], [2016, 2488], [29818, 6984], [931, 1020], [14602, 932], [20, 97], [29707, 4172], [403, 1022], [3289, 1478], [20968, 25462], [947, 118], [18, 85], [242, 210], [9903, 1607], [5923, 3441], [1197, 531], [10189, 393], [217, 103], [5406, 2300], [635, 549], [8590, 3973], [457619, 428], [1986182, 1955], [374, 1942], [696, 1595], [807181, 629], [20464, 1453], [601, 1200], [6334, 2951], [310, 660], [5368, 4086], [4926, 862], [917, 732], [14018, 3323], [162, 219], [4513, 877], [42413, 41860], [484795, 5363], [5605, 574], [103635, 21497], [37914, 1757], [66339, 274], [47388, 932], [447052, 835], [99396, 3329], [96071, 1873], [64014, 29901], [2248, 776], [17928, 2298], [11991, 1234], [2218, 744], [8275, 312], [1497, 1626], [28482, 648], [374558, 5253], [1620138, 2686], [940, 1944], [390662, 7529], [10664, 3675], [7126, 1770], [7836, 5790], [410795, 3453], [103814, 5862], [1648162, 1441], [36583, 1487], [539422, 39882], [366083, 749], [84862, 7222], [3188, 2326], [175037, 3836], [3076647, 340], [13321, 6954], [727, 613], [509203, 1602], [1945, 1142], [967036, 1150], [16454, 66], [76559, 3635], [47082, 1647], [1025384, 223044], [487491, 26166], [1817129, 1314], [1029195, 3345], [17101, 14246], [18879, 1826], [5302, 3418], [7163, 1416], [11187, 2257], [886, 842], [415, 487], [1251, 955], [57184, 4662], [2107, 412], [623, 80], [219560, 10253], [808393, 8168], [941, 1917], [6796, 3680], [757, 796], [42339, 5998], [19230, 553], [13475103, 2242], [10018, 5894], [746, 1113], [285368, 463], [2476, 932], [11299, 600], [644, 265], [2517, 2249], [6940, 1089], [6913, 2929], [355, 244], [582, 611], [68959, 650], [11496, 1680], [586, 632], [156, 238], [1287, 1953], [24, 5], [2456735, 596], [5645, 768], [3922, 1689], [2019047, 261], [9925, 1995], [1739, 4616], [10748, 3852], [987, 561], [400, 464], [43, 49], [408, 544], [37585, 970], [2779, 4255], [938, 871], [36232, 614], [1002, 1214], [63987, 12832], [2756, 2030], [90, 7], [15341, 1681], [2217, 1934], [432, 87], [694, 964], [5836, 5083], [14582, 13914], [2742, 953], [1302, 1151], [7706, 1098], [603, 45], [682, 681], [361, 397], [625, 1795], [1225, 998], [27296, 5423], [3201, 576], [1032, 1064], [484, 647], [2135, 705], [374, 504], [33178, 31926], [490, 565], [89, 110], [146, 201], [1463, 2265], [323, 470], [3193, 384], [735, 636], [2278, 1209], [1072, 1014], [15522, 5725], [24032, 4426], [1273, 1979], [1899, 2265], [2172, 2609], [1055, 2213], [214, 160], [40, 34], [3854, 2045], [486, 216], [2398, 2253], [14, 4], [163, 777], [7, 17], [1487, 1880], [160, 687], [13172, 3906], [9504, 239], [8240, 1469], [3821, 1898], [16806, 9661], [7771, 1255], [2174, 1039], [314084, 1174], [67174, 228], [1102670, 457], [188163, 882], [3302, 79], [125551, 4], [7484, 348], [41282, 37121], [3594, 1679], [14982, 1008], [209533, 1353], [746432, 787], [384114, 425], [10627887, 3846], [1810547, 933], [1230, 477], [28916, 7762], [534503, 459], [4038, 1036], [2776, 825], [220845, 1596], [3701, 29], [553, 340], [20534, 1951], [239238, 859], [21070, 583], [9481, 1172], [3743526, 4995], [102, 318], [138, 444], [209315, 1939], [570, 322], [65759, 1077], [5150, 915], [2607, 163], [138, 167], [118, 3], [122433, 19140], [1151, 473], [7297, 5157], [2290, 327], [18909, 2494], [3230, 1197], [6131, 3242], [1921, 1295], [922489, 221], [1566, 1124], [59988, 7931], [24698, 1636], [21487, 693], [170, 255], [64666, 48341], [227, 561], [4991, 1195], [1152, 1972], [169, 148], [740, 301], [1328, 1978], [2239, 337], [776, 866], [42439, 181], [259, 606], [3655, 2730], [2136270, 648575], [279, 55], [5786, 115], [3401, 309], [19370, 385], [1272, 34], [6118, 0], [1697, 512], [193978, 555], [30317, 2499], [3014, 353], [5293, 324], [1137, 1281], [485089, 777], [18174, 1628], [913, 523], [190, 622], [8914656, 1694], [217362, 160461], [964492, 7841], [1015779, 105], [12678, 1934], [60394, 113], [2242998, 147], [2029, 1258], [1751551, 557], [3126663, 821], [2323, 2527], [962, 2009], [18158, 1602], [27622, 1088], [468, 711], [229947, 16837], [2677454, 2713], [20600177, 159], [5707835, 786], [179394, 1688], [8784614, 2839], [72150, 29857], [6066752, 24862], [56, 235], [429, 418], [269, 659], [109514, 1671], [109182, 117], [1278, 395], [2330, 193], [6075, 1224], [6516, 3880], [403252, 6081], [376, 379], [31068, 1437], [31995, 769], [14372105, 11], [14000884, 231], [237870, 233], [142008, 3277], [16607, 1655], [23907, 1864], [56576, 1761], [5279, 1841], [1793, 666], [6529648, 40], [1977777, 585], [4858926, 529619], [1023, 2210], [1430, 1224], [199198, 3180], [22013, 13807], [29726, 992], [2751, 2685], [7982, 5215], [15, 3], [1794, 509], [33270, 2082], [17, 8], [5666, 6456], [184, 192], [9, 13], [29625, 3316], [143, 162], [1778, 1196], [678673, 624], [3589, 1164], [770, 934], [756612, 585], [2866, 1463], [38796, 20483], [1938, 1101], [3862, 4222], [1506, 1176], [15285, 1122], [4525, 1075], [8720, 594], [61, 52], [36844253, 279]], &quot;type&quot;: &quot;scatter&quot;, &quot;color&quot;: &quot;rgba(223, 83, 83, .5)&quot;, &quot;name&quot;: &quot;Robin Hood Foundation&quot;}, {&quot;data&quot;: [[12667, 3476], [63, 80], [41491, 3280], [40, 21], [1056, 713], [30394, 984], [1432, 492], [60, 145], [1484, 1244], [324, 967], [10754, 1153], [73995, 4819], [977, 1418], [4180, 421], [3081, 1515], [6778, 685], [534, 367], [2564, 410], [261, 347], [3421, 1898], [1369, 182], [6675, 324], [1995, 3138], [678, 371], [764502, 903], [950, 387], [8957, 1213], [2846, 442], [2245, 2232], [6683, 1608], [919, 21], [1961, 414], [6917, 652], [1761, 344], [51069, 325], [2543, 1857], [17539, 1470], [1223, 466], [133260, 16885], [61841, 2858], [126283, 710], [2359, 1127], [5215, 4193], [97000, 8422], [32683, 5860], [292, 336], [1566, 1124], [17065, 7663], [2944, 1592], [1829, 1478], [408, 369], [1475, 1026], [67143, 920], [11429, 1019], [1401, 2561], [5066, 1010], [301, 631], [9908, 479], [149036, 808], [382, 297], [442, 748], [6590, 868], [1792, 702], [6077, 3521], [2853, 1766], [2155, 240], [6551, 1841], [499, 401], [6899, 495], [1820, 2067], [2211305, 1126], [1210, 1993], [927, 278], [2343, 2896], [24346, 611], [549, 872], [7795, 1271], [84397, 174], [38717, 4749], [2587, 1248], [993, 2082], [63195, 41], [584, 161], [141, 88], [179, 129], [434490, 684], [2758, 2036], [519, 919], [146, 166], [1829, 167], [3273, 519], [1464652, 503], [3969, 918], [31962, 2063], [2850, 624], [1634, 555], [207575, 3381], [1031, 338], [543, 211], [5185, 353], [180, 83], [4129, 1118], [565, 698], [5294, 4222], [289, 157], [939, 433], [33641, 2955], [357379, 11237], [945615, 1197], [11350, 1700], [2122, 997], [1171165, 709], [50446, 996], [1193, 943], [18053, 810], [52853, 302], [1364, 222], [2433, 2780], [8144, 1654], [32727, 1059], [4524, 3539], [34462, 5004], [31804, 165], [178, 23], [29443, 1571], [1195, 975], [3753, 887], [329049, 19450], [52332, 978], [14199, 5974], [4010, 1000], [3102, 2919], [21991, 499], [3042, 863], [183, 389], [99950, 2678], [990, 1098], [2356053, 789], [89363, 149], [348, 893], [434, 558], [71479, 2069], [27690, 873], [10045, 267], [56762, 76], [3860, 325], [69802, 482], [14042, 918], [1723523, 508], [28445, 386], [5760, 1424], [228, 164], [2199, 981], [4471, 998], [443, 403], [16128, 3050], [1173, 395], [11567, 1059], [6920, 271], [1672, 2307], [4843, 2087], [5663, 847], [2460, 996], [56789, 3470], [73, 174], [347, 373], [52, 13], [976, 395], [739, 732], [287, 231], [252, 337], [12247, 527], [303, 206], [548, 225], [3128, 1798], [19457, 2095], [22901, 639], [295, 256], [1390, 2095], [103679, 10786], [559, 542], [116, 276], [2322857, 626], [944, 318], [217, 112], [19173, 3961], [909, 1415], [59057, 994], [16988, 2150], [1107, 0], [1115, 605], [353, 534], [2296, 744], [1759, 369], [9818, 1947], [407, 763], [219, 249], [13247, 1837], [2002, 1862], [786, 329], [1464, 1070], [7732, 1161], [14470, 2324], [2353, 392], [338, 865], [3213, 408], [8586, 785], [735, 618], [4198, 811], [1782, 1113], [3942, 1554], [13928, 1], [127043, 287], [3281, 2867], [649, 756], [37748, 391], [14082, 945], [148, 605], [272, 577], [4337, 1013], [1283, 295], [2852, 870], [6183, 2176], [416, 778], [8019, 537], [536, 640], [3628, 1532], [800, 206], [8608, 1671], [244, 146], [36552, 2325], [135, 109], [276, 245], [390, 121], [2474, 416], [2677658, 4651], [1772, 1640], [13016, 1909], [1964, 1008], [6484, 750], [11196, 1714], [1288, 546], [157, 576], [767, 234], [2487, 1193], [2268, 746], [1267, 440], [5725, 658], [57032, 923], [7459, 1237], [48450, 1740], [626, 659], [46, 40], [723, 780], [98305, 446], [197, 288], [1795, 869], [1414, 434], [154722, 6868], [6279, 579], [2556, 1442], [543, 1336], [2778, 487], [661, 1271], [1062, 663], [8079, 887], [933, 363], [21447, 3674], [614, 157], [290, 357], [6291, 1322], [348, 435], [689, 1483], [29, 127], [154, 300], [1873, 647], [541, 632], [19626, 2794], [6261, 2571], [722543, 85079], [158, 148], [365, 17], [116690, 23632], [6255, 2105], [228, 70], [3514, 550], [5322, 1451], [434, 482], [56399, 1544], [1271, 1820], [20844, 763], [32194, 2753], [139, 146], [774, 483], [343, 1706], [884, 510], [111, 689], [115, 409], [1081, 481], [4151, 462], [811, 518], [92154, 440], [44, 114], [2275, 1982], [4540, 1310], [866, 563], [503, 254], [21411, 409], [47074, 1115], [129352, 52], [1470, 496], [5697, 227], [5005, 783], [3536, 2049], [170559, 13463], [5925, 1321], [1043, 1783], [2876, 736], [29083, 217], [1300, 940], [31993, 590], [5716, 1525], [378, 358], [1194, 679], [432, 1098], [214, 287], [3783, 1173], [1409, 590], [8501, 817], [11483, 9526], [312, 1141], [720, 361], [38, 41], [495, 416], [1132, 418], [677, 399], [25, 19], [195, 234], [4837, 647], [933, 1805], [440, 1574], [2133321, 1666], [1285642, 31219], [22797, 5953], [197034, 543], [4747978, 965], [2786, 1315], [334, 23], [6834, 6739], [377, 746], [22516, 11059], [4520, 166], [40662, 740], [609, 1175], [411, 481], [2490, 387], [6338, 840], [6749, 897], [1190, 144], [1467, 4491], [1303680, 401], [107373, 780], [827, 185], [6242, 1939], [1829, 362], [8135, 8102], [539, 347], [372, 173], [5214, 745], [2999, 738], [2011, 433], [5203, 582], [8, 29], [8701, 914], [53488, 0], [2848, 953], [4506, 157], [85444, 778], [286016, 166], [192798, 488], [3540, 1530], [1888, 432], [1105, 331], [32984, 1177], [806902, 902], [609, 861], [660582, 289], [6068275, 24862], [13159, 1860], [1089, 2187], [2233, 1004], [369, 201], [3203, 479], [989, 354], [14312, 7505], [3205, 2310], [583, 856], [1075, 271], [1228, 2048], [1350, 711], [431, 534], [6431, 243], [1120, 797], [210149, 8944], [29513, 3893], [52126, 6628], [228, 145], [594, 766], [233094, 697], [8478, 1905], [2275, 2004], [1134, 1259], [1247, 1420], [2262, 497], [124, 58], [997, 1480], [188188, 3138], [15337, 974], [132, 192], [54, 208], [420, 385], [3920, 278], [646, 345], [5802, 1559], [441, 617], [737, 352], [835, 492], [41111, 38337], [658, 2541], [580, 204], [731, 1167], [378, 146], [558980, 1412], [1460, 1668], [588, 460], [1405, 2085], [1353, 815], [5677, 4929], [97, 104], [1504, 791], [522, 297], [1572, 680], [2515, 1299], [1048, 1188], [174237, 41498], [6408, 1760], [8619, 9211], [1365, 147], [468, 254], [35233, 512], [984, 280], [12875, 1648], [17004, 2333], [221768, 32], [14947, 7762], [1441, 761], [35646, 512], [51248, 257], [31455, 7734], [1099, 840], [637, 533], [567, 410], [3080, 1226], [401, 537], [199, 98], [80419, 819], [35731, 557], [143, 387], [968, 1330], [9885, 1305], [1690, 1338], [688, 257], [4387, 2057], [259, 328], [299, 199], [344, 418], [20060, 2235], [565, 542], [1055, 580], [221, 339], [3299, 2853], [384471, 548], [6208, 2058], [597, 637], [1655703, 286], [3832, 366], [6720, 1917], [4978, 1540], [13788, 5445], [1627, 462], [1010, 837], [4899, 465], [2209, 475], [7848, 597], [2444, 2143], [226, 484], [6936, 2321], [80423, 3452], [5007, 840], [722, 669], [2815, 378], [11997, 753], [560998, 1005], [1163, 553], [824, 583], [826, 893], [2531, 1942], [591, 2979], [1287, 1265], [391, 2225], [207006, 1005], [1429, 2137], [535, 526], [1331, 1221], [8614, 1544], [368, 215], [18884, 17301], [62775, 999], [12526, 1758], [301856, 122235], [986, 568], [1147, 275], [3360, 2354], [7510, 912], [1538, 1539], [1238, 169], [1335, 738], [67291, 2083], [336318, 1679], [2896, 680], [118, 147], [226655, 1216], [164, 697], [5710, 1477], [124, 505], [2899, 531], [244748, 5653], [7832, 2453], [595, 714], [952, 225], [154, 311], [476197, 102534], [1352, 746], [14605, 933], [1774, 937], [12210, 3270], [680, 774], [2984, 911], [45, 447], [5354, 396], [4217, 477], [412, 616], [1590, 1151], [3436, 452], [2216, 1853], [187, 541], [1170, 133], [1472, 904], [11126, 809], [53430, 1203], [1282848, 1918], [108, 89], [2427, 766], [2104, 1224], [22, 25], [275, 222], [1007, 145], [269, 479], [14, 15], [25, 77], [23, 53], [184, 179], [45803, 437], [11803, 1417], [544, 700], [23406, 2340], [241438, 82], [3114314, 1], [2456, 2217], [290, 915], [4335, 1583], [216990, 664], [14, 18], [50, 298], [886, 1004], [14658, 908], [41, 32], [106, 475], [99, 72], [15, 20], [29, 236], [79, 315], [1132, 687], [73532, 201], [2738, 2886], [279817, 1860], [688, 1915], [597, 1008], [5888, 494], [654, 1028], [18746, 15], [25806, 1495], [633712, 658], [311, 311], [93, 373], [88, 289], [1692, 278], [6336, 2527], [41002, 1612], [24140, 1428], [3905, 1234], [3713, 1391], [1525, 1546], [1239, 372], [1845, 827], [444, 1282], [3922, 996], [2299, 926], [1735, 954], [987, 496], [5464, 4848], [25483, 942], [336, 560], [274, 610], [895, 665], [3264, 545], [9942, 3519], [72192, 1258], [25124, 2930], [746, 403], [75592, 1670], [6261, 4171], [67087, 627], [82592, 1671], [4596, 1866], [42847, 3884], [1845, 1997], [1560, 1386], [478, 1308], [291, 397], [451, 1092], [1784, 936], [32600, 2397], [5494, 1673], [67842, 4774], [46093, 3838], [4333, 4235], [902, 824], [204, 575], [1244, 800], [5748, 1588], [624, 196], [1488, 611], [84, 247], [1722, 139], [226, 54], [618, 327], [1683, 2130], [2943, 4995], [1411, 682], [2840, 439], [1640, 319], [15677, 710], [758, 1089], [1268356, 376], [554648, 331], [39399, 315], [14679, 292], [460, 414], [6103, 1660], [220377, 4013], [1247, 295], [14299, 4365], [460, 607], [3599, 934], [5751, 4517], [735, 462], [738, 238], [2231313, 285], [57, 137], [3098, 1083], [557, 252], [7162, 1327], [4900, 3727], [33566, 3683], [5411, 445], [1712, 718], [193030, 371], [736, 1365], [297, 548], [126, 79], [72956, 1699], [1274, 1789], [300, 247], [318, 427], [17317, 992], [14649, 1812], [1087, 1609], [410, 607], [1201, 499], [1581, 556], [303, 502], [226, 94], [5635, 2024], [8324, 878], [3599, 1533], [125, 177], [48, 185], [1336, 417], [9052, 19], [22852, 841], [30745, 1600], [2825, 202], [408, 814], [1011, 2197], [3975, 210], [3212, 1170], [32958, 1301], [3193, 764], [6709, 1061], [216, 175], [1582, 1921], [801905, 382], [147494, 1413], [2277, 323], [4160, 2992], [2224, 217], [1954, 683], [346, 1021], [783, 504], [5511, 2726], [602, 554], [4672, 663], [3476, 2867], [10765, 810], [5495, 1158], [182703, 981], [696, 376], [37032, 269], [8306, 2107], [1635, 382], [205, 33], [49335, 11481], [1514, 1586], [213265, 2781], [277, 537], [302, 581], [1563, 3106], [798, 558], [943, 855], [29206, 7560], [10632537, 3846], [3414, 3], [292, 73], [15024, 1462], [114, 351], [2166, 1928], [225, 364], [1599, 1430], [456, 199], [877, 935], [1393, 373], [745, 1452], [37060, 2379], [137316, 38], [41860, 2586], [3431, 661], [92654, 3600], [1092, 199], [2108, 557], [7602, 826], [3834, 920], [2755, 2064], [770, 204], [1487, 1499], [404, 216], [718, 1419], [650304, 307957], [19541, 8020], [1485, 598], [4500, 2384], [76, 269], [834, 1077], [1906, 449], [18888, 377], [1472, 3124], [1581, 1001], [5324, 3583], [67304, 2781], [13357, 3084], [55415, 302], [692, 1415], [762, 613], [356, 210], [605162, 1810], [15366, 1505], [250, 295], [8141, 1329], [11178, 859], [85, 53], [2821, 379], [19475, 137], [36876, 1034], [90, 102], [374, 185], [428, 522], [124, 293], [182, 920], [9615, 1866], [86915, 1902], [3114, 806], [4461, 2073], [994, 1169], [87170, 2677], [22851, 5070], [4850, 1408], [690, 613], [2391, 1396], [319, 141], [3308, 667], [1062, 110], [4535, 673], [12372, 854], [1935, 721], [14604, 939], [795, 23], [2719, 1499], [3870, 1458], [4062, 3015], [17, 7], [707, 1782], [1410, 382], [7465, 3617], [536, 292], [9879, 1505], [409, 408], [66151, 229], [1691, 566], [1652968, 380], [777, 355], [732, 3135], [6873, 1015], [180, 65], [2321, 1874], [2684, 346], [2768154, 57], [1543, 300], [1444, 468], [2726, 327], [4336, 1351], [353, 794], [5152, 1706], [919, 473], [2320, 1543], [29488, 448], [11541, 420], [822, 1362], [274, 248], [307, 344], [137528, 388], [2851, 552], [1825, 909], [234, 154], [292, 98], [5188, 5504], [1477, 1664], [1351, 250], [407, 922], [465, 1955], [476, 353], [1912, 337], [2686, 225], [2190, 526], [720, 988], [543480, 564], [437, 125], [3952, 716], [3436, 1351], [2678, 1133], [3466, 3968], [243529, 1504], [5517, 966], [3499, 2267], [62311, 3817], [6322, 1730], [11590, 4820], [19695, 381], [19226, 99], [36439, 283], [3673, 2864], [3490, 160], [1125955, 25], [5530, 1235], [569, 861], [182, 153], [1559, 861], [1499, 536], [14941, 1076], [1225, 1553], [10921, 3141], [1215306, 220], [32192, 1255], [4813, 4227], [4554, 983], [333593, 12463], [76592, 672], [17291, 868], [188738, 785], [7747, 2306], [2504, 3074], [1230, 561], [45362, 744], [9213, 359], [257, 160], [1202, 1840], [1124, 1365], [10766, 2095], [586, 2215], [6869, 105], [51929, 928], [19990, 8412], [60234, 6371], [253704, 432], [146732, 1032], [13171, 829], [20843, 640], [271079, 388], [72538, 1384], [5747, 1642], [151, 139], [2487, 371], [5007, 2240], [247164, 864], [153921, 324], [380, 1372], [4161, 165], [43627, 6030], [15552, 911], [36, 28], [55709, 1885], [266443, 1132], [287, 853], [206, 256], [2934, 557], [219, 345], [380, 27], [153, 347], [1170, 873], [1296, 2], [654, 1013], [340, 308], [24202, 4212], [10327, 2195], [789, 1762], [210, 0], [5495, 1270], [1025, 1466], [52072, 1080], [1959, 474], [17391, 1009], [15115, 1535], [29574, 17404], [419, 1101], [3449, 82], [2673, 1001], [31413, 181], [2726, 1570], [1133, 977], [17816, 335], [57316, 7616], [2139, 1756], [31281, 702], [74, 167], [17, 43], [164, 191], [1732, 712], [552, 563], [64713, 4243], [39854038, 4], [1621, 1418], [2509, 695], [43, 17], [3437, 841], [1811, 1202], [802, 227], [4403, 1429], [774, 1380], [1858, 1326], [787, 920], [796, 432], [1932, 1342], [4905, 1508], [1216, 647], [10133, 2313], [2589, 600], [4667474, 7578], [867367, 993], [409791, 517], [23027, 86], [302365, 1456], [668, 652], [44, 12], [1080, 1775], [280, 392], [1341, 1970], [1573, 1242], [3502, 501], [4379, 2544], [57, 33], [756, 1229], [248, 508], [225, 634], [77, 47], [912, 913], [281, 543], [73, 104], [712, 923], [597, 477], [17, 48], [958, 901], [36047, 261], [785591, 555], [48197, 1009], [18320, 7], [2083, 1679], [190, 576], [552, 489], [206, 93], [80, 365], [42308, 820], [682633, 1392], [1066, 222], [1783, 666], [12012, 1371], [1459, 932], [45967, 1523], [394, 178], [1595, 297], [138, 118], [137, 76], [196, 30], [22, 0], [1452, 331], [2949, 1024], [1690, 887], [265, 355], [570, 315], [284, 283], [54, 66], [135, 399], [547, 613], [317, 319], [1303, 1253], [1962, 401], [2150, 428], [2812, 1868], [735, 984], [113, 268], [678, 1150], [201, 348], [443, 857], [526, 320], [345, 502], [742, 710], [480, 391], [1109, 561], [12856, 427], [13397, 1643], [11368, 2244], [3651, 1920], [18739, 1729], [5406, 195], [35147, 1642], [2087, 2291], [5894, 493], [22197, 2078], [2182, 1223], [419, 340], [17186, 3061], [1855, 998], [269, 193], [1746, 888], [2580, 792], [3606, 818], [2874, 586], [331, 127], [2331, 888], [1452, 909], [1808, 208], [1729, 851], [1818, 1460], [46156, 6508], [2542, 858], [2909, 784], [9315, 717], [6531, 1368], [1136, 394], [10974, 528], [566, 834], [28597, 21304], [21294, 21030], [195, 695], [1009, 70], [939, 267], [537586, 1976], [312283, 8267], [4584, 2197], [103728, 6739], [293, 123], [541, 109], [1258, 986], [4681, 768], [5395, 455], [19303, 922], [5798, 1855], [33008, 925], [15832, 2027], [6332, 1247], [27727, 694], [121860, 47], [17466, 1867], [8088, 487], [44, 77], [15037, 692], [854976, 858], [1079, 337], [351, 724], [619, 507], [669, 410], [55569, 1263], [22321, 4068], [1107217, 4699], [131861, 2298], [4079, 539], [4914, 564], [32906, 15716], [91, 185], [20615, 332], [599, 379], [1207, 283], [48766, 1150], [26482, 1024], [10172, 5458], [2810926, 816], [9790, 27], [264656, 962], [2893, 2432], [2645, 237], [1001, 423], [2325, 896], [11719, 879], [364, 549], [55865, 3044], [1688, 352], [1762, 2067], [262, 73], [2504, 107], [1157, 949], [254, 645], [206480, 704], [1275, 263], [1094, 818], [15389, 1179], [547, 926], [4233, 1507], [5771, 932], [127, 310], [1505, 2378], [446, 123], [98364, 1333], [655, 784], [12627, 2045], [90, 250], [18255, 784], [390, 0], [681, 1204], [19990, 3022], [2790, 727], [149, 262], [394, 749], [2183, 514], [147, 202], [18464, 974], [292, 342], [104435, 729], [1338, 1803], [1944, 165], [23765, 864], [1888, 21], [12175, 1074], [2272, 1287], [688, 630], [6088, 359], [351, 405], [213, 149], [4343, 616], [3659, 1190], [8448, 717], [1094, 688], [5312, 1701], [75, 60], [1008, 312], [1456, 264], [233722, 1393], [13278, 2953], [32, 96], [22016, 1589], [488, 280], [3708, 11], [6296, 497], [2376, 2778], [1319, 826], [2106, 600], [8852, 2066], [9784, 965], [9104, 3020], [123469, 1109], [538, 412], [8544, 1673], [3719, 457], [182, 128], [95, 484], [1651, 541], [1215, 2464], [594822, 4421], [396, 232], [2903, 1908], [433, 218], [557, 517], [517, 47], [3176, 528], [23807, 27], [5541, 1195], [4661, 1134], [4714, 1904], [739, 448], [184, 388], [11212, 2602], [479, 512], [234, 267], [2379, 773], [1057, 1580], [17509, 472], [22525, 2269], [5022, 203], [13075, 5118], [3870, 92], [386, 954], [18937, 299], [4180, 2190], [73809, 829], [1824, 570], [4386, 308], [2524, 383], [3758, 530], [125594, 4], [3244, 1356], [6642, 2252], [5632, 1057], [650364, 683], [857, 926], [66638, 918], [479, 132], [806, 346], [2889, 446], [7545, 953], [33287, 713], [1447, 2185], [5254, 1558], [1423, 534], [10338, 5764], [2806, 1119], [47198, 469], [10593, 2628], [3172, 323], [48081, 626], [25440, 1962], [454, 812], [494, 406], [4558, 463], [2646, 1148], [1215, 696], [2343, 1300], [6306, 4294], [225503, 27], [1585, 244], [56115, 2172], [14844, 618], [971, 495], [2745, 1491], [3058, 825], [13616, 10115], [2536, 474], [3596, 2946], [13841, 1889], [3195, 1597], [704, 996], [21625, 1813], [540, 461], [742, 606], [23266, 885], [29414, 476], [5390, 2370], [111753, 1392], [75916, 662], [382, 510], [389, 1014], [496, 1558], [753, 664], [16526, 1652], [1383, 915], [4485, 2054], [41431, 1492], [13636, 2271], [304, 735], [5758, 2767], [1824, 245], [33266, 128], [46987, 429], [1921, 1859], [149892, 476], [316, 502], [5679, 225], [1177, 553], [1702, 979], [524, 24], [1052, 9], [3571, 1955], [454, 16], [10060, 557], [256, 69], [639, 747], [803, 658], [1256, 225], [2473, 107], [974, 1233], [543, 362], [11703, 1173], [253, 136], [3923, 245], [2130, 1], [1135, 405], [2893, 2621], [1086, 1243], [152, 402], [1438, 620], [1647, 365], [4142, 860], [492, 415], [175, 298], [4986, 1937], [403, 545], [289, 284], [670, 234], [55, 143], [3149, 401], [575, 1365], [93, 12], [8728, 1093], [81, 42], [791, 710], [2395, 923], [229, 582], [594, 806], [2303, 159], [900, 805], [158, 95], [423, 185], [407, 425], [9676, 1096], [1880, 1125], [2474, 1302], [7356, 5045], [4188, 391], [110, 82], [2748, 1036], [4224, 1963], [45657, 1238], [4305, 1867], [6277, 1119], [7733, 2652], [31196, 1760], [6920, 1430], [4165, 530], [75810, 1984], [432060, 1014], [215, 25], [6498, 3165], [992, 119], [16631, 4447], [20382, 196], [14541, 364], [39988, 2715], [2832, 387], [22638, 6032], [4043, 5001], [2037, 912], [753, 313], [2856, 395], [7662, 2012], [19340, 2335], [2393, 1033], [3136, 102], [11070, 384], [31469, 741], [3003, 3151], [2499, 3024], [12461, 1855], [17453, 1529], [272, 377], [2502, 1165], [20200, 1], [26831, 999], [13999, 3191], [5679, 4274], [422, 670], [1358, 1615], [1714, 1603], [634, 268], [1189, 724], [4409, 917], [737, 383], [2308, 1170], [2354, 997], [1531, 486], [20515, 1403], [364, 904], [6286, 790], [2805, 1349], [3176, 394], [17033, 644], [1537, 1004], [6788, 2193], [22026, 2517], [1010, 1041], [60297, 1410], [25069, 935], [1059, 671], [75055, 1870], [5137, 1328], [5116, 348], [163240, 774], [13301, 948], [4618, 1619], [48704, 868], [13140, 4407], [6467, 601], [1660066, 1106], [10135, 615], [443, 931], [5736, 507], [5060, 1127], [846, 373], [4645, 3087], [239679, 1000], [191, 54], [596170, 2354], [4190, 1006], [3281, 645], [210, 63], [5767, 254], [7324, 4600], [1475237, 929], [4361, 2345], [1875, 1136], [7362, 820], [688, 473], [3087, 541], [6049, 1017], [2764, 357], [1778, 1191], [1182, 619], [17870, 2405], [3790, 1840], [9268, 2940], [2390, 860], [49553, 230], [2571, 2097], [16573, 4656], [4118, 2220], [11184, 1246], [19507, 5424], [24916, 721], [1563, 583], [4946, 828], [1387, 1082], [17090, 1196], [1135, 1189], [45317, 2536], [713, 199], [48032, 162], [3105, 258], [579, 40], [3361, 75], [7873, 540], [2721, 1273], [810, 342], [9671, 210], [141440, 631], [41700, 604], [7238, 3993], [7064, 656], [3149, 643], [23507, 1707], [16729, 283], [8383, 372], [14994, 2243], [16590, 2465], [1910, 962], [4145, 1509], [3219, 747], [211, 187], [219202, 11193], [5390, 435], [18872, 1814], [26747, 661], [6430, 1088], [1799, 1015], [6963, 1685], [1222, 835], [4972, 430], [43422, 74], [21023, 2375], [31510, 1373], [18647, 1125], [2355, 217], [13220, 997], [4457, 2342], [156, 268], [4354, 2013], [8958, 325], [21600, 4587], [4632, 406], [7670, 5173], [1196, 1313], [32187, 239], [14745, 2542], [9648, 3796], [21217, 855], [15635, 1996], [129834, 2662], [13425, 975], [7967, 3302], [1316, 1492], [2370385, 594], [4654, 807], [5108, 2225], [946, 98], [17859, 1533], [4514, 2347], [1985, 921], [536962, 405], [3996, 408], [14840, 75], [4199, 842], [7084, 1389], [24036, 4892], [1557, 578], [10283, 2890], [9175, 1668], [95, 154], [61861, 2909], [2365, 1536], [50774, 4451], [3551, 44], [2459, 201], [598, 699], [1228, 365], [475, 430], [9701, 1583], [9900, 549], [87093, 2702], [746025, 29432], [36232, 3083], [2966, 920], [7918, 1863], [98387, 1379], [131733, 1873], [9379, 1386], [834025, 871], [20610862, 159], [13757, 1300], [11199, 1026], [4491, 430], [4581, 473], [77995, 6267], [24508, 322], [11190, 2258], [219502, 86], [37974, 6636], [1031, 232], [1926, 2055], [318, 549], [17401, 3464], [26487, 1580], [23318, 1997], [4013, 981], [865, 708], [18785, 1567], [38579, 1136], [9415, 2993], [3097, 1048], [3505, 110], [157, 25], [2261, 2197], [12310, 1864], [368, 2193], [6186, 0], [2088, 441], [5089, 788], [5818, 1575], [975, 453], [525, 1342], [122744, 1383], [6796, 2018], [2211, 588], [445, 104], [39417, 1995], [25225, 1965], [2412, 1146], [509, 262], [1161, 788], [3922, 379], [16059, 2821], [6775, 1266], [995, 284], [365, 114], [1096, 482], [533, 365], [1359, 966], [1896, 2096], [2376, 1125], [74377, 2310], [255, 186], [1535, 530], [1009, 3162], [3675, 2057], [6733, 1008], [14626, 554], [3668, 829], [1489, 384], [16557, 1177], [1869, 559], [2055, 32], [933, 684], [241, 39], [5123, 835], [343548, 1530], [3008, 500], [896, 84], [3516, 2494], [1401, 1378], [711, 1075], [44, 32], [2146, 1517], [4604, 1317], [350, 567], [522, 271], [19288, 314], [752, 247], [403, 299], [970, 740], [258, 20], [60, 604], [3803, 4254], [40041, 806], [267, 61], [655, 825], [62749, 916], [4848, 1478], [58745, 887], [1919, 553], [6428, 606], [17108, 2062], [3154, 666], [11699, 2167], [4829, 0], [9009, 337], [886, 1258], [3419, 739], [4237, 3294], [307, 1764], [12380, 396], [5112, 776], [4650, 579], [34287, 1183], [2086, 496], [216832, 5222], [16355, 2387], [2309, 1211], [28360, 561], [1753, 44], [11509, 666], [17213, 2395], [1037, 251], [286481, 3576], [8736, 172], [44031, 1802], [18276, 466], [33662, 2159], [926, 1830], [15238, 1313], [20368, 1093], [14120, 5265], [5309, 378], [10928, 995], [81, 11], [254, 589], [41127, 2812], [15159, 664], [1369, 67], [5060, 710], [1311, 3079], [1896330, 263], [5041, 599], [1417, 766], [16911, 1418], [2036, 936], [8665, 9286], [220198, 1150], [10608, 1522], [16937, 570], [11817, 1108], [2373, 2375], [3557, 2866], [14414, 2159], [4247, 1223], [67346, 1316], [1163, 1045], [1207, 711], [28047, 505], [16664, 5848], [8410, 1953], [827, 679], [1116, 1074], [1166, 26], [18998, 1085], [426, 10], [1084, 408], [13380, 753], [11462, 5426], [66, 38], [1529497, 1025], [17567, 1238], [74736, 681], [677, 460], [1544, 436], [431, 323], [991, 372], [247, 745], [1701, 177], [2580, 566], [600, 316], [4106, 76], [471, 162], [416, 101], [1312, 509], [5724, 1693], [36937, 1164], [6773, 1831], [2818, 2083], [328885, 3151], [9715, 2994], [9532, 1028], [18279, 1453], [73231, 410], [2889, 1087], [12173, 7806], [289, 1064], [1102, 822], [483, 247], [4067, 1842], [2347, 1008], [9564, 4431], [16097, 2839], [1004, 1997], [39659, 1594], [74456, 1382], [3553, 175], [5342, 676], [6851, 653], [10611, 2155], [16806, 9660], [5765, 259], [8876, 976], [4554, 2422], [82827, 2815], [7647, 930], [3382, 855], [425, 163], [702, 311], [23448, 1567], [1570, 625], [267, 297], [3276, 995], [475, 1348], [32, 76], [240, 1387], [16538, 10659], [23, 68], [306, 573], [9950, 1051], [1891, 100], [5468, 523], [52303, 4549], [18509, 10404], [6989, 1228], [2208, 1001], [207, 481], [5822, 656], [24660, 1355], [2160, 911], [155, 144], [602, 439], [116131, 2893], [24559, 16251], [255, 143], [133, 29], [27881, 1173], [3610, 1007], [652, 292], [20673, 2001], [214701, 1317], [151119, 3320], [15382, 1781], [24196, 1093], [34686, 533], [3562, 119], [12628, 669], [5393, 1352], [260546, 1932], [1273, 1024], [1581, 517], [391, 380], [1831, 1586], [1454, 539], [965, 34], [1467, 118], [537, 216], [472, 112], [1205, 1353], [3602, 944], [8207, 4156], [2015, 209], [605, 140], [11625, 6269], [313, 71], [60521, 1669], [2066, 187], [2291, 798], [3737, 1351], [31149, 1611], [386, 546], [22135, 824], [11974, 1761], [2972, 322], [7783, 716], [188, 341], [10379, 2539], [1367, 776], [96151, 272], [13498, 1273], [17961, 993], [20177, 856], [96, 64], [15409, 958], [6936, 862], [439, 23], [23160, 617], [11761, 943], [18283, 4928], [3684, 1175], [19752, 4218], [686, 1879], [206621, 847], [2368, 974], [5507, 1650], [5009, 2], [722, 542], [2422, 1848], [2538, 2625], [654, 408], [926, 1005], [1504, 715], [1184, 736], [1895, 2429], [45904, 2091], [18995, 955], [2284, 291], [20986, 251], [11343, 6414], [3132, 574], [8273, 1137], [14765, 3154], [10941, 2428], [807, 281], [56731, 1438], [39037, 1907], [14903, 1], [854, 723], [99545, 1164], [17130, 2494], [8921, 1990], [59549, 3271], [34811, 274], [567, 388], [2965, 940], [3883, 2780], [25611, 777], [25273, 598], [1862, 1952], [2389, 2739], [23791, 465], [1054, 771], [4509, 1181], [42672, 1012], [1047, 463], [641, 209], [6931, 3506], [1821, 1278], [1123031, 8593], [211046, 135], [4371, 1733], [13048, 2443], [35950, 2144], [1582, 930], [4387, 1490], [40601, 17955], [967011, 1150], [211606, 2645], [28455, 787], [22428, 2892], [42659, 825], [3372, 2603], [6812, 960], [9911, 2045], [8093, 5318], [20739, 1414], [4681, 1102], [615, 704], [7200, 695], [419, 440], [26849, 3107], [2000, 2437], [7691, 3125], [16298, 3442], [38197, 720], [2111, 1449], [186625, 774], [1217, 2287], [2079, 93], [964, 1131], [5405, 114], [7858, 6227], [57874, 1187], [6280, 318], [579, 447], [50691, 1164], [177988, 1712], [5352, 1368], [249, 350], [1696, 245], [4612566, 428], [2325, 770], [3527, 837], [1930, 801], [4810, 3499], [4773, 3], [473, 609], [1748, 992], [19011, 863], [489, 796], [2048, 2927], [129803, 376], [2536, 205], [2566, 3757], [39914, 477], [3729, 1315], [616, 398], [65053, 378], [8657, 389], [400598, 1358], [1279, 629], [1101, 129], [4571, 1598], [13479, 3372], [15811, 1146], [2397, 1953], [5755, 879], [1184, 1921], [2561, 1108], [784, 1876], [254, 255], [1120, 826], [31611, 999], [2868, 1137], [658684, 361], [520, 165], [2939, 1430], [224, 230], [311, 121], [936, 1565], [517, 583], [286, 444], [86, 413], [49, 7], [21788, 1112], [19901, 1811], [10, 0], [1198, 871], [1257, 917], [3072, 1], [18263, 3108], [2067, 162], [204, 399], [39454, 6858], [1851, 1462], [7111, 2779], [78219, 2663], [11053, 5232], [2020, 960], [1295, 337], [18948, 4781], [693, 1058], [70, 93], [35923, 1220], [1232, 848], [3583, 972], [84292, 1065], [106236, 3673], [7303, 7297], [12886, 7372], [956, 1356], [14167, 1181], [50548, 1961], [189, 516], [1073, 435], [4504, 1299], [33081, 2488], [5933, 807], [10579, 1418], [26337, 479], [4580, 2165], [34647, 603], [13498, 1067], [15112, 452], [1105854, 1188], [54308, 808], [921, 1468], [17594, 798], [694834, 0], [251740, 2575], [132991, 790], [11509, 3885], [1422, 1091], [16670, 483], [2131, 933], [33792, 2975], [42233, 183], [11084, 1007], [191599, 716], [6205, 382], [12695, 1272], [26352, 1220], [5037, 1430], [4357, 2344], [143738, 1702], [65297, 1756], [12295, 403], [5067, 5615], [17514, 801], [73192, 5399], [9031, 1809], [61200, 4545], [813, 185], [302, 311], [885926, 17709], [5635, 798], [434, 476], [1587, 410], [23871, 278], [10843, 84], [1376, 1136], [1055, 2213], [19986, 2119], [6246, 1917], [2323, 743], [789298, 172], [15943, 1752], [6642, 4313], [16633, 615], [5577, 1806], [34326, 75], [105836, 1236], [5906, 400], [10171, 11134], [8312, 1262], [320730, 14626], [5811, 0], [17471, 1419], [816, 936], [8181, 8659], [115288, 1939], [5515, 2778], [1951, 379], [18673, 1152], [1685, 1613], [630, 73], [3035, 3242], [905, 536], [5421, 5944], [369, 55], [109524, 1671], [6128, 0], [17, 0], [16978, 34], [3207, 508], [132528, 2534], [2070, 742], [236, 7], [4839, 308], [7147, 1272], [74342, 6810], [25610, 30], [8773, 3420], [4910, 531], [23656, 699], [1319, 1092], [41895, 5291], [15707, 896], [29600, 265], [7016, 183], [60959, 1335], [1461, 807], [1873, 1796], [3508, 217], [1041, 407], [3161, 992], [3729, 794], [6050, 1739], [6480537, 1111], [166042, 3692], [25373, 1184], [55579, 854], [6415, 300], [9987, 1395], [5924, 1889], [2773, 2198], [1732, 1310], [37308, 1005], [76641, 2384], [3727, 1325], [22538, 503], [5381, 1115], [41529, 817], [2308, 476], [17389, 3427], [13071, 11788], [27696, 3796], [8668, 361], [244, 67], [18, 47], [14672, 1893], [2261, 1248], [15067, 1277], [4745, 2009], [405, 168], [6762, 301], [114372, 989], [1099, 534], [84864, 7222], [21609, 2566], [1562, 261], [14590, 1308], [10179, 2494], [593547, 2189], [6772, 7221], [735, 524], [181, 96], [9091, 2150], [1226, 777], [237605, 1393], [61845, 4003], [543, 249], [1255, 1290], [954, 644], [301, 607], [7880, 1802], [2286, 2334], [15936, 494], [3699, 1043], [7071, 1233], [243, 144], [190, 361], [5128, 690], [90, 77], [15464, 1012], [985, 984], [50499, 22052], [2768, 994], [4726, 1090], [922, 157], [6812, 1393], [666, 581], [247, 461], [1500, 856], [86, 121], [15476, 3005], [54759, 3423], [23, 10], [3530, 616], [1050, 108], [1891, 67], [266065, 439], [378, 440], [2239, 193], [868, 498], [4260, 996], [266672, 961], [1038, 697], [7977, 834], [495120, 90], [4268, 1993], [3155, 1158], [2957, 981], [7184, 735], [37749, 966], [3258, 1445], [3519, 380], [34403, 3062], [26984, 26843], [53144, 2408], [27124, 1983], [371342, 282], [8898, 1049], [192313, 3532], [1758, 1767], [2075, 1140], [5094, 1217], [66083, 13507], [8073, 2529], [531002, 120], [791, 203], [507, 760], [30908, 2130], [374, 218], [1902, 1523], [16755, 3179], [104, 151], [2567, 1606], [3942, 3385], [604, 1091], [11909, 1134], [929, 1358], [267, 65], [1473, 255], [15917, 7900], [1208, 1348], [1302, 485], [157028, 1472], [1857, 1664], [169901, 450], [61879, 85], [4788154, 620], [1381, 972], [1284, 85], [5632, 3647], [1389, 428], [893, 215], [4043, 2663], [2368, 2183], [5148, 2029], [6366, 1007], [72986, 15], [9658, 609], [860, 183], [1777, 1507], [65041, 2043], [6722, 1213], [118945, 4663], [4206, 2125], [3215, 1051], [22271, 4053], [7186, 181], [449, 635], [146, 214], [35712, 1092], [1392, 329], [6898, 4212], [693, 713], [822, 459], [7049, 731], [52018, 594], [1077686, 890], [3466, 329], [2117, 2433], [60538, 18867], [1177, 6], [5591, 3861], [2624, 553], [67437, 802], [22575, 7048], [457, 617], [3448, 2818], [593, 772], [1905, 1648], [911, 356], [7433, 8149], [10365, 689], [78667, 646], [25039, 2081], [12113, 2198], [19120, 1198], [49427, 7512], [1500, 2032], [55530, 3124], [21485, 693], [50107, 1597], [27664, 7194], [8325, 246], [618, 519], [1206, 2639], [32841, 302], [65, 6], [1716, 135], [14240, 857], [1279, 330], [79, 17], [2755, 957], [5184, 265], [5047, 727], [1409, 1139], [10017002, 1349], [2437, 1230], [1174, 578], [4616, 2882], [1428, 477], [4285, 2928], [6947, 1697], [125, 117], [121671, 239], [22324, 1053], [25234, 505], [823, 333], [6339, 350], [7296, 1044], [3262, 627], [1155, 898], [178268, 5525], [1276, 498], [10641, 5582], [518, 725], [2946, 707], [1027, 2046], [6622, 1132], [21351, 2343], [1442, 721], [520, 516], [607, 478], [5261, 1010], [47803, 1143], [11012, 2682], [4676, 2584], [650, 452], [3082, 2352], [39280, 2346], [519, 620], [1189, 1553], [2013, 1454], [1797, 599], [685, 259], [4275, 799], [690, 414], [31927, 27737], [2244001, 147], [8650, 2888], [1634, 1569], [87742, 1925], [3673, 354], [5695, 5772], [4578, 238], [4660, 476], [1152, 1577], [789, 374], [3043, 2179], [630, 423], [4450, 1626], [568, 572], [129428, 1749], [5672, 4543], [1195, 817], [47355, 48628], [61554, 6788], [2730, 1644], [1607, 203], [6796, 3680], [760, 394], [139628, 69362], [9170, 659], [1092, 300], [4285, 2299], [3883, 202], [1496, 1623], [251146, 1444], [23525, 387], [1012, 237], [15764, 619], [1163, 3666], [1223, 477], [12563, 5987], [104, 491], [590, 663], [2829, 3282], [3311, 2112], [592, 469], [8128, 3382], [3046, 243], [13852, 1783], [10261, 4025], [16500, 623], [17437, 9947], [4714, 1408], [24137, 247], [103, 180], [16054, 1027], [254, 302], [6610, 2275], [2008, 357], [5819, 4421], [10444, 798], [7530, 373], [29307, 2201], [2907, 107], [33357, 1893], [4053, 1076], [70670, 948], [51943, 998], [31580, 3461], [832524, 9457], [1235, 1195], [854, 38], [23, 52], [372287, 0], [6394, 176], [5068, 734], [352, 287], [207, 339], [3201, 557], [2342, 2251], [4260, 152], [2511, 201], [6792, 962], [39803, 925], [3760, 1248], [1177, 130], [12266, 4114], [1249, 1134], [6973, 3451], [8161, 7], [4335, 2373], [1032, 970], [3153, 60], [25273, 826], [98866, 8296], [106, 144], [1723957, 868], [27763, 549], [6666, 7182], [6059, 4605], [1829, 823], [26395, 3893], [1117, 709], [2053, 494], [5895, 1995], [17143, 18701], [918, 1011], [5937, 3502], [1398, 1382], [2482, 1107], [3778, 20], [9358, 2380], [855, 1014], [52019, 971], [720, 150], [8801, 1509], [8210, 3910], [2506, 1225], [18371, 4974], [52550, 624], [9661, 1105], [7001, 835], [18237, 6903], [17554, 1212], [24694, 1281], [2936123, 16], [41600, 1892], [71895, 2121], [13855, 710], [1452, 1340], [28864, 6465], [232209, 833], [198720, 2044], [1772, 1013], [8121, 1124], [3409, 1648], [711, 595], [29383, 1548], [1213180, 473], [42753, 1298], [1378, 1510], [4723, 830], [23103, 2735], [72612, 1499], [7216, 2830], [966, 553], [15171, 2654], [275, 174], [3650, 2967], [9022, 6977], [4108, 3210], [1366, 227], [2988, 1203], [4285, 2170], [5790, 2724], [1839, 1280], [4719, 415], [4245, 685], [489008, 9853], [3895849, 224], [7592, 2842], [3, 0], [423, 986], [1841, 1086], [6406, 769], [644, 1196], [1217, 985], [4523, 1525], [11090, 9817], [7496, 2183], [792888, 5378], [29689, 3320], [6526, 123], [3729, 2003], [4556, 1330], [88, 0], [1542, 1195], [75974, 5996], [147161, 752], [4861, 1037], [17434, 1131], [10208, 6337], [268444, 31540], [1539, 1698], [23008, 1007], [2742, 2044], [4222, 1209], [1093, 411], [1152, 727], [2202, 1097], [4557519, 1151], [63903, 1348], [10862, 4273], [4173, 486], [24492, 303], [8949, 2246], [70078, 5787], [11992, 1234], [7824, 1523], [2427, 1617], [52727, 2836], [918, 1098], [15497, 154], [4315, 43], [8810, 1289], [47691, 1279], [277, 432], [3195, 1233], [4474, 953], [638, 1295], [524, 453], [4796, 3663], [35173, 10477], [96087, 1874], [1941, 836], [41519, 39934], [2677, 3552], [3330, 57], [3552, 1089], [22785, 3285], [578, 560], [30292, 1930], [904, 823], [2201, 621], [51293, 2569], [14566, 731], [1710, 937], [8408, 7505], [1933, 859], [7018, 3832], [31123, 4008], [4943, 1870], [628, 563], [10053, 13868], [8218, 639], [475, 924], [2349, 1513], [2218, 744], [4215, 4054], [7794, 269], [501, 1138], [298585, 104], [26139, 965], [27220, 840], [1622, 563], [312, 376], [349, 313], [7332, 4785], [839, 931], [13977, 956], [16184, 1926], [316015, 72594], [38400, 1225], [11349, 1519], [1422, 1110], [383, 436], [71536, 3610], [40225, 3038], [1229, 2092], [807, 1286], [878, 1894], [1978662, 1776], [284978, 904], [355, 1038], [6129, 3242], [2200, 1062], [149, 166], [13005, 4946], [281, 524], [5285648, 745], [535, 314], [1091, 195], [108202, 585], [5992, 1094], [877, 301], [7066, 1973], [2710, 1311], [3210, 3367], [12060, 66], [44844, 197], [4276, 557], [1693, 1282], [817, 566], [794, 206], [6594, 6888], [181, 351], [17643, 2835], [2838, 1558], [8960, 1146], [748, 2098], [6050, 825], [2469, 2265], [16134, 757], [4357, 2041], [8096, 897], [1842, 630], [2730, 2053], [11239, 1142], [25020, 2169], [29069, 6319], [4789, 848], [5482, 1061], [587, 1960], [61324, 4255], [97434, 556], [176633, 92207], [7770, 1255], [11224, 3126], [41514, 1782], [4996, 702], [74046, 16236], [3769, 2055], [3515, 2064], [21677, 800], [953, 203], [1443, 1970], [17708, 5222], [3341, 924], [5539, 1497], [16706, 6873], [7688376, 395], [16547, 698], [940, 220], [341360, 309], [1292, 901], [8766, 761], [3478, 4601], [25251, 7005], [395, 503], [361, 203], [6105, 1013], [4843, 1927], [8924, 6039], [996, 425], [3970, 267], [280, 65], [7899, 2385], [4307, 2147], [46076, 746], [257, 181], [3649, 1610], [20027, 13154], [31131, 12539], [574, 29], [8100, 455], [3394, 837], [4417, 3284], [10158, 400], [751, 491], [829, 769], [17489, 50], [3462, 603], [60421, 16328], [59136, 2293], [19615420, 83], [2297, 2578], [20761, 276], [61041, 1150], [72216, 16740], [73351, 1155], [6712, 60], [818007, 88], [5526, 1335], [87310, 506], [9715, 2046], [5230, 854], [14757, 1392], [2282, 823], [1879, 1800], [3364, 1111], [12834, 252], [1529, 1566], [12463, 5309], [30625, 3437], [1654, 386], [44389, 2017], [54904, 3001], [5601, 1001], [1201, 306], [28302, 848], [927, 557], [7077, 2592], [1679, 2093], [15616, 240], [35125, 5349], [7400, 821], [3822, 825], [7988, 7160], [1643, 2368], [1451, 742], [3076, 2398], [1899, 893], [2781, 2640], [2450, 3706], [8783, 2054], [21713, 1528], [39008, 1839], [14083, 9924], [3081, 743], [3108, 639], [6644, 294], [1849, 617], [5190, 775], [2855, 860], [5887, 45], [4082, 1619], [956, 590], [36313508, 894], [90161, 1105], [7553, 4506], [909, 640], [35986, 2001], [4281, 243], [4002, 1976], [3086, 397], [200003, 1682], [3169, 1552], [7354, 1707], [11261, 305], [33000, 2979], [18838, 334], [19553, 2682], [4992, 803], [9868, 770], [3197, 861], [401, 192], [1719, 703], [758, 790], [6384, 612], [14235, 2158], [854, 770], [20209, 1362], [923126, 877], [15535, 1683], [1848, 1438], [70091, 17209], [9331, 2045], [62910, 11313], [5633, 1285], [64963, 3921], [620, 1727], [48499, 7561], [1146, 144], [1741, 1615], [6210, 1350], [14071, 5241], [11974, 1761], [273474, 426], [37954, 4307], [1151460, 3424], [8904928, 1141], [2601, 2054], [1132, 576], [197728, 1683], [49317, 2755], [1226, 826], [13058, 2546], [17645, 2646], [22478, 826], [1118387, 6186], [13511, 2090], [3077082, 340], [1620358, 2686], [266485, 913], [6246, 4], [11620, 723], [3456, 811], [1403, 376], [237, 497], [6901, 3861], [793, 474], [12975, 963], [2066, 2439], [2740284, 1299], [1709255, 3952], [18207, 9716], [15426, 1190], [18296, 467], [37917, 1757], [3888, 1964], [17594, 774], [11928, 3880], [16252, 4988], [2348, 203], [927, 1695], [6593, 179], [1689, 966], [5264, 1179], [5386, 2096], [923, 820], [4604, 3660], [56746, 2175], [357, 104], [3537, 255], [2364, 446], [1321, 1611], [10944, 2034], [24711, 2294], [1262, 968], [477513, 230], [6053, 1820], [21202, 12128], [3317, 4689], [125, 14], [14809, 3971], [3825, 2113], [14365, 1593], [1116, 0], [22001, 25657], [65004, 9953], [34020, 981], [4042, 1945], [1281, 303], [12726, 2566], [39852, 10737], [1616, 325], [6083, 3980], [6541, 636], [1137, 59], [12235, 1007], [741, 729], [2721, 1129], [87, 55], [18937, 13338], [269, 407], [784, 800], [6074, 2827], [1696, 1163], [3011, 2512], [352, 770], [67869, 4895], [21088, 1244], [3774, 414], [14085, 968], [2139637, 37464], [35807, 2575], [39642, 6200], [1378625, 270], [17764, 1798], [15704, 926], [11180, 4434], [68565, 4029], [78517, 7295], [4871, 932], [1402, 1397], [35971, 1537], [250456, 2726], [1690, 269], [362988, 45399], [236, 425], [1610, 903], [2222, 370], [1904, 1885], [400, 241], [2006, 1636], [174, 174], [24872, 4345], [4953, 2032], [386, 241], [20222, 2754], [101545, 9707], [2231, 799], [82831, 3], [61202, 509], [88087, 1202], [43492, 3882], [13380, 4476], [107, 255], [14332, 15793], [71991, 4727], [1097, 12], [69212, 4727], [5551, 300], [59863, 1028], [20547, 293], [28002, 2969], [162469, 1245], [1823, 198], [132874, 5897], [112953, 1737], [489, 757], [8942, 3255], [4884, 4883], [1583, 2205], [43704, 1221], [14925, 7884], [211, 708], [370583, 3029], [20705, 4291], [4113, 1546], [12221, 3909], [15234, 102], [4901, 5381], [16234, 713], [323708, 1412], [116504, 3864], [346, 524], [4381, 1702], [347121, 919], [903, 311], [9253, 1126], [12011, 5702], [1023, 2210], [486, 540], [2793, 3202], [33825, 11], [262082, 417], [931813, 486], [4967, 756], [447047, 835], [20707, 1401], [15338, 7518], [75225, 54], [8240, 1469], [333559, 9750], [512422, 105026], [11024, 8330], [629, 15], [15731, 410], [1628, 496], [2609, 978], [374735, 5253], [3377, 1393], [2858, 0], [2174, 1278], [40, 241], [4804, 1081], [25179, 7813], [5652, 3479], [2233, 1920], [31135, 1627], [162929, 729], [1347025, 3955], [83520, 3061], [4093, 1239], [2081, 2324], [34511, 11602], [2742, 1005], [11336, 8199], [11399, 11846], [1164215, 239], [14375400, 11], [14000673, 231], [158, 171], [12801, 93], [8313, 575], [15525, 5726], [4997, 2896], [1340, 659], [452, 238], [1636, 1900], [17618, 7143], [8243, 1227], [6178, 4747], [103485, 2135], [485099, 777], [25280, 1322], [1201, 1142], [4684, 2824], [3578, 2297], [5487, 2248], [27118, 3294], [6087, 1749], [1056, 257], [2520, 1769], [5459, 5558], [5910, 5027], [3061, 1221], [19186, 3929], [303604, 1303], [19623, 3035], [17376, 572], [3562, 2158], [6137, 1088], [366076, 749], [2909, 783], [4126, 2145], [64518, 833], [21666, 1838], [3746, 370], [9898825, 15], [33042, 1930], [969, 293], [7654, 2945], [30318, 5883], [977374, 6046], [10751, 6905], [927, 362], [4552, 1842], [12978, 8345], [107055, 2266], [6021, 3886], [691470, 4], [5827, 1502], [68982, 41069], [5126, 5591], [536, 353], [132236, 1319], [5353, 1850], [1592, 325], [930148, 3870], [47013, 2510], [31389, 956], [4164, 920], [325, 277], [6865, 5210], [16808, 3687], [1171, 355], [298856, 2006], [12921, 1097], [4152, 4480], [17574, 2858], [2127, 667], [390653, 7529], [1413, 638], [1285, 1303], [1492, 1187], [1666, 522], [14891, 961], [16764, 4134], [8719, 594], [126329, 1235], [472, 692], [40664, 1357], [24558, 1296], [5310, 1418], [13023, 1838], [14842, 544], [2808, 345], [103809, 5862], [241550, 2194], [28395, 2670], [17846, 1151], [530, 117], [122482, 21255], [207374, 2230], [124718, 1581], [12623, 2160], [83253, 254], [2756, 928], [9206, 701], [3661, 4089], [971, 1669], [10467, 3043], [87724, 1087], [1932, 1593], [297, 462], [115755, 62671], [5692, 2177], [15991, 3850], [342528, 20058], [3155, 573], [9503, 239], [3611993, 1288], [7952, 3690], [12564, 4709], [442, 374], [15232, 3121], [598, 810], [86356, 1225], [234277, 2411], [20836, 11089], [3706, 1995], [4524, 1075], [282, 1138], [109188, 117], [10099353, 5708], [4919, 1628], [4663, 4313], [28793, 1563], [9126, 2839], [20249, 5230], [3351, 304], [76648, 6727], [2832, 1202], [23230, 19087], [8713, 319], [958431, 3730], [72042, 1039], [551, 842], [4299, 3562], [1087, 407], [785, 1098], [12388, 1546], [23605, 2794], [800, 803], [147, 266], [1946, 348], [6247, 1871], [5462, 2383], [4687, 941], [56312, 15814], [3590, 3649], [5916, 1352], [785, 424], [223220, 1100], [15756, 879], [22750, 11369], [16820, 1035], [510, 6], [3089, 240], [10075, 7306], [467361, 1174], [87218, 3291], [5861, 1968], [2856, 1013], [17552, 6026], [2068430, 1470], [15802, 125], [14394, 1838], [3331, 1398], [98272, 1061], [2209, 712], [1264, 771], [2809278, 154046], [14747, 6677], [43176, 1928], [2595, 2345], [6181, 123], [1771, 1511], [223169, 2721], [89231, 2950], [147444, 10552], [4085, 5001], [325007, 179], [7487, 2682], [917, 715], [47207, 950], [2844, 1134], [1091162, 1018], [291111, 2667], [6497, 599], [168218, 1720], [3131, 3570], [11462, 2029], [45541, 448], [20783, 7319], [199207, 3180], [2497, 1950], [377, 207], [249, 434], [14801, 1150], [44787, 12507], [3498015, 6503], [134644, 1462], [13570, 386], [13513, 2405], [47394, 932], [17703229, 1050], [8715, 4116], [12711, 5513], [729, 630], [916, 594], [266370, 831], [28752, 4313], [47678, 6972], [105819, 424], [1439173, 334], [10101, 2560], [3662, 2418], [15465, 4849], [78243, 518], [534524, 459], [144276, 1150], [7293, 3055], [403258, 6081], [12092, 1019], [45613, 3048], [14882, 792], [1737, 800], [172, 541], [19691, 2771], [4351864, 39887], [7836, 5790], [7883, 1228], [35647, 3342], [819100, 1098], [101054, 551], [315872, 72], [1161812, 5189], [352301, 2509], [46474, 1680], [7111, 1584], [58230, 21335], [50746, 5844], [67111, 555], [5721, 538], [70712, 3729], [47611, 1674], [127690, 3068], [553550, 1526], [39495, 198], [75902, 3467], [55522, 7577], [2130, 269], [51546, 1648], [42966, 666], [29485, 2845], [1729281, 1013], [26929, 353], [36758, 4708], [1810733, 933], [396055, 3844], [52722, 24976], [3338029, 16263], [37748, 2996], [35535, 6103], [90951, 1669], [846876, 300853]], &quot;type&quot;: &quot;scatter&quot;, &quot;color&quot;: &quot;rgba(119, 152, 191, .5)&quot;, &quot;name&quot;: &quot;Open Society Foundation&quot;}]; option.series = data; var chart = new Highcharts.Chart(option); }); &lt;/script&gt; &lt;/body&gt; &lt;/html&gt;\" height=400 width=850></iframe>"
      ],
      "text/plain": [
       "<highcharts.highcharts.highcharts.Highchart at 0x109ce94a8>"
      ]
     },
     "execution_count": 8,
     "metadata": {},
     "output_type": "execute_result"
    }
   ],
   "source": [
    "robinhood = prep_data('followers_count', 'friends_count', robinhood_followers, 'Robin Hood Foundation')\n",
    "open_society = prep_data('followers_count', 'friends_count', open_society_followers, 'Open Society Foundation')\n",
    "plot_scatter(robinhood, open_society)"
   ]
  }
 ],
 "metadata": {
  "kernelspec": {
   "display_name": "Python 3",
   "language": "python",
   "name": "python3"
  },
  "language_info": {
   "codemirror_mode": {
    "name": "ipython",
    "version": 3
   },
   "file_extension": ".py",
   "mimetype": "text/x-python",
   "name": "python",
   "nbconvert_exporter": "python",
   "pygments_lexer": "ipython3",
   "version": "3.6.0"
  }
 },
 "nbformat": 4,
 "nbformat_minor": 2
}
