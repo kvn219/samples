{
 "cells": [
  {
   "cell_type": "markdown",
   "metadata": {},
   "source": [
    "# About\n",
    "**Goal:** Demonstrate extraction, transformation, and load use-cases for nonprofit/foundations.\n",
    "\n",
    "**Actions:**\n",
    "\n",
    "- Collect social media data on two foundations.\n",
    "- Transform data into a human readable format \n",
    "- Visualize a trend from the data."
   ]
  },
  {
   "cell_type": "code",
   "execution_count": 1,
   "metadata": {
    "ExecuteTime": {
     "end_time": "2017-05-15T21:04:12.120573Z",
     "start_time": "2017-05-15T17:04:11.378939-04:00"
    }
   },
   "outputs": [
    {
     "data": {
      "text/plain": [
       "True"
      ]
     },
     "execution_count": 1,
     "metadata": {},
     "output_type": "execute_result"
    }
   ],
   "source": [
    "%load_ext autoreload\n",
    "%autoreload 2\n",
    "\n",
    "import os\n",
    "import sys\n",
    "import json\n",
    "import time\n",
    "import math\n",
    "import numpy as np\n",
    "\n",
    "from tweepy import Cursor\n",
    "from twitter_client import get_twitter_client\n",
    "from dotenv import load_dotenv, find_dotenv\n",
    "from etl import usage, paginate, extract, generate_dfs\n",
    "\n",
    "from highcharts import Highchart\n",
    "from visualization import options\n",
    "\n",
    "# find .env automagically by walking up directories until it's found\n",
    "dotenv_path = find_dotenv()\n",
    "# load up the entries as environment variables\n",
    "load_dotenv(dotenv_path)"
   ]
  },
  {
   "cell_type": "code",
   "execution_count": 2,
   "metadata": {
    "ExecuteTime": {
     "end_time": "2017-05-15T21:04:12.136022Z",
     "start_time": "2017-05-15T17:04:12.122273-04:00"
    },
    "collapsed": true
   },
   "outputs": [],
   "source": [
    "foundations = ['Asia_Foundation', 'RobinHoodNYC']"
   ]
  },
  {
   "cell_type": "code",
   "execution_count": 3,
   "metadata": {
    "ExecuteTime": {
     "end_time": "2017-05-15T21:04:12.151665Z",
     "start_time": "2017-05-15T17:04:12.137843-04:00"
    },
    "collapsed": true
   },
   "outputs": [],
   "source": [
    "# extract(foundations[0])"
   ]
  },
  {
   "cell_type": "markdown",
   "metadata": {
    "ExecuteTime": {
     "end_time": "2017-05-15T13:17:04.536563Z",
     "start_time": "2017-05-15T09:17:04.533677-04:00"
    }
   },
   "source": [
    "# Robin Hood Foundation\n",
    "\n",
    "### [Fighting Poverty in New York](https://www.robinhood.org/)\n",
    "\n",
    "**Mission:** \n",
    "Robin Hood’s mission is to improve the living standards for 1.8 million low-income new yorkers.\n",
    "\n",
    "<img src='robinhood.png' >"
   ]
  },
  {
   "cell_type": "markdown",
   "metadata": {},
   "source": [
    "#### Robin Hood Foundation's Following and Followers"
   ]
  },
  {
   "cell_type": "code",
   "execution_count": 4,
   "metadata": {
    "ExecuteTime": {
     "end_time": "2017-05-15T21:04:13.183791Z",
     "start_time": "2017-05-15T17:04:12.153287-04:00"
    },
    "scrolled": false
   },
   "outputs": [
    {
     "name": "stdout",
     "output_type": "stream",
     "text": [
      "Following: (956, 15)\n",
      "Followers: (14999, 15)\n"
     ]
    }
   ],
   "source": [
    "rh_following, rh_followers = generate_dfs('RobinHoodNYC')\n",
    "print(\"Following: {}\".format(rh_following.shape))\n",
    "print(\"Followers: {}\".format(rh_followers.shape)) # Note the failure rate."
   ]
  },
  {
   "cell_type": "markdown",
   "metadata": {},
   "source": [
    "#### Preview Output"
   ]
  },
  {
   "cell_type": "code",
   "execution_count": 5,
   "metadata": {
    "ExecuteTime": {
     "end_time": "2017-05-15T21:04:13.216247Z",
     "start_time": "2017-05-15T17:04:13.186601-04:00"
    },
    "scrolled": false
   },
   "outputs": [
    {
     "data": {
      "text/html": [
       "<div>\n",
       "<table border=\"1\" class=\"dataframe\">\n",
       "  <thead>\n",
       "    <tr style=\"text-align: right;\">\n",
       "      <th></th>\n",
       "      <th>created_at</th>\n",
       "      <th>description</th>\n",
       "      <th>favourites_count</th>\n",
       "      <th>followers_count</th>\n",
       "      <th>friends_count</th>\n",
       "      <th>id</th>\n",
       "      <th>listed_count</th>\n",
       "      <th>location</th>\n",
       "      <th>name</th>\n",
       "      <th>profile_image_url</th>\n",
       "      <th>relationship</th>\n",
       "      <th>screen_name</th>\n",
       "      <th>source</th>\n",
       "      <th>statuses_count</th>\n",
       "      <th>url</th>\n",
       "    </tr>\n",
       "  </thead>\n",
       "  <tbody>\n",
       "    <tr>\n",
       "      <th>0</th>\n",
       "      <td>Sat Feb 11 13:45:06 +0000 2017</td>\n",
       "      <td></td>\n",
       "      <td>70</td>\n",
       "      <td>14</td>\n",
       "      <td>350</td>\n",
       "      <td>830412344727629825</td>\n",
       "      <td>0</td>\n",
       "      <td></td>\n",
       "      <td>haythem kenway</td>\n",
       "      <td>http://pbs.twimg.com/profile_images/8410089605...</td>\n",
       "      <td>follower</td>\n",
       "      <td>marmadukemax</td>\n",
       "      <td>RobinHoodNYC</td>\n",
       "      <td>4</td>\n",
       "      <td>None</td>\n",
       "    </tr>\n",
       "    <tr>\n",
       "      <th>1</th>\n",
       "      <td>Thu May 11 13:55:16 +0000 2017</td>\n",
       "      <td>I am very simple.......</td>\n",
       "      <td>26</td>\n",
       "      <td>3</td>\n",
       "      <td>86</td>\n",
       "      <td>862667425539649536</td>\n",
       "      <td>0</td>\n",
       "      <td>Assam, India</td>\n",
       "      <td>Arif Ahmed</td>\n",
       "      <td>http://pbs.twimg.com/profile_images/8630467814...</td>\n",
       "      <td>follower</td>\n",
       "      <td>ArifAhm08967631</td>\n",
       "      <td>RobinHoodNYC</td>\n",
       "      <td>5</td>\n",
       "      <td>None</td>\n",
       "    </tr>\n",
       "    <tr>\n",
       "      <th>2</th>\n",
       "      <td>Sun May 14 16:05:43 +0000 2017</td>\n",
       "      <td>college</td>\n",
       "      <td>2</td>\n",
       "      <td>7</td>\n",
       "      <td>70</td>\n",
       "      <td>863787416909467653</td>\n",
       "      <td>0</td>\n",
       "      <td></td>\n",
       "      <td>sasi</td>\n",
       "      <td>http://pbs.twimg.com/profile_images/8638014582...</td>\n",
       "      <td>follower</td>\n",
       "      <td>sasig2602</td>\n",
       "      <td>RobinHoodNYC</td>\n",
       "      <td>2</td>\n",
       "      <td>None</td>\n",
       "    </tr>\n",
       "    <tr>\n",
       "      <th>3</th>\n",
       "      <td>Fri Jul 04 16:11:08 +0000 2008</td>\n",
       "      <td>I've been off twitter for a while, but I sudde...</td>\n",
       "      <td>1297</td>\n",
       "      <td>98</td>\n",
       "      <td>322</td>\n",
       "      <td>15318695</td>\n",
       "      <td>0</td>\n",
       "      <td></td>\n",
       "      <td>Olyenka</td>\n",
       "      <td>http://pbs.twimg.com/profile_images/4540825017...</td>\n",
       "      <td>follower</td>\n",
       "      <td>olyenka</td>\n",
       "      <td>RobinHoodNYC</td>\n",
       "      <td>1392</td>\n",
       "      <td>None</td>\n",
       "    </tr>\n",
       "    <tr>\n",
       "      <th>4</th>\n",
       "      <td>Sun May 14 15:00:46 +0000 2017</td>\n",
       "      <td></td>\n",
       "      <td>3</td>\n",
       "      <td>1</td>\n",
       "      <td>8</td>\n",
       "      <td>863771073661349889</td>\n",
       "      <td>0</td>\n",
       "      <td></td>\n",
       "      <td>Pedro Gamer 12387</td>\n",
       "      <td>http://abs.twimg.com/sticky/default_profile_im...</td>\n",
       "      <td>follower</td>\n",
       "      <td>P12387</td>\n",
       "      <td>RobinHoodNYC</td>\n",
       "      <td>3</td>\n",
       "      <td>None</td>\n",
       "    </tr>\n",
       "  </tbody>\n",
       "</table>\n",
       "</div>"
      ],
      "text/plain": [
       "                       created_at  \\\n",
       "0  Sat Feb 11 13:45:06 +0000 2017   \n",
       "1  Thu May 11 13:55:16 +0000 2017   \n",
       "2  Sun May 14 16:05:43 +0000 2017   \n",
       "3  Fri Jul 04 16:11:08 +0000 2008   \n",
       "4  Sun May 14 15:00:46 +0000 2017   \n",
       "\n",
       "                                         description  favourites_count  \\\n",
       "0                                                                   70   \n",
       "1                            I am very simple.......                26   \n",
       "2                                            college                 2   \n",
       "3  I've been off twitter for a while, but I sudde...              1297   \n",
       "4                                                                    3   \n",
       "\n",
       "   followers_count  friends_count                  id  listed_count  \\\n",
       "0               14            350  830412344727629825             0   \n",
       "1                3             86  862667425539649536             0   \n",
       "2                7             70  863787416909467653             0   \n",
       "3               98            322            15318695             0   \n",
       "4                1              8  863771073661349889             0   \n",
       "\n",
       "       location               name  \\\n",
       "0                   haythem kenway   \n",
       "1  Assam, India         Arif Ahmed   \n",
       "2                             sasi   \n",
       "3                          Olyenka   \n",
       "4                Pedro Gamer 12387   \n",
       "\n",
       "                                   profile_image_url relationship  \\\n",
       "0  http://pbs.twimg.com/profile_images/8410089605...     follower   \n",
       "1  http://pbs.twimg.com/profile_images/8630467814...     follower   \n",
       "2  http://pbs.twimg.com/profile_images/8638014582...     follower   \n",
       "3  http://pbs.twimg.com/profile_images/4540825017...     follower   \n",
       "4  http://abs.twimg.com/sticky/default_profile_im...     follower   \n",
       "\n",
       "       screen_name        source  statuses_count   url  \n",
       "0     marmadukemax  RobinHoodNYC               4  None  \n",
       "1  ArifAhm08967631  RobinHoodNYC               5  None  \n",
       "2        sasig2602  RobinHoodNYC               2  None  \n",
       "3          olyenka  RobinHoodNYC            1392  None  \n",
       "4           P12387  RobinHoodNYC               3  None  "
      ]
     },
     "execution_count": 5,
     "metadata": {},
     "output_type": "execute_result"
    }
   ],
   "source": [
    "rh_followers.head()"
   ]
  },
  {
   "cell_type": "markdown",
   "metadata": {
    "ExecuteTime": {
     "end_time": "2017-05-15T14:52:52.108623Z",
     "start_time": "2017-05-15T10:52:52.091307-04:00"
    }
   },
   "source": [
    "# Asia Foundation\n",
    "\n",
    "### [Nonprofit international development organization committed to improving lives across a dynamic and developing Asia.](http://asiafoundation.org/)\n",
    "\n",
    "**Mission:** \n",
    "The Asia Foundation improves lives, expands opportunities, and helps societies flourish across a dynamic and developing Asia. We work with innovative leaders and communities to build effective institutions and advance pathbreaking reforms. Together with our partners, we are committed to Asia’s continued development as a peaceful, just, and thriving region of the world.\n",
    "\n",
    "<img src='asiafoundation.png' >"
   ]
  },
  {
   "cell_type": "markdown",
   "metadata": {},
   "source": [
    "#### Asia Foundation's Following and Followers"
   ]
  },
  {
   "cell_type": "code",
   "execution_count": 6,
   "metadata": {
    "ExecuteTime": {
     "end_time": "2017-05-15T21:04:14.363419Z",
     "start_time": "2017-05-15T17:04:13.217992-04:00"
    }
   },
   "outputs": [
    {
     "name": "stdout",
     "output_type": "stream",
     "text": [
      "Following: (2710, 15)\n",
      "Followers: (14999, 15)\n"
     ]
    }
   ],
   "source": [
    "af_following, af_followers = generate_dfs('Asia_Foundation')\n",
    "print(\"Following: {}\".format(af_following.shape))\n",
    "print(\"Followers: {}\".format(af_followers.shape)) # Note the failure rate."
   ]
  },
  {
   "cell_type": "markdown",
   "metadata": {},
   "source": [
    "#### Preview Output"
   ]
  },
  {
   "cell_type": "code",
   "execution_count": 7,
   "metadata": {
    "ExecuteTime": {
     "end_time": "2017-05-15T21:04:14.392297Z",
     "start_time": "2017-05-15T17:04:14.364846-04:00"
    }
   },
   "outputs": [
    {
     "data": {
      "text/html": [
       "<div>\n",
       "<table border=\"1\" class=\"dataframe\">\n",
       "  <thead>\n",
       "    <tr style=\"text-align: right;\">\n",
       "      <th></th>\n",
       "      <th>created_at</th>\n",
       "      <th>description</th>\n",
       "      <th>favourites_count</th>\n",
       "      <th>followers_count</th>\n",
       "      <th>friends_count</th>\n",
       "      <th>id</th>\n",
       "      <th>listed_count</th>\n",
       "      <th>location</th>\n",
       "      <th>name</th>\n",
       "      <th>profile_image_url</th>\n",
       "      <th>relationship</th>\n",
       "      <th>screen_name</th>\n",
       "      <th>source</th>\n",
       "      <th>statuses_count</th>\n",
       "      <th>url</th>\n",
       "    </tr>\n",
       "  </thead>\n",
       "  <tbody>\n",
       "    <tr>\n",
       "      <th>0</th>\n",
       "      <td>Tue May 27 16:29:48 +0000 2014</td>\n",
       "      <td>Political Activist, @rammadhavbjp Fan Big Fan ...</td>\n",
       "      <td>10001</td>\n",
       "      <td>49973</td>\n",
       "      <td>5417</td>\n",
       "      <td>2527805598</td>\n",
       "      <td>62</td>\n",
       "      <td>India</td>\n",
       "      <td>Rammadhav</td>\n",
       "      <td>http://pbs.twimg.com/profile_images/8286330937...</td>\n",
       "      <td>follower</td>\n",
       "      <td>RamMadhav4BJP</td>\n",
       "      <td>Asia_Foundation</td>\n",
       "      <td>11706</td>\n",
       "      <td>https://t.co/x9Z840AgfN</td>\n",
       "    </tr>\n",
       "    <tr>\n",
       "      <th>1</th>\n",
       "      <td>Mon Jul 01 12:03:17 +0000 2013</td>\n",
       "      <td>★ Malay Organization Independent ★</td>\n",
       "      <td>33897</td>\n",
       "      <td>1635</td>\n",
       "      <td>130</td>\n",
       "      <td>1560359496</td>\n",
       "      <td>84</td>\n",
       "      <td>#Sumatra</td>\n",
       "      <td>★ Melayu Monitor ★</td>\n",
       "      <td>http://pbs.twimg.com/profile_images/8630398005...</td>\n",
       "      <td>follower</td>\n",
       "      <td>MelayuMonitor</td>\n",
       "      <td>Asia_Foundation</td>\n",
       "      <td>37052</td>\n",
       "      <td>https://t.co/Sw5u4dhhzT</td>\n",
       "    </tr>\n",
       "    <tr>\n",
       "      <th>2</th>\n",
       "      <td>Fri Apr 22 19:41:16 +0000 2016</td>\n",
       "      <td>Adventure, travel, people. Media Coordinator, ...</td>\n",
       "      <td>253</td>\n",
       "      <td>69</td>\n",
       "      <td>302</td>\n",
       "      <td>723597556832309248</td>\n",
       "      <td>0</td>\n",
       "      <td>Singapore</td>\n",
       "      <td>Amber Mizerak</td>\n",
       "      <td>http://pbs.twimg.com/profile_images/7236053216...</td>\n",
       "      <td>follower</td>\n",
       "      <td>Amber_Mizerak</td>\n",
       "      <td>Asia_Foundation</td>\n",
       "      <td>45</td>\n",
       "      <td>None</td>\n",
       "    </tr>\n",
       "    <tr>\n",
       "      <th>3</th>\n",
       "      <td>Sun May 14 20:08:08 +0000 2017</td>\n",
       "      <td>politics</td>\n",
       "      <td>3</td>\n",
       "      <td>6</td>\n",
       "      <td>143</td>\n",
       "      <td>863848421781667841</td>\n",
       "      <td>0</td>\n",
       "      <td>Dhaka, Bangladesh</td>\n",
       "      <td>sm soruj</td>\n",
       "      <td>http://pbs.twimg.com/profile_images/8638497358...</td>\n",
       "      <td>follower</td>\n",
       "      <td>sm36576220</td>\n",
       "      <td>Asia_Foundation</td>\n",
       "      <td>2</td>\n",
       "      <td>None</td>\n",
       "    </tr>\n",
       "    <tr>\n",
       "      <th>4</th>\n",
       "      <td>Mon Aug 11 17:17:05 +0000 2014</td>\n",
       "      <td></td>\n",
       "      <td>2</td>\n",
       "      <td>36</td>\n",
       "      <td>174</td>\n",
       "      <td>2724359317</td>\n",
       "      <td>0</td>\n",
       "      <td></td>\n",
       "      <td>michael schiffer</td>\n",
       "      <td>http://abs.twimg.com/sticky/default_profile_im...</td>\n",
       "      <td>follower</td>\n",
       "      <td>eachinhisprison</td>\n",
       "      <td>Asia_Foundation</td>\n",
       "      <td>105</td>\n",
       "      <td>None</td>\n",
       "    </tr>\n",
       "  </tbody>\n",
       "</table>\n",
       "</div>"
      ],
      "text/plain": [
       "                       created_at  \\\n",
       "0  Tue May 27 16:29:48 +0000 2014   \n",
       "1  Mon Jul 01 12:03:17 +0000 2013   \n",
       "2  Fri Apr 22 19:41:16 +0000 2016   \n",
       "3  Sun May 14 20:08:08 +0000 2017   \n",
       "4  Mon Aug 11 17:17:05 +0000 2014   \n",
       "\n",
       "                                         description  favourites_count  \\\n",
       "0  Political Activist, @rammadhavbjp Fan Big Fan ...             10001   \n",
       "1                 ★ Malay Organization Independent ★             33897   \n",
       "2  Adventure, travel, people. Media Coordinator, ...               253   \n",
       "3                                           politics                 3   \n",
       "4                                                                    2   \n",
       "\n",
       "   followers_count  friends_count                  id  listed_count  \\\n",
       "0            49973           5417          2527805598            62   \n",
       "1             1635            130          1560359496            84   \n",
       "2               69            302  723597556832309248             0   \n",
       "3                6            143  863848421781667841             0   \n",
       "4               36            174          2724359317             0   \n",
       "\n",
       "            location                name  \\\n",
       "0              India           Rammadhav   \n",
       "1          #Sumatra   ★ Melayu Monitor ★   \n",
       "2          Singapore       Amber Mizerak   \n",
       "3  Dhaka, Bangladesh            sm soruj   \n",
       "4                       michael schiffer   \n",
       "\n",
       "                                   profile_image_url relationship  \\\n",
       "0  http://pbs.twimg.com/profile_images/8286330937...     follower   \n",
       "1  http://pbs.twimg.com/profile_images/8630398005...     follower   \n",
       "2  http://pbs.twimg.com/profile_images/7236053216...     follower   \n",
       "3  http://pbs.twimg.com/profile_images/8638497358...     follower   \n",
       "4  http://abs.twimg.com/sticky/default_profile_im...     follower   \n",
       "\n",
       "       screen_name           source  statuses_count                      url  \n",
       "0    RamMadhav4BJP  Asia_Foundation           11706  https://t.co/x9Z840AgfN  \n",
       "1    MelayuMonitor  Asia_Foundation           37052  https://t.co/Sw5u4dhhzT  \n",
       "2    Amber_Mizerak  Asia_Foundation              45                     None  \n",
       "3       sm36576220  Asia_Foundation               2                     None  \n",
       "4  eachinhisprison  Asia_Foundation             105                     None  "
      ]
     },
     "execution_count": 7,
     "metadata": {},
     "output_type": "execute_result"
    }
   ],
   "source": [
    "af_followers.head()"
   ]
  },
  {
   "cell_type": "code",
   "execution_count": 8,
   "metadata": {
    "ExecuteTime": {
     "end_time": "2017-05-15T21:04:14.722737Z",
     "start_time": "2017-05-15T17:04:14.394015-04:00"
    },
    "collapsed": true
   },
   "outputs": [],
   "source": [
    "#### Save the Output\n",
    "af_followers.to_csv(\"asia_foundation_followers.csv\", index=False)\n",
    "af_following.to_csv(\"asia_foundation_following.csv\", index=False)"
   ]
  },
  {
   "cell_type": "markdown",
   "metadata": {
    "ExecuteTime": {
     "end_time": "2017-05-15T14:44:04.376313Z",
     "start_time": "2017-05-15T10:44:04.363608-04:00"
    }
   },
   "source": [
    "# Visualize"
   ]
  },
  {
   "cell_type": "code",
   "execution_count": 9,
   "metadata": {
    "ExecuteTime": {
     "end_time": "2017-05-15T21:04:14.742366Z",
     "start_time": "2017-05-15T17:04:14.724174-04:00"
    },
    "collapsed": true
   },
   "outputs": [],
   "source": [
    "def prep_data(x, y, data, name):\n",
    "    d = data[[x, y]].fillna(1)\n",
    "    frame = d.values.tolist()\n",
    "    return {'name': name, 'data': frame}\n",
    "\n",
    "def plot_scatter(group1, group2):\n",
    "    H = Highchart(width=850, height=400)\n",
    "    H.set_dict_options(options)\n",
    "    H.add_data_set(group1['data'], 'scatter', group1['name'], color='rgba(223, 83, 83, .5)')\n",
    "    H.add_data_set(group2['data'], 'scatter', group2['name'], color='rgba(119, 152, 191, .5)')\n",
    "    return H"
   ]
  },
  {
   "cell_type": "markdown",
   "metadata": {},
   "source": [
    "# Following Profile"
   ]
  },
  {
   "cell_type": "code",
   "execution_count": 10,
   "metadata": {
    "ExecuteTime": {
     "end_time": "2017-05-15T21:04:14.772267Z",
     "start_time": "2017-05-15T17:04:14.743888-04:00"
    }
   },
   "outputs": [
    {
     "data": {
      "text/html": [
       "<iframe style=\"border:0;outline:none;overflow:hidden\" srcdoc=\"&lt;!DOCTYPE html&gt; &lt;html lang=&quot;en&quot;&gt; &lt;head&gt; &lt;meta charset=&quot;utf-8&quot; /&gt; &lt;link href=&quot;https://www.highcharts.com/highslide/highslide.css&quot; rel=&quot;stylesheet&quot; /&gt; &lt;script type=&quot;text/javascript&quot; src=&quot;https://ajax.googleapis.com/ajax/libs/jquery/1.9.1/jquery.min.js&quot;&gt;&lt;/script&gt; &lt;script type=&quot;text/javascript&quot; src=&quot;https://code.highcharts.com/highcharts.js&quot;&gt;&lt;/script&gt; &lt;script type=&quot;text/javascript&quot; src=&quot;https://code.highcharts.com/highcharts-more.js&quot;&gt;&lt;/script&gt; &lt;script type=&quot;text/javascript&quot; src=&quot;https://code.highcharts.com/modules/heatmap.js&quot;&gt;&lt;/script&gt; &lt;script type=&quot;text/javascript&quot; src=&quot;https://code.highcharts.com/modules/exporting.js&quot;&gt;&lt;/script&gt; &lt;/head&gt; &lt;body style=&quot;margin:0;padding:0&quot;&gt; &lt;div id=&quot;container&quot; style=&quot;width:850px;height:400px;&quot;&gt;Loading....&lt;/div&gt; &lt;script&gt; $(function(){ Highcharts.setOptions({&quot;global&quot;: {}, &quot;lang&quot;: {}}); var option = {&quot;chart&quot;: {&quot;renderTo&quot;: &quot;container&quot;, &quot;width&quot;: 850, &quot;height&quot;: 400, &quot;type&quot;: &quot;scatter&quot;, &quot;zoomType&quot;: &quot;xy&quot;}, &quot;colors&quot;: {}, &quot;credits&quot;: {&quot;enabled&quot;: false}, &quot;drilldown&quot;: {}, &quot;exporting&quot;: {}, &quot;labels&quot;: {}, &quot;legend&quot;: {&quot;layout&quot;: &quot;vertical&quot;, &quot;align&quot;: &quot;left&quot;, &quot;verticalAlign&quot;: &quot;top&quot;, &quot;x&quot;: 100, &quot;y&quot;: 70, &quot;floating&quot;: true, &quot;backgroundColor&quot;: (Highcharts.theme &amp;&amp; Highcharts.theme.legendBackgroundColor) || &#x27;#FFFFFF&#x27;, &quot;borderWidth&quot;: 1}, &quot;loading&quot;: {}, &quot;navigation&quot;: {}, &quot;pane&quot;: {}, &quot;plotOptions&quot;: {&quot;scatter&quot;: {&quot;marker&quot;: {&quot;radius&quot;: 5, &quot;states&quot;: {&quot;hover&quot;: {&quot;enabled&quot;: true, &quot;lineColor&quot;: &quot;rgb(100,100,100)&quot;}}}, &quot;states&quot;: {&quot;hover&quot;: {&quot;marker&quot;: {&quot;enabled&quot;: false}}}, &quot;tooltip&quot;: {&quot;headerFormat&quot;: &quot;&lt;b&gt;{series.name} Social Media Following&lt;/b&gt;&lt;br&gt;&quot;, &quot;pointFormat&quot;: &quot;Followers: {point.x}&lt;br&gt;Friends: {point.y}&quot;}}}, &quot;series&quot;: {}, &quot;subtitle&quot;: {&quot;text&quot;: &quot;Plotting twitter friends and followers on a logarithmic scale&quot;}, &quot;title&quot;: {&quot;text&quot;: &quot;What does your following look like?&quot;}, &quot;tooltip&quot;: {}, &quot;xAxis&quot;: {&quot;type&quot;: &quot;logarithmic&quot;, &quot;title&quot;: {&quot;enabled&quot;: true, &quot;text&quot;: &quot;Num of Followers&quot;}, &quot;startOnTick&quot;: true, &quot;endOnTick&quot;: true, &quot;showLastLabel&quot;: true}, &quot;yAxis&quot;: {&quot;type&quot;: &quot;logarithmic&quot;, &quot;title&quot;: {&quot;text&quot;: &quot;Num of Friends&quot;}}}; var data = [{&quot;data&quot;: [[304589, 103], [214302, 75], [1464, 287], [708, 583], [1945, 808], [61889, 1123], [1018, 320], [818, 729], [714, 550], [410, 490], [2268, 1399], [106, 14], [504, 356], [62279, 200], [2094, 755], [1455, 472], [3874, 913], [6475, 834], [64272, 9697], [1967, 1323], [328, 169], [345, 77], [5321, 5837], [229, 206], [99, 245], [180, 357], [130, 229], [50, 83], [1079, 39], [275702, 929], [37, 131], [822, 177], [6910, 3736], [177, 145], [5687, 1912], [74734, 681], [244, 298], [469, 742], [1307, 441], [2172, 379], [3744, 3565], [4516, 152], [300, 313], [1513, 1207], [425, 110], [1170, 911], [16982, 798], [49053, 3925], [2207, 369], [435, 953], [11054, 498], [36922, 2092], [9262, 942], [37312, 1311], [8843, 2476], [41261, 1240], [15386, 363], [906079, 109], [232308, 833], [77, 218], [168371, 476], [429717, 85], [357, 1628], [12119, 2198], [158, 168], [84466, 174], [24771, 1254], [1513, 274], [1290, 346], [233, 206], [99388, 37], [1346, 182], [4581, 898], [4888, 1043], [1082761, 40654], [2113, 309], [5234, 1675], [3126, 204], [2444, 363], [6312, 429], [15329, 796], [36331, 995], [851, 377], [1675, 922], [34645, 706], [189, 223], [4904, 3727], [8241, 532], [8638, 1506], [810, 518], [473, 719], [321, 354], [14310, 12], [64198, 666], [8268, 204], [3351, 511], [19887, 411], [834, 439], [1081, 4309], [7797, 493], [19396, 317], [1295, 983], [34668, 270], [10, 105], [813, 1304], [1379, 1539], [5612, 542], [6950, 306], [112, 174], [5540, 522], [6432, 1088], [400, 311], [515, 83], [5992, 3169], [7926, 5240], [46, 126], [2564, 1688], [27291, 12885], [2495, 2661], [2238, 908], [1468, 406], [1906, 1586], [2551, 2530], [32607, 2399], [3155, 1351], [53333, 988], [1930, 578], [28653, 2350], [242519, 38], [2653, 257], [17387411, 41], [15475711, 79], [238, 271], [4658, 2909], [1506, 549], [2496, 158], [554753, 331], [10841, 2029], [138, 207], [5346, 2497], [559211, 1412], [26035, 146], [3760, 405], [224, 82], [6778, 981], [610, 313], [8031, 1931], [26895, 1736], [875, 283], [1099, 115], [162, 48], [4599, 307], [9144, 905], [10264, 127], [6476, 252], [873, 693], [292, 231], [3870, 387], [1525, 157], [4650, 748], [4164, 1619], [1612, 1114], [5836, 1062], [4888, 2907], [413126, 105], [2523, 1008], [77, 92], [24627, 466], [3555, 1278], [1949, 1139], [6824, 1591], [2450, 399], [3728, 2537], [890, 340], [668, 874], [633, 1002], [4, 0], [3356, 3089], [250, 243], [1167, 29], [1192, 387], [5227, 5142], [5006, 1582], [24396, 1290], [13937, 878], [2583, 294], [7995, 2793], [603, 380], [90, 52], [2739, 1163], [1077, 1303], [134642, 801], [12549, 883], [51871, 1531], [121669, 239], [339900, 2896], [197, 947], [1884, 2206], [42, 66], [3082, 595], [3619, 5], [16029, 250], [587, 934], [1196, 945], [43570, 1809], [6175, 2500], [3464, 187], [106, 156], [49425, 2099], [739, 1268], [12253, 731], [1168, 70], [1842, 902], [39546, 789], [63135, 1183], [3377, 625], [824, 1409], [4372, 1281], [23635, 289], [6160, 576], [727, 635], [1627, 547], [1528, 503], [8224, 635], [6825, 6935], [7689, 853], [495, 350], [1804, 1309], [317, 606], [417, 248], [287, 185], [10326, 92], [2859, 1846], [37441, 989], [17886, 1245], [55028, 965], [15289, 876], [224, 323], [868, 823], [13429, 12860], [2492, 2201], [7004, 1676], [15276, 1616], [34171, 5841], [3128, 695], [1255, 398], [174468, 293], [650354, 683], [95582, 565], [57823, 5248], [8349, 151], [39037, 5336], [14367, 290], [4261, 803], [1426, 1345], [2816, 702], [662, 302], [3884, 1086], [589, 278], [7336, 566], [23512, 1628], [4913, 564], [118124, 1092], [58, 165], [322, 830], [303, 404], [546, 163], [93, 90], [22, 133], [93, 69], [239, 128], [4026, 669], [4297, 549], [16190, 1115], [2827, 547], [269, 257], [3724, 1526], [919556, 69974], [82127, 807], [498, 8], [819, 1011], [11186, 1882], [131, 57], [11, 50], [37318, 3701], [1697, 110], [2130, 935], [19175, 3961], [19459, 2095], [913, 203], [8086128, 1548519], [290, 446], [207, 145], [3154, 687], [12, 91], [447, 557], [1907, 587], [1731, 1607], [468, 160], [5340, 852], [630, 1436], [42, 43], [73451, 580], [4206, 5000], [8591, 189], [26382, 1697], [11225, 1742], [993, 12], [1949, 2002], [135, 188], [7555, 8070], [438134, 14610], [218389, 294], [52, 52], [2613, 636], [1090, 1238], [290, 586], [5311, 934], [1637, 736], [1161, 1105], [5328, 604], [1633, 2479], [32, 77], [30026, 7062], [1746, 382], [227, 701], [205, 14], [243, 466], [202, 65], [747, 612], [16656, 2201], [1806, 571], [26277, 76], [2056, 1051], [28502, 1115], [454, 2011], [1164, 2135], [2193, 2214], [9, 54], [30, 116], [190, 906], [2002, 947], [26230, 268], [1293, 1257], [7, 40], [2611, 2557], [52667, 23683], [2098, 1214], [1606, 626], [28021, 30574], [913, 1585], [17402, 2427], [137, 422], [186, 438], [37, 81], [225, 184], [905, 1241], [83352, 61565], [2137, 773], [311, 205], [1043, 124], [13491, 2463], [37, 144], [44646, 2236], [10471, 129], [1057, 1098], [12087, 2660], [1379, 1584], [527, 349], [5206, 112], [356, 17], [2067, 220], [6887, 1076], [41403, 1060], [2181, 486], [21021, 3570], [20356, 11], [7467, 563], [14648, 1298], [228, 579], [124916, 2997], [13131, 2510], [4765, 4058], [1415, 1561], [471, 507], [1141, 2805], [8347, 87], [859, 689], [11186, 1302], [245, 1138], [11350746, 176], [1758, 1215], [1223, 325], [12817, 2774], [3234, 2526], [1090, 719], [19670, 1991], [7394, 1193], [465, 158], [1542, 247], [2114, 298], [574, 1315], [1359, 553], [445, 996], [2369211, 1353], [1733, 661], [197, 282], [22300, 2235], [3429, 1697], [2641, 137], [1075, 890], [1477, 689], [1314, 1684], [2021, 269], [761, 776], [2432, 1866], [2929, 3074], [2162, 583], [9432, 653], [296, 86], [5012, 941], [7882, 534], [10208, 1250], [944, 438], [89647, 1345], [764, 834], [57189, 4662], [4112, 445], [873, 605], [1418, 1042], [2328, 1848], [2467, 1535], [3255, 2780], [4487, 1270], [41897, 5292], [6412, 1058], [9817, 1181], [64782, 1075], [1546, 58], [3502, 561], [23913, 6968], [1313, 954], [3015, 2565], [1227, 782], [1061, 605], [1598, 506], [4192, 1478], [201, 597], [748, 473], [898, 140], [38190, 10567], [144, 253], [4780, 3229], [2613, 724], [49796, 13198], [311, 67], [7800, 2194], [1673, 218], [1740, 2205], [1833, 1106], [10759, 8451], [15950, 754], [2518, 980], [81, 82], [1592, 429], [15368, 2539], [2276, 979], [969, 397], [229, 309], [1328, 1784], [1387, 189], [3324, 759], [34557, 539], [4260, 894], [4297, 2228], [4821, 1424], [2990, 748], [28207, 2181], [870, 56], [593394, 14928], [3523, 899], [2202, 417], [544, 987], [8128, 2864], [950, 917], [18980, 1292], [3127926, 107], [573, 412], [17330, 138], [28520, 777], [25399, 42], [1134, 1259], [4965, 127], [4684, 419], [2697, 191], [27796, 565], [243961, 918], [3574, 1058], [6262, 258], [17727, 1571], [674, 1031], [14825, 459], [20786, 6666], [236, 203], [3106, 884], [2162, 1077], [2363, 1445], [5011, 899], [227, 235], [40191, 963], [87, 200], [1033, 1379], [1558, 273], [2109, 1862], [7407356, 59], [764, 611], [2211, 620], [4438, 154], [6298, 831], [3563, 1212], [787, 77], [7328, 400], [8900, 2307], [195977, 65694], [1005, 656], [5837, 936], [22073, 1064], [908, 549], [6823, 2700], [1602, 1754], [732, 31], [924, 863], [3527, 592], [1036, 706], [689, 1447], [45170, 1022], [123456, 5015], [23476, 3116], [357469, 11237], [4578, 2699], [1244, 999], [1019, 671], [3911, 887], [19602, 175], [3367, 1413], [336, 237], [3589, 997], [235735, 2824], [64853, 604], [49125, 164], [2309, 204], [3508, 1986], [2458, 879], [1456, 1176], [342730, 23218], [1035, 289], [4331, 2088], [246, 1073], [3411, 645], [43817, 127], [4616, 545], [2286, 666], [428, 132], [6295, 2748], [244812, 1178], [8268, 2022], [175680, 1282], [1166, 1154], [430, 270], [15929, 2372], [3660, 935], [32425, 744], [2541, 102], [8130, 1240], [3321, 67], [26270, 746], [5533, 1235], [138, 348], [4140, 921], [3434, 709], [818, 367], [2257, 1338], [9374, 1253], [3224, 845], [950, 1412], [11508, 291], [1593, 1438], [3008, 783], [195603, 332], [32, 110], [298771, 17], [20500, 2087], [49819, 2009], [611, 4556], [12688, 10326], [3645, 1118], [22519, 13278], [13718, 329], [1092, 397], [2705, 996], [9243, 342], [1348, 608], [701, 581], [676, 2401], [389, 1017], [50, 80], [1154, 2461], [1419, 2933], [472, 681], [74191, 724], [1384, 331], [2227, 777], [18448, 265], [3511, 1053], [2609, 508], [18644, 252], [94476, 326], [2376, 2722], [1272, 206], [821, 309], [211524, 155965], [1526, 598], [1439, 976], [38323, 718], [482, 963], [3276, 800], [275, 759], [4815, 1164], [568, 2167], [2756, 188], [284, 307], [4710, 427], [510, 191], [174, 484], [3798, 981], [2253, 674], [5959, 523], [1245, 401], [15870, 663], [9294, 2708], [1655, 877], [4981, 652], [3651, 1354], [759865, 645], [47635, 5614], [17274, 2001], [12702, 189], [2199, 629], [1770, 1636], [7018, 1959], [3011, 2120], [398, 455], [7412, 845], [2628, 1415], [1314, 306], [556, 161], [1230, 529], [2365, 958], [54392, 18235], [249, 201], [4410, 5001], [15830, 5561], [1609, 369], [12888, 1251], [177850, 501], [55172, 4801], [29919855, 1760], [7345, 3586], [1117, 1907], [38677, 25860], [3367, 527], [72, 6], [162, 49], [7063, 647], [95713, 5737], [1091, 465], [1482, 4485], [2708735, 549], [1040, 251], [269113, 538], [3078, 640], [8114, 6284], [2417, 1666], [160, 1331], [19763, 700], [574, 791], [15474, 10800], [4, 23], [140, 137], [8687, 3021], [2736, 2537], [116, 443], [114, 115], [251, 706], [789, 1394], [4729, 1249], [8823, 818], [2887, 861], [469, 258], [1218, 2303], [194177, 67134], [1131, 2169], [730, 2429], [1145, 1023], [605, 154], [30684, 4144], [4947, 3909], [2139, 183], [1786, 1185], [139289, 908], [659000, 361], [798, 267], [121, 311], [48456, 1740], [25816, 1495], [5707, 300], [4421, 1785], [293937, 8840], [972, 418], [5896, 2723], [498, 702], [7668, 1177], [995, 487], [373, 938], [269, 247], [95, 159], [1835, 1197], [1603, 458], [1203, 551], [1843, 1773], [21510, 11470], [951, 2121], [2051, 174], [186, 101], [1407, 235], [1196, 1014], [1572, 1836], [5879, 3749], [281, 300], [2055, 1699], [1036, 2013], [3212, 993], [689, 283], [384, 164], [847, 468], [2924, 2048], [20202, 3562], [277, 225], [193, 274], [4712, 427], [1167, 2453], [30436, 128], [1843, 1196], [2071, 844], [10500, 3975], [363, 1152], [13023, 372], [975, 343], [1242, 260], [12207, 2799], [183, 370], [25508, 852], [386, 106], [31571, 18149], [240, 147], [1856, 205], [3347, 723], [3195, 1233], [3056, 707], [205, 582], [11, 1], [6474, 1059], [3859, 4222], [6877, 869], [13910485, 846], [1206, 522], [13980, 686], [565, 177], [2456, 1608], [262, 306], [188240, 64938], [2108, 329], [6512, 295], [4073, 574], [1335, 710], [1926, 1693], [771, 708], [64230, 376], [1701, 1013], [31077, 1437], [4333, 543], [10257, 6], [98458, 3767], [8466, 2929], [1298, 176], [890530, 300], [372768, 36126], [41123, 1642], [1538740, 121], [464, 49], [98, 93], [220, 160], [9062, 212], [93, 55], [473740, 412], [423736, 214], [350, 221], [210272, 198], [1073, 327], [8702, 255], [627, 208], [9189, 1027], [1346, 872], [17803, 2396], [5655, 768], [221, 26], [248, 358], [199, 467], [37111, 2288], [5787, 4194], [647, 1516], [5937, 2334], [490, 304], [3384409, 331], [1869, 559], [477, 36], [36596, 13697], [42587, 163], [556, 750], [71537, 3610], [7079, 317], [1199, 568], [1260, 580], [39650, 6071], [335, 567], [1376, 1877], [23563, 1967], [1105, 885], [887, 2643], [845, 943], [2077, 1350], [140323, 184], [3875, 461], [4648, 1627], [1037, 827], [231, 1130], [355, 82], [828, 785], [292, 1056], [4894, 1592], [399, 458], [1138, 2165], [1448, 798], [3254, 136], [3138, 603], [3921, 1632], [224, 206], [7201882, 27], [7158298, 4], [43218, 861], [9705937, 153], [93287, 811], [50118, 1597], [2664, 787], [325, 644], [396248, 10448], [1623, 521], [2682, 1262], [45323, 2536], [1512, 526], [256070, 8821], [168742, 671], [979, 139], [966, 307], [615574, 2940], [378480, 1030], [87466, 410], [1394, 1914], [76, 160], [5710, 235], [15329, 15213], [1039, 1128], [903, 843], [1308, 1357], [2752, 408], [457708, 706], [1438663, 397], [132778, 459], [222726, 452], [410, 1316], [4559, 1799], [1462, 4276], [9943, 895], [741, 486], [1873, 535], [73095, 147], [2086, 421], [2476, 1643], [6696, 976], [6467, 1033], [6995, 984], [537, 96], [4874, 3479], [3312, 1041], [300, 241], [2264, 1953], [13939, 383], [319, 640], [15059, 479], [3499, 2985], [849, 1082], [862, 1831], [15617, 1378], [2236, 306], [12766, 5305], [271, 295], [11786, 952], [16689, 2059], [229944, 138714], [22466, 3235], [9765, 1573], [1445, 1370], [10368, 2981], [34897, 64], [4508, 1417], [14741795, 762], [79727, 753], [196672, 59], [6593, 564], [302, 433], [70, 127], [5489, 166], [4385, 3772], [1190, 761], [1294616, 191], [5292191, 1297], [4158703, 775], [486, 523], [3612911, 1288], [3618, 0], [304725, 375], [2240, 2248], [36431, 266], [18010, 267], [1037, 195], [1748, 451], [3141, 2884], [2159, 1408], [3961, 1620], [25337, 1609], [3576, 2711], [548866, 399338], [666, 1215], [14041, 918], [7184, 1843], [68765, 4985], [508, 195], [1188, 1684], [2722, 394], [71526, 58661], [2485, 3016], [3018, 0], [2079, 547], [1859, 998], [560, 550], [7564, 5223], [6143, 1614], [3621, 300], [133519, 908], [83, 178], [712, 836], [6564, 285], [374294, 229], [24781, 793], [639, 291], [102832, 98359], [7109, 506], [8399, 628], [3379, 398], [373, 749], [2244, 683], [1215, 995], [1317, 1448], [1141, 2276], [1463, 563], [2864, 1477], [3993, 1971], [1770, 1173], [2142, 1120], [2813, 879], [19693, 2772], [24205, 1093], [2266, 1981], [3411, 309], [527, 93], [198, 481], [5312, 1883], [1213, 458], [1869, 2955], [134, 45], [139656, 775], [1069, 997], [290, 515], [8677, 997], [7831, 2453], [2804, 588], [13705, 2019], [146396, 276], [8842, 4436], [665, 717], [972, 842], [293, 324], [41, 47], [16456, 822], [6838, 801], [19542, 3354], [2330, 2199], [7544, 953], [721, 1057], [1191, 79], [9909, 1264], [8628, 250], [765, 1498], [721, 541], [862, 748], [479, 273], [453, 197], [691, 584], [628, 730], [416, 381], [1323, 1578], [16872, 382], [23957, 1192], [34227, 1419], [26057, 624], [294375, 1842], [2882, 463], [90282, 328], [53862, 1545], [1318, 350], [4414, 1953], [8773, 3420], [28829, 902], [2788, 708], [1020, 1231], [7771, 1600], [1568123, 344], [1172, 718], [1529556, 1025], [3938, 279], [610, 1779], [12197, 888], [18705, 651], [2454, 976], [104, 264], [1075, 1126], [13311, 292], [921, 2326], [47153, 425], [12975, 963], [5505, 1804], [2465, 1351], [2101, 494], [8887, 3194], [5553, 5113], [988, 764], [4551, 2464], [7663, 455], [4969, 3440], [1130, 1014], [6678, 4267], [977, 1333], [922, 640], [919, 964], [13343, 30], [32914, 987], [4638, 1999], [6962, 2388], [9999, 1653], [206645, 847], [5467, 1852], [3057, 448], [63202, 1074], [11440, 3120], [2005, 1332], [3321, 1251], [4020, 3698], [576, 509], [2131, 58], [4087, 948], [2408, 1835], [23715, 2521], [219901, 1527], [7547, 2211], [415, 357], [1037, 353], [629, 12], [53492, 32316], [25456, 1725], [180, 265], [796, 453], [2020, 432], [6516, 1803], [57818, 150], [23938, 2225], [1606, 1005], [8244, 570], [81, 11], [3027, 2914], [114617, 192], [84974, 4838], [193, 3], [58158, 49448], [5601, 608], [6226, 1287], [1738, 1070], [2688, 2197], [1719, 718], [4902, 2120], [659, 47], [4644, 376], [744, 967], [3293, 352], [2785, 796], [1044, 1208], [1990, 2059], [287, 1011], [931, 609], [924, 1795], [424, 326], [110357, 11804], [17013, 12482], [701, 372], [9911, 8104], [3453, 1126], [169, 202], [330, 245], [1802, 2406], [490, 1284], [707, 155], [375, 922], [1368, 1027], [830, 416], [2610, 424], [23752, 384], [37789, 1091], [3185886, 364], [225519, 27], [2937075, 16], [237454, 318], [16792, 4185], [11386, 3990], [125, 135], [10379, 4196], [60526, 1669], [14108, 1248], [25102, 2686], [843, 531], [843, 267], [3591, 369], [13036, 539], [2114592, 602], [528915, 396], [2740363, 1298], [5568, 980], [3823, 1146], [187679, 710], [6202, 6077], [1900, 680], [11411, 599], [224, 523], [46047, 3034], [1099, 370], [890, 1229], [11275, 6801], [887, 754], [464, 281], [84, 235], [6354, 717], [10853, 9094], [2169, 1865], [936, 1115], [2494, 3047], [557, 625], [3340, 1072], [15187, 280], [4264, 2760], [22552, 324], [245824, 23743], [334249, 778], [50199, 4886], [2150, 1542], [5574, 952], [2160, 500], [26299, 3363], [433, 140], [347, 443], [26982, 26849], [2457, 1994], [5255, 1675], [3848, 1806], [3590, 1915], [3178, 1643], [752, 1547], [9231, 1803], [6191, 739], [4077, 2622], [2395, 587], [87745, 1925], [181, 394], [1403, 906], [19071, 2331], [1033, 2137], [18772, 6411], [5655, 1918], [52711, 398], [66013, 750], [432, 2856], [314, 590], [6523, 914], [2733, 324], [3450, 975], [77846, 46499], [321, 897], [3604, 99], [3645, 1032], [1033, 477], [530, 1061], [387, 442], [365, 718], [110682, 370], [3624, 434], [26202, 2839], [87104, 0], [29521, 475], [1589, 1151], [7689, 4078], [640, 405], [294, 83], [13685, 1418], [21120, 497], [18417, 119], [156063, 2249], [85390, 8010], [1610, 684], [1827, 1444], [5073, 2153], [2106, 600], [395, 514], [104664, 26301], [571, 1053], [2555, 1449], [703, 974], [3114, 2349], [156974, 61433], [7232, 179], [6512, 3688], [420, 640], [1677009, 1092], [23986, 451], [4698358, 2949], [7406100, 289], [9496533, 19], [2454126, 733], [4196903, 269], [15958, 543], [6300, 722], [180766, 876], [210, 293], [2133, 592], [45302, 25065], [41574, 2512], [690, 1359], [779, 1020], [5243, 3079], [1045, 937], [1065, 496], [3039, 2546], [591, 255], [1638, 1014], [14683, 264], [4226, 617], [19370, 12623], [1251, 737], [721, 348], [1580, 1001], [1295, 435], [10730, 977], [1065, 2114], [6445, 722], [610, 1226], [2390, 674], [4428, 1106], [12424, 2176], [3636, 598], [750, 440], [54757, 1488], [150321, 688], [1054, 1062], [268, 847], [6041, 1039], [2451, 904], [206, 379], [14185, 1036], [60975, 66306], [45617, 43965], [2684481, 3876], [190497, 28], [1900, 143], [3273, 790], [712812, 3422], [223, 256], [800, 73], [1306, 210], [15616, 552], [2024186, 263], [5582, 2974], [25721, 2146], [3788, 456], [212802, 315], [183126, 664], [29715, 686], [17514, 472], [4962, 1375], [3165, 992], [3166, 844], [6795, 1194], [6494, 725], [2205, 2037], [12401, 1381], [2954, 546], [2893, 950], [2855, 1158], [2655, 437], [25554, 1761], [10897, 1728], [29929, 1271], [7332, 1868], [2607, 919], [44667, 939], [176, 104], [1153361, 1133], [1343, 817], [18253, 224], [17406, 532], [16538, 3571], [28602, 1606], [7095, 337], [1107, 406], [15928, 1283], [11852, 1026], [7443, 811], [1711, 1910], [1840, 1565], [6331, 560], [2363, 84], [2492, 1666], [6352, 2061], [62143, 4704], [15291, 1239], [2131, 2023], [11206, 622], [31055, 621], [14009, 1095], [164, 180], [18254, 1220], [1007, 821], [1094737, 548], [133003, 790], [87774, 446], [3100, 1268], [1816, 1030], [32339, 1760], [6292, 1792], [439210, 11889], [1488, 1764], [18780, 385], [2775, 841], [3396217, 56], [193067, 371], [351, 235], [133833, 907], [1281, 470], [147, 176], [905, 684], [531680, 162], [108495, 1857], [262775, 126], [7361, 382], [7781, 1145], [1075, 1485], [338, 609], [26541, 8413], [950, 1137], [2965, 1289], [5241, 5769], [556, 880], [106804, 299], [2278, 710], [2921, 2201], [2156, 1407], [7686, 2674], [10495, 690], [39463, 939], [35877, 1565], [8022, 55], [81, 32], [4206, 928], [134669, 1463], [15241, 3121], [24502, 355], [17201, 80], [84850, 6781], [29736, 992], [218434, 518], [16141, 2634], [102837, 164], [225710, 1147], [437887, 330], [712, 616], [12042, 1279], [1159, 1500], [227249, 2219], [279078, 712], [34453, 2225], [1908, 578], [5160, 153], [38953, 699], [1638, 663], [981, 1261], [561, 2127], [430, 772], [2272, 130], [9204, 529], [3423, 2276], [348018, 139], [1786, 1335], [8934, 684], [353236, 3558], [71801, 1928], [1244, 415], [946, 1260], [1694, 2057], [8679, 1391], [698, 344], [5742, 2966], [480608, 552], [262343, 327], [1529, 239], [494961, 927], [61500, 2088], [2355, 872], [8801, 930], [394887, 360], [1303, 557], [606, 808], [319, 306], [286958, 1603], [824, 498], [28777, 3269], [29855, 1621], [129842, 2662], [18579, 2314], [21311, 1207], [23508, 333], [9682, 5116], [8815, 669], [1327, 74], [3711, 444], [7516, 100], [14115, 1026], [50830, 213], [87220, 3293], [5403, 2293], [20951, 6433], [150, 168], [14218, 3511], [39424, 1995], [1200, 1240], [537, 2037], [16375, 6937], [1240, 2059], [2749, 1290], [7633, 1595], [875, 284], [56853, 339], [1105880, 1188], [191138, 79766], [290441, 171], [293488, 1335], [100439, 46221], [1708, 1436], [222, 1377], [9909, 983], [1025, 866], [809070, 8168], [529, 805], [800, 642], [8191, 886], [108249, 62], [4711, 1373], [7783, 1185], [472, 119], [1253, 2202], [14014, 358], [1909, 1047], [859, 524], [3674, 1112], [33969, 1428], [2331, 1391], [2099, 1953], [314, 1591], [724, 2268], [12090, 5028], [6959, 3122], [11288, 3707], [4664, 1134], [1268, 463], [4222, 948], [810, 1581], [2093, 2270], [39393, 21788], [382, 1565], [2658, 858], [233, 783], [4191, 913], [86721, 1480], [7563, 325], [41766, 1645], [883, 1359], [18408, 10209], [12743, 4389], [292410, 2847], [1568, 2694], [89815, 492], [8825, 1132], [1470, 204], [70774, 3033], [615, 604], [11780, 1277], [6492, 99], [4349245, 983], [567569, 2059], [6267, 997], [1825, 796], [77948, 1260], [5693, 299], [1989, 269], [2793, 1730], [2597, 2321], [212184, 247], [5334, 758], [218, 777], [41253, 4981], [7731, 1161], [16728, 2252], [129926, 72477], [3938, 903], [660937, 2226], [6296, 4435], [916, 549], [1035, 131], [4136, 1839], [4070, 5001], [2191, 310], [3487, 595], [1374, 990], [1130, 975], [1671, 690], [3020, 18], [669, 474], [17899, 6978], [99393, 3329], [10029, 6394], [4159, 3586], [44307, 84], [9264, 218], [494, 1012], [153635, 3228], [16730, 5531], [1203, 539], [35372, 280], [12261, 97], [29386, 1548], [13298, 188], [9572, 881], [72048, 1038], [18885, 3966], [2912, 895], [802, 1142], [2993, 501], [68448, 327], [4870, 343], [12257, 8804], [1285, 482], [12582, 933], [3465, 567], [6815, 124], [1719, 2848], [764, 1109], [769, 1222], [2266, 2538], [5709, 1623], [1206, 384], [3325, 916], [2481, 597], [2729, 2742], [664, 221], [6958, 2102], [6981, 107], [28300, 3260], [1085, 583], [3997, 400], [4793, 2067], [430, 572], [14923, 782], [1321490, 784], [3918, 2103], [793, 1234], [6079, 633], [24399, 2695], [1910, 2143], [2082, 442], [10301, 1708], [7183, 5411], [4204, 1501], [2940, 3329], [974, 3023], [3493, 1730], [922, 1973], [531, 413], [1061, 2061], [391, 1501], [1912, 1666], [26848, 15381], [3806, 850], [47624, 17920], [2483, 1201], [1029, 232], [2612, 1179], [3970, 3041], [15747, 703], [17021, 665], [82597, 406], [1137, 771], [4641, 700], [827, 1033], [1266, 41], [803, 658], [15794, 2366], [809, 983], [9127, 6975], [2111, 2420], [235387, 1414], [126684, 5398], [76602, 673], [25347, 19576], [3510, 2487], [417, 123], [1713, 1982], [89023, 87433], [55447, 29724], [20986, 7521], [3514, 591], [7421, 446], [5029, 1969], [1634, 2301], [176647, 92204], [1168, 1026], [10618, 577], [12118, 1580], [5592, 480], [1221, 314], [7781, 996], [65, 259], [5389, 281], [972, 119], [3345, 773], [1320, 272], [3187, 935], [1025, 2770], [5266, 3669], [8854, 2067], [21363, 10797], [127980, 2163], [1275, 774], [3844, 675], [1617, 2797], [59440, 44326], [1419, 2028], [68110, 95], [19441, 3675], [9084, 1167], [21540, 393], [20041, 132], [3003, 1071], [10954, 4393], [26396, 3893], [1223, 5], [1443, 810], [8576, 767], [35659, 3342], [1190, 843], [11297, 1215], [2446, 468], [2128, 1931], [3658, 39], [6385, 542], [128492, 973], [1821, 264], [2196, 797], [25237, 1228], [16817, 2070], [993, 630], [5417, 448], [8194, 2813], [15080, 465], [260, 192], [2906, 1496], [2823, 712], [18362, 19459], [1721, 820], [2624, 553], [186, 195], [289, 967], [19116, 999], [20858, 2440], [167586, 640], [52918, 424], [168646, 957], [1422, 665], [803, 853], [687, 750], [6802, 1447], [3906, 2567], [654001, 243], [54238, 696], [16426, 2398], [30317, 2499], [2664, 2207], [958, 635], [31729, 2201], [136555, 2566], [7535, 346], [33081, 377], [3092069, 378], [1021627, 310], [726367, 87], [3961, 170], [46207, 563], [9590, 3079], [12985, 2598], [746574, 787], [5086, 591], [1213, 479], [1433, 1034], [4679, 4027], [471, 871], [6587, 3613], [118585, 8055], [4400, 1645], [8914, 1635], [10315, 2485], [2308, 411], [7363, 3834], [3803, 1270], [304231, 734], [22428, 2892], [57203, 1762], [1455, 2070], [4061, 1967], [1448, 1478], [2421, 248], [80287, 961], [231880, 1186], [103486, 2135], [10695, 181], [1252, 603], [14469, 2292], [23828, 1212], [10503, 1856], [495862, 1054], [1769, 140], [4308, 998], [80486, 3076], [189019, 4625], [90273, 547], [67200, 2890], [31140, 1627], [8389, 6152], [2126, 689], [2047, 177], [4557814, 1151], [1450165, 357], [12775493, 531], [4157, 1637], [5603, 697], [17623, 474], [11945, 1115], [27254, 20542], [14632, 335], [400, 298], [2050, 383], [14766, 74], [355066, 457], [323639, 371], [489, 158], [8645, 3651], [17267, 2873], [6672, 1225], [13380, 762], [5050, 853], [126073, 1194], [4121, 1062], [9154, 7775], [1076, 1532], [355, 235], [3543, 5002], [47172, 820], [4704, 496], [2289, 1667], [1053, 2062], [8408, 7505], [11197, 589], [9696, 6197], [1602, 1429], [2782, 1840], [967, 817], [12002, 1129], [10119, 3382], [509236, 1602], [27602, 2907], [74054, 1291], [4813, 3865], [5965, 377], [6164, 259], [318, 632], [81459, 48315], [65299, 1756], [39993, 2715], [651, 0], [199741, 1602], [2474, 398], [40159, 2834], [3080, 4824], [508860, 434], [13820, 2723], [6940, 1813], [1126, 1918], [3022, 266], [449, 610], [7496, 2183], [14871, 3749], [69217, 4727], [1775, 1045], [160350, 2538], [13130, 4822], [9303, 9566], [3566, 821], [315929, 72], [21584, 5138], [6661, 1888], [624, 548], [5887, 5415], [3129, 933], [10047, 136], [5532, 750], [52672, 5235], [3052, 512], [3027, 1632], [364248, 1450], [13620, 2904], [5911, 2095], [302997, 4837], [11118, 111], [1785, 156], [30205, 5130], [316, 768], [3185, 1906], [12040, 5914], [6553, 1114], [1977, 1103], [528634, 468], [4923, 2298], [1155336, 1054], [42208, 2043], [690, 3017], [2925, 718], [7734, 2652], [3425, 83], [4637, 1008], [12802, 4404], [94, 14], [9890, 969], [310, 176], [13777, 753], [13354, 666], [6628, 3093], [5353, 1851], [1353, 439], [68542, 11126], [457, 287], [29086, 4889], [6505, 4195], [1674, 646], [2800, 75], [51738, 29], [688, 226], [23778, 11244], [8269, 766], [4584, 2197], [1607, 987], [1692, 683], [2410, 980], [31493, 62], [44515, 9268], [1372, 416], [3728, 567], [182, 386], [1231, 1145], [267926, 688], [60458, 707], [4464, 228], [1923, 1007], [14676, 16571], [19255, 18416], [2043, 1147], [166843, 57131], [1586, 2023], [4512, 1048], [11013, 2229], [66100, 13507], [2139706, 37463], [11850, 2583], [7327, 2125], [3347, 1005], [106273, 3674], [58675, 1891], [1623, 1968], [22157, 199], [8879, 2093], [1235961, 11408], [47675, 374], [4285, 531], [12044, 1444], [1069, 2030], [4983, 2452], [7477, 1544], [89068, 24738], [1630, 2275], [1666, 2140], [3865, 1038], [45757, 19699], [1436, 414], [18391, 18412], [4551, 2157], [6024, 1190], [4253, 4620], [18281, 4928], [2259, 121], [2516, 2153], [873, 100], [989, 292], [2081, 1002], [1194, 1703], [22154, 4087], [33291, 9777], [1940, 1920], [2196, 998], [8414, 1237], [214993, 63063], [23582, 4566], [9702, 1583], [428, 419], [3285, 451], [2590, 420], [178955, 1950], [1459, 1447], [73307, 19382], [19618, 2489], [273, 872], [2554, 2221], [1940, 1970], [10863, 4273], [151205, 3320], [15738, 252], [1326, 1548], [1385, 2436], [371352, 282], [27848, 327], [53183, 8692], [16811, 9664], [178002, 1712], [125844, 2113], [1058, 866], [907, 1181], [267439, 160], [373, 729], [129137, 2757], [817988, 88], [4267, 452], [2354, 578], [34658, 2272], [1179, 274], [3868, 1731], [31152, 1611], [22180, 1446], [35652, 2948], [17996, 6175], [18937, 2614], [266379, 831], [45542, 448], [21353, 2343], [19420, 1280], [4632, 998], [18236, 18729], [11493, 649], [16644, 560], [16349, 707], [18572, 8298], [31230, 1103], [22038, 19247], [361, 459], [47094, 18700], [5303, 1337], [16244, 48], [127708, 3068], [30783, 1068], [2732, 205], [12466, 1122], [8048, 2410], [16539, 10659], [5408, 2650], [42466, 1278], [1001, 1404], [21948, 20879], [765, 1114], [109529, 1671], [50748, 5844], [2274, 2375], [6753, 439], [1251, 1987], [16935, 4066], [19698, 381], [17349, 1355], [660, 51], [2020, 326], [4263, 1351], [12923, 1099], [32036, 20844], [109192, 117], [47933, 6709], [22642, 6032], [21627, 1813], [2544, 1783], [11199, 4340], [222824, 0], [35596, 1577], [57601, 1015], [78076, 1167], [76090, 572], [174715, 8965], [11588, 3791], [1891, 703], [764, 1302], [323, 300], [20576, 2722], [5891, 706], [30140, 2725], [9306, 2046], [2639, 330], [137752, 4508], [37591, 28591], [13478, 1524], [2136, 491], [17592, 824], [235166, 85], [79275, 759], [82428, 3251], [15313, 1145], [4943, 646], [54263, 7570], [79668, 651], [15072, 2613], [16896, 2400], [45712, 2272], [1459, 1630], [5028, 661], [241652, 183651], [57712, 1978], [10412, 3045], [4458, 859], [8832, 270], [6974, 1263], [4678, 2274], [43433, 2045], [4804, 381], [155419, 4600], [33588, 769], [127111, 505], [12291, 4528], [6922, 2087], [10133, 128], [4306, 1638], [3343, 859], [1505750, 445], [37663, 5869], [44171, 3050], [16830, 2072], [17908, 807], [13579, 1557], [7312, 2049], [18688, 2386], [74049, 1128], [995, 345], [6717, 2032], [51738, 309], [19456, 1073], [25272, 826], [40678, 675], [1436, 1357], [7494, 556], [13857, 1247], [8678, 2335], [1434, 2029], [4013, 981], [12467, 1212], [849, 594], [8086, 636], [2302, 2020], [9411, 692], [2599, 747], [5406, 575], [35988, 2001], [3695, 1785], [2603, 102], [2040, 462], [124730, 1581], [17032, 970], [3601, 1315], [738, 1251], [2477, 1161], [385962, 1532], [30375, 706], [42675, 1012], [61070, 1097], [43745, 922], [74351, 1929], [104847, 731], [11988, 1150], [8873, 821], [21835, 1895], [2477, 427], [61964, 1420], [5288, 1894], [23716, 1171], [5685, 284], [14395, 5841], [5375, 1023], [35168, 1357], [3711, 60], [5685, 4448], [24600, 1118], [8125, 404], [8038, 1884], [3029, 1107], [26022, 1213], [7323, 749], [13640, 1883], [32431, 902], [13043, 422], [2065, 208], [1269, 1327], [1179, 200], [697, 2173], [4484, 977], [17804, 788], [2674, 493], [2976, 373], [188, 11], [6809, 862], [8519, 218], [1020, 125], [70220, 2358], [2081, 353], [8909, 503], [23817, 27], [6251, 1837], [59620, 44457], [343787, 172], [13119, 3849], [2711, 1668], [295497, 340], [3032, 1930], [3184, 872], [71404, 2673], [5192, 267], [2727, 2048], [512428, 105028], [117268, 871], [18439, 8135], [746219, 29431], [823, 34], [25675, 689], [33453, 666], [2838, 249], [679711, 749], [55568, 1147], [248427, 545], [75379, 734], [3014, 2794], [6585, 1275], [2087, 792], [6506, 918], [33041, 1930], [1735419, 551], [1950, 584], [5936, 698], [1458, 314], [19619680, 83], [139638, 1151], [16739, 570], [5469, 2084], [94770, 862], [20557, 2381], [15725, 2137], [10877, 885], [14113, 11970], [16495, 13302], [22521, 26226], [692, 286], [1546, 1187], [23504, 17008], [3299, 1292], [312, 121], [9537, 735], [8802, 1531], [12879, 1166], [6068955, 24861], [1424475, 1410], [25022, 2169], [2678395, 4651], [114379, 989], [553545, 1528], [131869, 2298], [7610, 1093], [18200, 275], [10713, 3914], [50506, 22051], [2679, 2929], [2997, 791], [5281, 1959], [149442, 2549], [411793, 8143], [5579, 4441], [1073, 793], [641, 897], [40201, 30704], [1113056, 208], [17985, 547], [137933, 11587], [5545, 628], [8156, 8442], [698766, 1452], [28937, 15946], [14978, 784], [10245, 947], [641, 11], [26733, 87], [1532, 1930], [23264, 280], [122254, 1796], [11285, 3699], [601441, 467], [73556, 2756], [7430, 877], [10940, 3411], [50161, 916], [6081, 3836], [580, 128], [101085, 3468], [76158, 986], [210816, 1346], [16440, 6502], [42532, 1422], [1241269, 655], [255285, 148], [750212, 508], [185103, 19213], [236, 53], [10382, 2630], [16369, 551], [87697, 1624], [161233, 6295], [972551, 10], [4884, 763], [131613, 1049], [22160, 1572], [667, 915], [17215, 2395], [1313, 1156], [799, 1123], [21587, 2152], [5305, 1016], [485103, 777], [2387, 968], [2635, 377], [2303, 3247], [976, 445], [6930, 6341], [1970, 831], [1924, 571], [1653, 79], [19789, 467], [21754, 13766], [920430, 2781], [1006, 646], [31061, 2041], [792931, 210], [622899, 1140], [1586, 235], [1883524, 235], [1184058, 91], [34546155, 1119], [58059, 1438], [1153, 55], [400, 163], [11686, 1570], [6703, 1103], [553, 16], [54514, 1248], [68035, 1575], [87402, 1316], [5217, 84], [186740, 5], [142066, 3278], [301, 65], [14457, 4120], [8682, 272], [67980, 2528], [29255, 18636], [5105, 1266], [24354, 2613], [16096, 2839], [158, 158], [235398, 3244], [1991980, 112], [672744, 6681], [1173900, 26554], [78668, 646], [3617391, 20618], [4924, 487], [1530, 262], [5689, 608], [7435, 579], [2708218, 22788], [19647, 2283], [2362, 1229], [6747, 3147], [35675, 214], [318833, 1094], [18347, 4178], [11225, 3131], [352396, 2509], [384549, 548], [103645, 21497], [1057808, 99], [7095, 2433], [9743, 877], [238418, 1307], [13500, 1273], [60233, 3896], [952, 225], [13414, 5397], [8630, 1810], [37106, 459], [930308, 3870], [17093, 1752], [146, 118], [64307, 1213], [18182, 1498], [1333, 2159], [3551, 729], [4639, 451], [50647, 2465], [7738, 318], [7133, 334], [8679, 2887], [2436, 1806], [34969, 1179], [328368, 305], [17674, 775], [71842, 4737], [5135, 678], [10026, 510], [76653, 2384], [5251, 892], [24007, 1114], [78242, 518], [6636927, 365], [96165, 1300], [95407, 211], [36697, 235], [23428, 2170], [32909, 15717], [143750, 1702], [10412, 1663], [75922, 662], [24113, 4027], [219516, 86], [3931266, 1001], [846885, 300851], [1036, 1195], [2299, 2305], [140415, 404], [3311, 737], [39807, 925], [12692079, 5542], [306503, 1777], [6516, 5493], [29578, 17404], [2912, 1525], [89530, 942], [2669667, 134], [26885, 378], [2969, 2927], [13024, 1821], [717, 218], [36330682, 894], [23316, 2002], [6480976, 1111], [2340, 807], [6267, 233], [3794, 1573], [108299, 579], [10709613, 7251], [13870, 4136], [16372, 940], [10102089, 5708], [24889, 17807], [1815, 1683], [8308, 562], [978, 511], [2604965, 398], [596198, 2354], [11970, 1402], [8225, 151], [1656, 468], [3684, 1175], [147181, 752], [571, 966], [136238, 1059], [8133, 2234], [1165019, 239], [288865, 100], [13157, 2077], [8840, 1274], [2268, 1445], [131842, 487], [7607, 546], [41921, 916], [1163, 423], [17568, 1238], [12006, 454], [6509, 473], [19892, 862], [72315, 4148], [58810, 2357], [57925, 1000], [11674, 1686], [6321, 1546], [111897, 1650], [14381, 1205], [8627, 499], [14238, 2128], [4616, 1870], [3896536, 224], [6985, 3], [371, 491], [87166, 2677], [1584506, 550], [9881, 586], [3633, 235], [64967, 3921], [68051, 1991], [42873, 153], [3801, 1117], [1523, 1045], [7212, 868], [71095, 38996], [1070, 1825], [7386, 1380], [2255, 15], [59867, 1028], [1107330, 4699], [743972, 104], [8788420, 2839], [34793380, 183], [22490, 895], [13433, 10238], [12201, 986], [87317, 506], [15816, 885], [8974, 2716], [20963, 922], [18711, 797], [22086, 2311], [3000, 116], [11336, 8199], [2858, 2930], [614201, 481], [11678, 481], [135847, 7216], [3769, 1137], [42581, 4119], [3325, 157], [23501, 2010], [10174, 924], [501708, 26079], [24597, 1718], [166279, 294], [32557, 536], [819120, 1098], [67303, 2083], [70661, 630], [44039, 36320], [510270, 508], [286728, 4328], [573532, 3634], [4201, 619], [132537, 2534], [4928, 2448], [1144, 241], [975, 91], [5796, 613], [8889, 337], [3686, 700], [3434, 1622], [12671, 1924], [1836, 762], [384113, 425], [3399, 424], [17705709, 1050], [3280, 952], [22249, 1204], [76365, 3860], [1147, 366], [456831, 1647], [989, 187], [6383, 4025], [4747, 3555], [18453, 2279], [207375, 2230], [2586, 511], [92603, 1715], [14541, 2637], [2127, 1258], [3771, 2162], [125632, 1967], [42738, 736], [1547, 448], [694904, 0], [48213, 6069], [21128, 604], [2334430, 1741], [58490, 13388], [100499, 9824], [17342687, 21], [43980, 534], [1203749, 1729], [83776, 753], [40758, 423], [87596, 754], [157056, 1472], [133008, 1165], [320377, 2164], [39008, 1839], [179497, 1689], [17201, 496], [156544, 1466], [198623, 27756], [332, 741], [15335, 7518], [403260, 6081], [14804, 1150], [17624, 2885], [6507, 1753], [14162, 1233], [396054, 3851], [33879, 968], [1620464, 2686], [7457, 2721], [12545, 174], [260573, 1932], [320995, 370], [61444, 23854], [3499261, 6503], [1151696, 3424], [946717, 128794], [1215, 126], [42732, 1534], [5817, 896], [719, 1104], [53200, 4461], [2370563, 595], [66646, 918], [75915, 3468], [501867, 932], [31584, 3461], [203209, 17858], [1439211, 334], [5555, 2262], [24592, 802], [216841, 5222], [13626, 975], [49427, 7512], [220207, 1151], [4542, 1559], [1595, 264], [9396, 3034], [8504, 218], [13875, 4133], [3338323, 16265], [1810832, 933], [477513, 235], [3077234, 340], [771675, 10744], [967003, 1150], [633760, 658], [1516580, 269345], [481442, 2695], [14000660, 231], [14377036, 11], [74866, 1155], [2357102, 789], [6963253, 72543], [10019345, 1349], [1734526, 593], [20614990, 159], [10028935, 497], [8459, 1744], [7688887, 395], [3047679, 1261], [14583, 1799], [21293, 686], [74382, 164], [1213158, 473], [264, 151], [17302, 950], [7067, 656], [116476, 938], [19142, 2364], [18101, 2123], [40974, 8373], [6597, 7255], [162485, 1245], [3983, 1995], [10327, 884], [361, 166], [8231, 72], [539, 386], [638616, 28774], [14083, 968], [1080, 697], [51544, 1648], [64043, 29908], [8906200, 1141], [2019, 622], [19011, 863], [103, 37], [68186, 1814], [13944899, 1068], [75839, 591], [923, 181], [17371, 58], [199213, 3180], [5600, 1001], [4723, 830], [132240, 1320], [15940, 494], [1218, 2501], [8718, 595], [84298, 1065], [86358, 1225], [2385, 95], [126511, 995], [2244448, 147], [4326370, 401], [55520, 7577], [22556, 1683], [225, 2250], [132450, 565], [86329, 159], [47395, 932], [1442, 740], [56750, 2176], [61253, 1699], [7819, 2638], [333271, 12463], [87727, 1087], [12573, 3222], [5708727, 818], [182418, 738], [593591, 2189], [116691, 1413], [931915, 486], [7593, 5810], [2219, 1388], [82589, 1671], [1719, 703]], &quot;type&quot;: &quot;scatter&quot;, &quot;color&quot;: &quot;rgba(223, 83, 83, .5)&quot;, &quot;name&quot;: &quot;Asia Foundation&quot;}, {&quot;data&quot;: [[123943, 392], [7949, 5970], [32325243, 373], [1490012, 1203], [2624, 69], [527218, 1304], [10457, 45], [121, 328], [561, 400], [231, 125], [346, 992], [12801, 5605], [17696423, 1050], [10699887, 7252], [10010922, 1349], [34491211, 1119], [48930037, 122], [1264337, 12055], [581384, 1349], [10842, 599], [128724, 343], [64429, 633], [659, 764], [1376, 754], [12726, 4709], [3773, 2212], [41151703, 1735], [672, 361], [1073, 2103], [1709, 1180], [1500, 1430], [7714811, 15], [17962, 993], [2134, 1489], [1660761, 494], [120959, 1894], [1352, 729], [743560, 2093], [1171, 280], [5250, 436], [2536, 2812], [1424, 291], [3097, 564], [5468, 523], [332138, 491], [1105, 909], [1577, 621], [9962, 0], [2692, 117], [656923, 7241], [48377, 2858], [1210, 485], [15080, 8771], [23690, 3781], [10853, 1302], [303576, 427], [858311, 209], [7130, 1205], [35602, 34155], [1740, 953], [2388, 926], [1707, 4914], [116493, 3864], [8030, 1369], [335, 308], [51927, 927], [15923, 3993], [535, 853], [3663, 1243], [3332, 2488], [18449, 2214], [1093, 336], [1629, 159], [22757, 2197], [5597, 910], [2916, 1366], [58979, 382], [219, 286], [1533, 68], [410, 48], [923, 138], [773, 293], [1649, 239], [3384, 3683], [2943, 649], [2375, 1047], [3498, 788], [6893, 1241], [1565, 59], [444, 519], [15621, 605], [2599, 118], [69, 140], [4600, 2838], [478, 630], [108167, 398], [1098, 1021], [2943, 834], [152, 307], [10442, 2782], [699, 771], [11075, 418], [17503, 359], [374, 313], [442, 306], [37375, 147], [12665, 611], [887, 2040], [133163, 593], [660592, 2226], [788, 1464], [736, 1115], [379, 291], [10007, 1886], [24, 79], [29424, 2858], [13783, 1050], [9064, 1069], [610, 323], [5303, 1151], [201, 270], [966, 57], [5190, 775], [2488, 1632], [1387, 696], [5285, 1183], [609, 405], [383759, 97], [48050, 7169], [2100, 2304], [531, 358], [49, 105], [214, 27], [169, 409], [519, 266], [6206, 833], [1106790, 8408], [7115, 1554], [351650, 54], [2993588, 1036], [87660, 751], [8266, 294], [9493, 994], [1242996, 289], [605, 336], [12, 73], [121, 318], [517, 604], [4422, 2028], [50981, 2137], [2256942, 3942], [208714, 858], [5481, 802], [2068, 2651], [184680, 0], [2524, 603], [1881, 963], [15476916, 79], [17340762, 41], [3630273, 701], [2240, 1049], [413576, 3687], [185730, 1499], [568592, 26550], [6623, 2370], [1511, 681], [75879, 1668], [305457, 594], [876164, 212], [279763, 812], [962158, 1256], [131847, 2298], [9346, 796], [12265, 11897], [10734, 162], [3618, 1222], [7414691, 51], [31550, 1629], [7067, 1053], [387, 550], [369, 419], [588, 718], [5608, 652], [629, 118], [981, 110], [6462, 804], [2835, 668], [10852, 203], [821, 569], [522, 96], [9412, 176], [113, 91], [6694, 481], [6886, 870], [88073761, 629988], [30027, 277], [133076, 535], [2294179, 382], [36272727, 894], [1510, 540], [1412, 1529], [1418, 185], [327489, 863], [292499, 268], [4138, 977], [683, 1369], [1903, 1332], [1808, 668], [29030, 9967], [325, 240], [615755, 1157], [16666, 7242], [655075, 381], [12588, 4450], [964, 606], [164921, 2014], [20155, 2502], [2305, 386], [902661, 329], [1780224, 3033], [12304, 45], [4796, 573], [2931, 365], [3862, 472], [198, 165], [2132, 84], [55028, 965], [16884, 207], [179, 122], [8689, 196], [391, 2949], [28265, 3], [132, 218], [312, 247], [4324, 1984], [5789, 3681], [430, 152], [8271, 1125], [195502, 332], [723, 403], [20196, 1143], [1610, 464], [7741, 505], [55999, 296], [3550, 278], [934, 852], [211125, 405], [58472, 13391], [7145, 409], [188127, 382], [14732, 144], [43966, 8412], [2758, 199], [122, 62], [282, 381], [1357407, 922], [373433, 6243], [67, 92], [200562, 1973], [4671, 568], [1658, 478], [3427, 3101], [88654, 456], [9039, 6712], [21351, 988], [122404, 400], [6609, 2275], [3920, 336], [988, 1903], [93765, 654], [28790, 1555], [1616, 1310], [2909, 693], [29574, 17404], [1268395, 0], [4525, 768], [2294, 2046], [27052, 3056], [8579, 636], [28076, 484], [9194, 1357], [132503, 2534], [1079, 3002], [260, 554], [1316, 644], [1990899, 112], [3062, 4903], [39855083, 4], [199408, 5740], [2664852, 76], [550670, 87], [536891, 405], [644812, 23], [10171, 3], [13024, 58], [1678608, 2560], [20405930, 1510], [214080, 14], [1068628, 37], [1779, 105], [2067714, 1469], [3415, 1671], [328160, 48], [3917, 1019], [25821, 3965], [15226, 83], [226415, 4511], [8639, 1913], [553, 365], [2657, 1659], [11444, 443], [31, 17], [489021, 9853], [67, 85], [3709743, 8992], [25908634, 681], [9602, 411], [439, 1313], [567036, 1334], [31944, 1526], [270573, 348], [130544, 36], [558686, 878], [107252, 2168], [1553, 1335], [71, 102], [36312, 994], [72050461, 1135], [857, 840], [4526, 975], [975, 424], [799897, 663], [9845, 267], [53513, 0], [34053, 1534], [4381, 346], [294776, 15], [72244, 511], [73907, 413], [3938, 1030], [18950, 371], [35814, 39418], [1516551, 269350], [945431, 1197], [97810, 122], [236371, 1971], [158268, 612], [1896390, 263], [5039, 1073], [1345655, 15684], [766, 355], [3338, 1136], [1645, 386], [733, 598], [148345, 1450], [1781, 1319], [32605, 2543], [630, 737], [869, 322], [3326, 614], [640, 190], [6074, 1627], [1414, 1001], [1470, 639], [8461, 2927], [1682, 1818], [3353, 538], [583, 284], [1085, 1449], [69, 8], [1546, 407], [2032, 1503], [212, 99], [5422, 3852], [2508, 1470], [1687, 549], [158, 62], [2302, 1820], [694, 38], [1616, 1612], [1890, 1737], [3363, 505], [1706, 1636], [1823, 497], [258, 70], [3453, 810], [1194, 817], [220, 4], [405, 817], [5701, 839], [1679, 1346], [26294, 610], [123, 245], [3730729, 69319], [3384743, 234], [248775, 33876], [364554, 793], [221953, 228], [88793, 5069], [1774568, 205], [5280852, 1355], [1247212, 637], [83973264, 244], [363424, 566], [679, 1955], [2874993, 187], [2131373, 52], [5898, 956], [367, 584], [235368, 7413], [16954, 1000], [460934, 1831], [395, 105], [276691, 33346], [74164, 724], [15202, 258], [1676446, 1091], [389355, 1031], [1731, 784], [4614, 8], [17891232, 203], [611729, 104], [58928, 2577], [15895, 5310], [290033, 683], [7016, 827], [7956179, 238], [3929034, 1001], [2576846, 157], [10051, 210], [555165, 528], [42041, 489], [13260, 1009], [4423, 617], [568295, 14731], [19437, 1948], [2766, 901], [212817, 849], [9862514, 508], [5342, 2], [3079, 202], [13937086, 1068], [320727, 467], [57404, 342], [5344374, 4202], [483958, 6291], [161, 562], [538, 480], [488, 549], [4437, 1339], [2937, 3314], [300232, 1078], [14929, 682], [896072, 698], [2162, 2561], [899, 1028], [16, 43], [4783010, 620], [380529, 14], [1832233, 464], [34389, 537], [4582268, 543], [67608, 575], [3152571, 1440], [422063, 313], [250410, 90], [1616363, 159], [879543, 1142], [35816, 400], [1100599, 157], [2752, 9], [1903255, 283], [792520, 1556], [364340, 6447], [321500, 1060], [1014351, 497], [4619329, 87], [2993822, 92753], [118282, 291], [66359278, 129504], [212144, 247], [1623674, 1029], [13661447, 1433], [5248149, 46514], [29455, 202], [1583, 185], [2589, 1188], [3552, 375], [53, 202], [2809306, 154049], [12419, 911], [44305, 2928], [11360, 466], [660, 494], [458, 397], [449, 510], [2175, 184], [6487, 1697], [8659, 2842], [389, 113], [7010, 1659], [6177, 4747], [5046, 1681], [1715, 1155], [1914, 289], [3891, 1371], [98, 128], [11879, 2101], [10123, 2119], [340, 306], [126708, 1785], [961, 1749], [386025, 31], [386, 488], [336, 276], [22977, 1540], [741758, 694], [1917, 561], [19593, 7923], [40031, 554], [690, 1055], [3631, 5001], [5066, 2717], [28637, 604], [19884, 544], [1677, 814], [934075, 263], [1028, 327], [210908, 57983], [283421, 234], [224, 399], [2187, 1323], [83, 175], [1379, 414], [100478, 17364], [701312, 1239], [2592, 2426], [5289, 5788], [7706, 489], [935, 1746], [2284, 544], [434, 338], [19378, 2011], [673, 281], [429, 695], [1090, 767], [2870, 1018], [8607, 1544], [2633, 1730], [289, 293], [2215, 1334], [784, 997], [6481, 1019], [45, 204], [277, 670], [2074, 1811], [2524, 884], [985, 710], [325393, 196], [2596, 2986], [978, 365], [2936, 1930], [6749, 535], [227, 427], [2340, 555], [602, 2703], [2302, 1756], [14545, 42], [423572, 3140], [553549, 1526], [17148, 2157], [14801, 1150], [457727, 706], [477507, 230], [536260, 356], [1881985, 419], [16156, 7426], [5539, 1599], [235117, 4], [7972, 4871], [1285, 2196], [4609, 4815], [625, 577], [128, 90], [259, 396], [5018, 2986], [2326, 1591], [11612, 2166], [3419, 3787], [7972, 3053], [2412, 1683], [120, 218], [8714, 320], [4167, 1532], [7308, 6064], [199, 175], [285, 313], [2448, 2784], [24209, 6767], [2973, 1663], [1773, 1060], [9083, 492], [11016, 1738], [3992, 1016], [16963, 7515], [477, 202], [14549, 3705], [2016, 2488], [29818, 6984], [931, 1020], [14602, 932], [20, 97], [29707, 4172], [403, 1022], [3289, 1478], [20968, 25462], [947, 118], [18, 85], [242, 210], [9903, 1607], [5923, 3441], [1197, 531], [10189, 393], [217, 103], [5406, 2300], [635, 549], [8590, 3973], [457619, 428], [1986182, 1955], [374, 1942], [696, 1595], [807181, 629], [20464, 1453], [601, 1200], [6334, 2951], [310, 660], [5368, 4086], [4926, 862], [917, 732], [14018, 3323], [162, 219], [4513, 877], [42413, 41860], [484795, 5363], [5605, 574], [103635, 21497], [37914, 1757], [66339, 274], [47388, 932], [447052, 835], [99396, 3329], [96071, 1873], [64014, 29901], [2248, 776], [17928, 2298], [11991, 1234], [2218, 744], [8275, 312], [1497, 1626], [28482, 648], [374558, 5253], [1620138, 2686], [940, 1944], [390662, 7529], [10664, 3675], [7126, 1770], [7836, 5790], [410795, 3453], [103814, 5862], [1648162, 1441], [36583, 1487], [539422, 39882], [366083, 749], [84862, 7222], [3188, 2326], [175037, 3836], [3076647, 340], [13321, 6954], [727, 613], [509203, 1602], [1945, 1142], [967036, 1150], [16454, 66], [76559, 3635], [47082, 1647], [1025384, 223044], [487491, 26166], [1817129, 1314], [1029195, 3345], [17101, 14246], [18879, 1826], [5302, 3418], [7163, 1416], [11187, 2257], [886, 842], [415, 487], [1251, 955], [57184, 4662], [2107, 412], [623, 80], [219560, 10253], [808393, 8168], [941, 1917], [6796, 3680], [757, 796], [42339, 5998], [19230, 553], [13475103, 2242], [10018, 5894], [746, 1113], [285368, 463], [2476, 932], [11299, 600], [644, 265], [2517, 2249], [6940, 1089], [6913, 2929], [355, 244], [582, 611], [68959, 650], [11496, 1680], [586, 632], [156, 238], [1287, 1953], [24, 5], [2456735, 596], [5645, 768], [3922, 1689], [2019047, 261], [9925, 1995], [1739, 4616], [10748, 3852], [987, 561], [400, 464], [43, 49], [408, 544], [37585, 970], [2779, 4255], [938, 871], [36232, 614], [1002, 1214], [63987, 12832], [2756, 2030], [90, 7], [15341, 1681], [2217, 1934], [432, 87], [694, 964], [5836, 5083], [14582, 13914], [2742, 953], [1302, 1151], [7706, 1098], [603, 45], [682, 681], [361, 397], [625, 1795], [1225, 998], [27296, 5423], [3201, 576], [1032, 1064], [484, 647], [2135, 705], [374, 504], [33178, 31926], [490, 565], [89, 110], [146, 201], [1463, 2265], [323, 470], [3193, 384], [735, 636], [2278, 1209], [1072, 1014], [15522, 5725], [24032, 4426], [1273, 1979], [1899, 2265], [2172, 2609], [1055, 2213], [214, 160], [40, 34], [3854, 2045], [486, 216], [2398, 2253], [14, 4], [163, 777], [7, 17], [1487, 1880], [160, 687], [13172, 3906], [9504, 239], [8240, 1469], [3821, 1898], [16806, 9661], [7771, 1255], [2174, 1039], [314084, 1174], [67174, 228], [1102670, 457], [188163, 882], [3302, 79], [125551, 4], [7484, 348], [41282, 37121], [3594, 1679], [14982, 1008], [209533, 1353], [746432, 787], [384114, 425], [10627887, 3846], [1810547, 933], [1230, 477], [28916, 7762], [534503, 459], [4038, 1036], [2776, 825], [220845, 1596], [3701, 29], [553, 340], [20534, 1951], [239238, 859], [21070, 583], [9481, 1172], [3743526, 4995], [102, 318], [138, 444], [209315, 1939], [570, 322], [65759, 1077], [5150, 915], [2607, 163], [138, 167], [118, 3], [122433, 19140], [1151, 473], [7297, 5157], [2290, 327], [18909, 2494], [3230, 1197], [6131, 3242], [1921, 1295], [922489, 221], [1566, 1124], [59988, 7931], [24698, 1636], [21487, 693], [170, 255], [64666, 48341], [227, 561], [4991, 1195], [1152, 1972], [169, 148], [740, 301], [1328, 1978], [2239, 337], [776, 866], [42439, 181], [259, 606], [3655, 2730], [2136270, 648575], [279, 55], [5786, 115], [3401, 309], [19370, 385], [1272, 34], [6118, 0], [1697, 512], [193978, 555], [30317, 2499], [3014, 353], [5293, 324], [1137, 1281], [485089, 777], [18174, 1628], [913, 523], [190, 622], [8914656, 1694], [217362, 160461], [964492, 7841], [1015779, 105], [12678, 1934], [60394, 113], [2242998, 147], [2029, 1258], [1751551, 557], [3126663, 821], [2323, 2527], [962, 2009], [18158, 1602], [27622, 1088], [468, 711], [229947, 16837], [2677454, 2713], [20600177, 159], [5707835, 786], [179394, 1688], [8784614, 2839], [72150, 29857], [6066752, 24862], [56, 235], [429, 418], [269, 659], [109514, 1671], [109182, 117], [1278, 395], [2330, 193], [6075, 1224], [6516, 3880], [403252, 6081], [376, 379], [31068, 1437], [31995, 769], [14372105, 11], [14000884, 231], [237870, 233], [142008, 3277], [16607, 1655], [23907, 1864], [56576, 1761], [5279, 1841], [1793, 666], [6529648, 40], [1977777, 585], [4858926, 529619], [1023, 2210], [1430, 1224], [199198, 3180], [22013, 13807], [29726, 992], [2751, 2685], [7982, 5215], [15, 3], [1794, 509], [33270, 2082], [17, 8], [5666, 6456], [184, 192], [9, 13], [29625, 3316], [143, 162], [1778, 1196], [678673, 624], [3589, 1164], [770, 934], [756612, 585], [2866, 1463], [38796, 20483], [1938, 1101], [3862, 4222], [1506, 1176], [15285, 1122], [4525, 1075], [8720, 594], [61, 52], [36844253, 279]], &quot;type&quot;: &quot;scatter&quot;, &quot;color&quot;: &quot;rgba(119, 152, 191, .5)&quot;, &quot;name&quot;: &quot;Robin Hood Foundation&quot;}]; option.series = data; var chart = new Highcharts.Chart(option); }); &lt;/script&gt; &lt;/body&gt; &lt;/html&gt;\" height=400 width=850></iframe>"
      ],
      "text/plain": [
       "<highcharts.highcharts.highcharts.Highchart at 0x112156550>"
      ]
     },
     "execution_count": 10,
     "metadata": {},
     "output_type": "execute_result"
    }
   ],
   "source": [
    "af = prep_data('followers_count', 'friends_count', af_following, 'Asia Foundation')\n",
    "rh = prep_data('followers_count', 'friends_count', rh_following, 'Robin Hood Foundation')\n",
    "plot_scatter(af, rh)"
   ]
  }
 ],
 "metadata": {
  "kernelspec": {
   "display_name": "Python 3",
   "language": "python",
   "name": "python3"
  },
  "language_info": {
   "codemirror_mode": {
    "name": "ipython",
    "version": 3
   },
   "file_extension": ".py",
   "mimetype": "text/x-python",
   "name": "python",
   "nbconvert_exporter": "python",
   "pygments_lexer": "ipython3",
   "version": "3.6.0"
  }
 },
 "nbformat": 4,
 "nbformat_minor": 2
}
